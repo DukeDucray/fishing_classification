{
 "cells": [
  {
   "cell_type": "markdown",
   "metadata": {},
   "source": [
    "# Using Sample data"
   ]
  },
  {
   "cell_type": "code",
   "execution_count": 2,
   "metadata": {},
   "outputs": [
    {
     "name": "stdout",
     "output_type": "stream",
     "text": [
      "query : https://fishingclassification-hfis4rtnsq-ew.a.run.app/sample?sample_request=trawlers\n",
      "API request failed with status code: 404\n",
      "Error: \n",
      "<html><head>\n",
      "<meta http-equiv=\"content-type\" content=\"text/html;charset=utf-8\">\n",
      "<title>404 Page not found</title>\n",
      "</head>\n",
      "<body text=#000000 bgcolor=#ffffff>\n",
      "<h1>Error: Page not found</h1>\n",
      "<h2>The requested URL was not found on this server.</h2>\n",
      "<h2></h2>\n",
      "</body></html>\n",
      "\n"
     ]
    }
   ],
   "source": [
    "import requests\n",
    "\n",
    "# Define the API endpoint URL\n",
    "base_url = \"https://fishingclassification-hfis4rtnsq-ew.a.run.app\"\n",
    "endpoint = \"/sample\"\n",
    "\n",
    "# Define the parameters\n",
    "params = {\n",
    "    \"sample_request\": \"pole_and_line\"\n",
    "}\n",
    "\n",
    "print( 'query :', f\"{base_url}{endpoint}?sample_request=trawlers\")\n",
    "# Make the API request\n",
    "response = requests.get(f\"{base_url}{endpoint}\", params=params)\n",
    "\n",
    "# Check if the request was successful\n",
    "if response.status_code == 200:\n",
    "    data = response.json()\n",
    "    print(\"API good to go\")\n",
    "\n",
    "else:\n",
    "    print(\"API request failed with status code:\", response.status_code)\n",
    "    print(\"Error:\", response.text)"
   ]
  },
  {
   "cell_type": "code",
   "execution_count": 6,
   "metadata": {},
   "outputs": [
    {
     "data": {
      "text/plain": [
       "Counter({0.0: 49397, 1.0: 5790})"
      ]
     },
     "execution_count": 6,
     "metadata": {},
     "output_type": "execute_result"
    }
   ],
   "source": [
    "from collections import Counter\n",
    "\n",
    "Counter(data['is_fishing'])"
   ]
  }
 ],
 "metadata": {
  "kernelspec": {
   "display_name": "fishing_classification",
   "language": "python",
   "name": "python3"
  },
  "language_info": {
   "codemirror_mode": {
    "name": "ipython",
    "version": 3
   },
   "file_extension": ".py",
   "mimetype": "text/x-python",
   "name": "python",
   "nbconvert_exporter": "python",
   "pygments_lexer": "ipython3",
   "version": "3.10.6"
  },
  "orig_nbformat": 4
 },
 "nbformat": 4,
 "nbformat_minor": 2
}
