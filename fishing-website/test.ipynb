{
 "cells": [
  {
   "cell_type": "code",
   "execution_count": 21,
   "metadata": {},
   "outputs": [],
   "source": [
    "import requests\n",
    "import pandas as pd"
   ]
  },
  {
   "cell_type": "code",
   "execution_count": 22,
   "metadata": {},
   "outputs": [],
   "source": [
    "response = requests.get(\"https://fishingclassification-hfis4rtnsq-ew.a.run.app/sample?sample_request=pole_and_line\").json()"
   ]
  },
  {
   "cell_type": "code",
   "execution_count": 23,
   "metadata": {},
   "outputs": [],
   "source": [
    "data = pd.DataFrame(response)"
   ]
  },
  {
   "cell_type": "code",
   "execution_count": 24,
   "metadata": {},
   "outputs": [
    {
     "data": {
      "text/plain": [
       "(5790, 49397, (55187, 12))"
      ]
     },
     "execution_count": 24,
     "metadata": {},
     "output_type": "execute_result"
    }
   ],
   "source": [
    "place_lat=data[\"lat\"].tolist()\n",
    "place_lng=data[\"lon\"].tolist()\n",
    "\n",
    "df_fishing = data[data['is_fishing']==1]\n",
    "fishing = list(zip(df_fishing.lat, df_fishing.lon))\n",
    "\n",
    "df_not_fishing = data[data['is_fishing']==0]\n",
    "not_fishing = list(zip(df_not_fishing.lat, df_not_fishing.lon))\n",
    "\n",
    "len(fishing), len(not_fishing), data.shape"
   ]
  },
  {
   "cell_type": "code",
   "execution_count": 25,
   "metadata": {},
   "outputs": [
    {
     "data": {
      "text/plain": [
       "Index(['mmsi', 'distance_from_shore', 'distance_from_port', 'speed', 'course',\n",
       "       'lat', 'lon', 'month', 'day_of_week', 'hour_sin', 'hour_cos',\n",
       "       'is_fishing'],\n",
       "      dtype='object')"
      ]
     },
     "execution_count": 25,
     "metadata": {},
     "output_type": "execute_result"
    }
   ],
   "source": [
    "data.columns"
   ]
  },
  {
   "cell_type": "code",
   "execution_count": 26,
   "metadata": {},
   "outputs": [
    {
     "data": {
      "image/png": "[encoded data removed]",
      "text/plain": [
       "<Figure size 640x480 with 1 Axes>"
      ]
     },
     "metadata": {},
     "output_type": "display_data"
    }
   ],
   "source": [
    "import matplotlib.pyplot as plt\n",
    "\n",
    "# Plot a histogram of a single column in the DataFrame\n",
    "data.hist(column='distance_from_shore')\n",
    "\n",
    "# Set the title and axis labels\n",
    "plt.title('Histogram of Column Name')\n",
    "plt.xlabel('Values')\n",
    "plt.ylabel('Frequency')\n",
    "\n",
    "# Display the histogram\n",
    "plt.show()"
   ]
  },
  {
   "cell_type": "code",
   "execution_count": 27,
   "metadata": {},
   "outputs": [],
   "source": [
    "df = pd.read_csv('../data/raw_data/pole_and_line.csv')"
   ]
  },
  {
   "cell_type": "code",
   "execution_count": 28,
   "metadata": {},
   "outputs": [
    {
     "data": {
      "text/plain": [
       "(161315, 10)"
      ]
     },
     "execution_count": 28,
     "metadata": {},
     "output_type": "execute_result"
    }
   ],
   "source": [
    "df.shape"
   ]
  },
  {
   "cell_type": "code",
   "execution_count": 29,
   "metadata": {},
   "outputs": [
    {
     "data": {
      "text/plain": [
       "Index(['mmsi', 'timestamp', 'distance_from_shore', 'distance_from_port',\n",
       "       'speed', 'course', 'lat', 'lon', 'is_fishing', 'source'],\n",
       "      dtype='object')"
      ]
     },
     "execution_count": 29,
     "metadata": {},
     "output_type": "execute_result"
    }
   ],
   "source": [
    "df.columns"
   ]
  },
  {
   "cell_type": "code",
   "execution_count": 30,
   "metadata": {},
   "outputs": [
    {
     "data": {
      "text/plain": [
       "0         1.340882e+09\n",
       "1         1.340884e+09\n",
       "2         1.340885e+09\n",
       "3         1.340888e+09\n",
       "4         1.340925e+09\n",
       "              ...     \n",
       "161310    1.478701e+09\n",
       "161311    1.479122e+09\n",
       "161312    1.479191e+09\n",
       "161313    1.479202e+09\n",
       "161314    1.479251e+09\n",
       "Name: timestamp, Length: 161315, dtype: float64"
      ]
     },
     "execution_count": 30,
     "metadata": {},
     "output_type": "execute_result"
    }
   ],
   "source": [
    "df['timestamp']"
   ]
  },
  {
   "cell_type": "code",
   "execution_count": 33,
   "metadata": {},
   "outputs": [],
   "source": [
    "df['timestamp'] = pd.to_datetime(df['timestamp'], unit='s')"
   ]
  },
  {
   "cell_type": "code",
   "execution_count": 34,
   "metadata": {},
   "outputs": [],
   "source": [
    "df['date'] = df['timestamp'].dt.date\n",
    "df.drop(columns='timestamp', axis=1, inplace=True)"
   ]
  },
  {
   "cell_type": "code",
   "execution_count": 35,
   "metadata": {},
   "outputs": [
    {
     "data": {
      "text/plain": [
       "Index(['mmsi', 'distance_from_shore', 'distance_from_port', 'speed', 'course',\n",
       "       'lat', 'lon', 'is_fishing', 'source', 'date'],\n",
       "      dtype='object')"
      ]
     },
     "execution_count": 35,
     "metadata": {},
     "output_type": "execute_result"
    }
   ],
   "source": [
    "df.columns"
   ]
  },
  {
   "cell_type": "code",
   "execution_count": 39,
   "metadata": {},
   "outputs": [
    {
     "data": {
      "text/plain": [
       "0         2012-06-28\n",
       "1         2012-06-28\n",
       "2         2012-06-28\n",
       "3         2012-06-28\n",
       "4         2012-06-28\n",
       "             ...    \n",
       "161310    2016-11-09\n",
       "161311    2016-11-14\n",
       "161312    2016-11-15\n",
       "161313    2016-11-15\n",
       "161314    2016-11-15\n",
       "Name: date, Length: 161315, dtype: object"
      ]
     },
     "execution_count": 39,
     "metadata": {},
     "output_type": "execute_result"
    }
   ],
   "source": [
    "df['date']"
   ]
  },
  {
   "cell_type": "code",
   "execution_count": 41,
   "metadata": {},
   "outputs": [],
   "source": [
    "df_no_dup = df['date'].drop_duplicates()"
   ]
  },
  {
   "cell_type": "code",
   "execution_count": 43,
   "metadata": {},
   "outputs": [
    {
     "data": {
      "text/plain": [
       "((161315, 10), (1625,))"
      ]
     },
     "execution_count": 43,
     "metadata": {},
     "output_type": "execute_result"
    }
   ],
   "source": [
    "df.shape, df_no_dup.shape"
   ]
  },
  {
   "cell_type": "code",
   "execution_count": null,
   "metadata": {},
   "outputs": [],
   "source": []
  }
 ],
 "metadata": {
  "kernelspec": {
   "display_name": "fishing_classification",
   "language": "python",
   "name": "python3"
  },
  "language_info": {
   "codemirror_mode": {
    "name": "ipython",
    "version": 3
   },
   "file_extension": ".py",
   "mimetype": "text/x-python",
   "name": "python",
   "nbconvert_exporter": "python",
   "pygments_lexer": "ipython3",
   "version": "3.10.6"
  },
  "orig_nbformat": 4
 },
 "nbformat": 4,
 "nbformat_minor": 2
}
