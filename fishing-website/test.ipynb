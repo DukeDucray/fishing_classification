{
 "cells": [
  {
   "cell_type": "code",
   "execution_count": 23,
   "metadata": {},
   "outputs": [],
   "source": [
    "import requests"
   ]
  },
  {
   "cell_type": "code",
   "execution_count": 12,
   "metadata": {},
   "outputs": [],
   "source": [
    "response = requests.get(\"https://fishingclassification-hfis4rtnsq-ew.a.run.app/sample?sample_request=trawlers\").json()"
   ]
  },
  {
   "cell_type": "code",
   "execution_count": 13,
   "metadata": {},
   "outputs": [],
   "source": [
    "data = pd.DataFrame(response)"
   ]
  },
  {
   "cell_type": "code",
   "execution_count": 25,
   "metadata": {},
   "outputs": [
    {
     "data": {
      "text/plain": [
       "(9459, 124825, (134284, 12))"
      ]
     },
     "execution_count": 25,
     "metadata": {},
     "output_type": "execute_result"
    }
   ],
   "source": [
    "place_lat=data[\"lat\"].tolist()\n",
    "place_lng=data[\"lon\"].tolist()\n",
    "\n",
    "df_fishing = data[data['is_fishing']==1]\n",
    "fishing = list(zip(df_fishing.lat, df_fishing.lon))\n",
    "\n",
    "df_not_fishing = data[data['is_fishing']==0]\n",
    "not_fishing = list(zip(df_not_fishing.lat, df_not_fishing.lon))\n",
    "\n",
    "len(fishing), len(not_fishing), data.shape"
   ]
  },
  {
   "cell_type": "code",
   "execution_count": 24,
   "metadata": {},
   "outputs": [
    {
     "data": {
      "text/plain": [
       "Index(['mmsi', 'distance_from_shore', 'distance_from_port', 'speed', 'course',\n",
       "       'lat', 'lon', 'month', 'day_of_week', 'hour_sin', 'hour_cos',\n",
       "       'is_fishing'],\n",
       "      dtype='object')"
      ]
     },
     "execution_count": 24,
     "metadata": {},
     "output_type": "execute_result"
    }
   ],
   "source": [
    "data.columns"
   ]
  }
 ],
 "metadata": {
  "kernelspec": {
   "display_name": "fishing_classification",
   "language": "python",
   "name": "python3"
  },
  "language_info": {
   "codemirror_mode": {
    "name": "ipython",
    "version": 3
   },
   "file_extension": ".py",
   "mimetype": "text/x-python",
   "name": "python",
   "nbconvert_exporter": "python",
   "pygments_lexer": "ipython3",
   "version": "3.10.6"
  },
  "orig_nbformat": 4
 },
 "nbformat": 4,
 "nbformat_minor": 2
}
