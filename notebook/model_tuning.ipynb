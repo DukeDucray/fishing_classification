{
 "cells": [
  {
   "cell_type": "code",
   "execution_count": 21,
   "metadata": {},
   "outputs": [],
   "source": [
    "from tensorflow.keras import models\n",
    "from tensorflow.keras import layers\n",
    "from tensorflow.keras import optimizers, metrics\n",
    "from tensorflow.keras import regularizers\n",
    "from tensorflow.keras.layers.experimental.preprocessing import Normalization\n",
    "import pandas as pd\n",
    "import numpy as np\n",
    "import matplotlib.pyplot as plt\n",
    "from sklearn.model_selection import train_test_split\n",
    "from tensorflow.keras.callbacks import EarlyStopping"
   ]
  },
  {
   "cell_type": "code",
   "execution_count": 22,
   "metadata": {},
   "outputs": [
    {
     "data": {
      "text/html": [
       "<div>\n",
       "<style scoped>\n",
       "    .dataframe tbody tr th:only-of-type {\n",
       "        vertical-align: middle;\n",
       "    }\n",
       "\n",
       "    .dataframe tbody tr th {\n",
       "        vertical-align: top;\n",
       "    }\n",
       "\n",
       "    .dataframe thead th {\n",
       "        text-align: right;\n",
       "    }\n",
       "</style>\n",
       "<table border=\"1\" class=\"dataframe\">\n",
       "  <thead>\n",
       "    <tr style=\"text-align: right;\">\n",
       "      <th></th>\n",
       "      <th>mmsi</th>\n",
       "      <th>date</th>\n",
       "      <th>distance_from_shore</th>\n",
       "      <th>distance_from_port</th>\n",
       "      <th>speed</th>\n",
       "      <th>course</th>\n",
       "      <th>lat</th>\n",
       "      <th>lon</th>\n",
       "      <th>is_fishing</th>\n",
       "      <th>type_drifting_longlines</th>\n",
       "      <th>type_fixed_gear</th>\n",
       "      <th>type_pole_and_line</th>\n",
       "      <th>type_purse_seines</th>\n",
       "      <th>type_trawlers</th>\n",
       "      <th>type_trollers</th>\n",
       "      <th>type_unknown</th>\n",
       "      <th>year</th>\n",
       "      <th>month</th>\n",
       "      <th>day_of_week</th>\n",
       "      <th>utc_offset</th>\n",
       "    </tr>\n",
       "  </thead>\n",
       "  <tbody>\n",
       "    <tr>\n",
       "      <th>0</th>\n",
       "      <td>1.252340e+12</td>\n",
       "      <td>2015-01-01 05:08:23</td>\n",
       "      <td>0.0</td>\n",
       "      <td>0.0</td>\n",
       "      <td>0.0</td>\n",
       "      <td>128.0</td>\n",
       "      <td>52.458717</td>\n",
       "      <td>4.581316</td>\n",
       "      <td>0.0</td>\n",
       "      <td>0.0</td>\n",
       "      <td>0.0</td>\n",
       "      <td>0.0</td>\n",
       "      <td>0.0</td>\n",
       "      <td>1.0</td>\n",
       "      <td>0.0</td>\n",
       "      <td>0.0</td>\n",
       "      <td>2015</td>\n",
       "      <td>1</td>\n",
       "      <td>3</td>\n",
       "      <td>-4.0</td>\n",
       "    </tr>\n",
       "    <tr>\n",
       "      <th>1</th>\n",
       "      <td>1.252340e+12</td>\n",
       "      <td>2015-01-01 05:20:34</td>\n",
       "      <td>0.0</td>\n",
       "      <td>0.0</td>\n",
       "      <td>0.0</td>\n",
       "      <td>128.0</td>\n",
       "      <td>52.458733</td>\n",
       "      <td>4.581316</td>\n",
       "      <td>0.0</td>\n",
       "      <td>0.0</td>\n",
       "      <td>0.0</td>\n",
       "      <td>0.0</td>\n",
       "      <td>0.0</td>\n",
       "      <td>1.0</td>\n",
       "      <td>0.0</td>\n",
       "      <td>0.0</td>\n",
       "      <td>2015</td>\n",
       "      <td>1</td>\n",
       "      <td>3</td>\n",
       "      <td>-4.0</td>\n",
       "    </tr>\n",
       "    <tr>\n",
       "      <th>2</th>\n",
       "      <td>1.252340e+12</td>\n",
       "      <td>2015-01-01 05:32:53</td>\n",
       "      <td>0.0</td>\n",
       "      <td>0.0</td>\n",
       "      <td>0.0</td>\n",
       "      <td>128.0</td>\n",
       "      <td>52.458698</td>\n",
       "      <td>4.581267</td>\n",
       "      <td>0.0</td>\n",
       "      <td>0.0</td>\n",
       "      <td>0.0</td>\n",
       "      <td>0.0</td>\n",
       "      <td>0.0</td>\n",
       "      <td>1.0</td>\n",
       "      <td>0.0</td>\n",
       "      <td>0.0</td>\n",
       "      <td>2015</td>\n",
       "      <td>1</td>\n",
       "      <td>3</td>\n",
       "      <td>-4.0</td>\n",
       "    </tr>\n",
       "    <tr>\n",
       "      <th>3</th>\n",
       "      <td>1.252340e+12</td>\n",
       "      <td>2015-01-01 05:45:23</td>\n",
       "      <td>0.0</td>\n",
       "      <td>0.0</td>\n",
       "      <td>0.0</td>\n",
       "      <td>128.0</td>\n",
       "      <td>52.458698</td>\n",
       "      <td>4.581234</td>\n",
       "      <td>0.0</td>\n",
       "      <td>0.0</td>\n",
       "      <td>0.0</td>\n",
       "      <td>0.0</td>\n",
       "      <td>0.0</td>\n",
       "      <td>1.0</td>\n",
       "      <td>0.0</td>\n",
       "      <td>0.0</td>\n",
       "      <td>2015</td>\n",
       "      <td>1</td>\n",
       "      <td>3</td>\n",
       "      <td>-4.0</td>\n",
       "    </tr>\n",
       "    <tr>\n",
       "      <th>4</th>\n",
       "      <td>1.252340e+12</td>\n",
       "      <td>2015-01-01 05:57:24</td>\n",
       "      <td>0.0</td>\n",
       "      <td>0.0</td>\n",
       "      <td>0.0</td>\n",
       "      <td>128.0</td>\n",
       "      <td>52.458683</td>\n",
       "      <td>4.581183</td>\n",
       "      <td>0.0</td>\n",
       "      <td>0.0</td>\n",
       "      <td>0.0</td>\n",
       "      <td>0.0</td>\n",
       "      <td>0.0</td>\n",
       "      <td>1.0</td>\n",
       "      <td>0.0</td>\n",
       "      <td>0.0</td>\n",
       "      <td>2015</td>\n",
       "      <td>1</td>\n",
       "      <td>3</td>\n",
       "      <td>-4.0</td>\n",
       "    </tr>\n",
       "  </tbody>\n",
       "</table>\n",
       "</div>"
      ],
      "text/plain": [
       "           mmsi                 date  distance_from_shore  distance_from_port  \\\n",
       "0  1.252340e+12  2015-01-01 05:08:23                  0.0                 0.0   \n",
       "1  1.252340e+12  2015-01-01 05:20:34                  0.0                 0.0   \n",
       "2  1.252340e+12  2015-01-01 05:32:53                  0.0                 0.0   \n",
       "3  1.252340e+12  2015-01-01 05:45:23                  0.0                 0.0   \n",
       "4  1.252340e+12  2015-01-01 05:57:24                  0.0                 0.0   \n",
       "\n",
       "   speed  course        lat       lon  is_fishing  type_drifting_longlines  \\\n",
       "0    0.0   128.0  52.458717  4.581316         0.0                      0.0   \n",
       "1    0.0   128.0  52.458733  4.581316         0.0                      0.0   \n",
       "2    0.0   128.0  52.458698  4.581267         0.0                      0.0   \n",
       "3    0.0   128.0  52.458698  4.581234         0.0                      0.0   \n",
       "4    0.0   128.0  52.458683  4.581183         0.0                      0.0   \n",
       "\n",
       "   type_fixed_gear  type_pole_and_line  type_purse_seines  type_trawlers  \\\n",
       "0              0.0                 0.0                0.0            1.0   \n",
       "1              0.0                 0.0                0.0            1.0   \n",
       "2              0.0                 0.0                0.0            1.0   \n",
       "3              0.0                 0.0                0.0            1.0   \n",
       "4              0.0                 0.0                0.0            1.0   \n",
       "\n",
       "   type_trollers  type_unknown  year  month  day_of_week  utc_offset  \n",
       "0            0.0           0.0  2015      1            3        -4.0  \n",
       "1            0.0           0.0  2015      1            3        -4.0  \n",
       "2            0.0           0.0  2015      1            3        -4.0  \n",
       "3            0.0           0.0  2015      1            3        -4.0  \n",
       "4            0.0           0.0  2015      1            3        -4.0  "
      ]
     },
     "execution_count": 22,
     "metadata": {},
     "output_type": "execute_result"
    }
   ],
   "source": [
    "path = 'data/preprocessed'\n",
    "file_name = 'preproc'\n",
    "\n",
    "df = pd.read_csv(f'../{path}/{file_name}.csv')\n",
    "\n",
    "df.head()"
   ]
  },
  {
   "cell_type": "code",
   "execution_count": 23,
   "metadata": {},
   "outputs": [
    {
     "data": {
      "text/plain": [
       "(553855, 20)"
      ]
     },
     "execution_count": 23,
     "metadata": {},
     "output_type": "execute_result"
    }
   ],
   "source": [
    "df.shape"
   ]
  },
  {
   "cell_type": "markdown",
   "metadata": {},
   "source": [
    "## Keep small sample"
   ]
  },
  {
   "cell_type": "code",
   "execution_count": 24,
   "metadata": {},
   "outputs": [
    {
     "data": {
      "text/plain": [
       "(75000, 20)"
      ]
     },
     "execution_count": 24,
     "metadata": {},
     "output_type": "execute_result"
    }
   ],
   "source": [
    "sample_size = 75000 \n",
    "\n",
    "start_index = 0  \n",
    "\n",
    "# Create a smaller sequential subset\n",
    "data = df.iloc[start_index:start_index+sample_size]\n",
    "\n",
    "data.shape"
   ]
  },
  {
   "cell_type": "code",
   "execution_count": 25,
   "metadata": {},
   "outputs": [
    {
     "data": {
      "text/plain": [
       "is_fishing\n",
       "0.0    57472\n",
       "1.0    17528\n",
       "Name: count, dtype: int64"
      ]
     },
     "execution_count": 25,
     "metadata": {},
     "output_type": "execute_result"
    }
   ],
   "source": [
    "data['is_fishing'].value_counts()"
   ]
  },
  {
   "cell_type": "markdown",
   "metadata": {},
   "source": [
    "### Export small dataset"
   ]
  },
  {
   "cell_type": "code",
   "execution_count": 26,
   "metadata": {},
   "outputs": [],
   "source": [
    "output_folder = '../data/preprocessed'\n",
    "output_file = f'preproc_{int(sample_size/1000)}k.csv'\n",
    "\n",
    "# Construct the full path\n",
    "output_path = f'{output_folder}/{output_file}'\n",
    "\n",
    "# Save the DataFrame to the specified path\n",
    "data.to_csv(output_path, index=False)"
   ]
  },
  {
   "cell_type": "markdown",
   "metadata": {},
   "source": [
    "# Baseline Model: KNeighborsClassifier"
   ]
  },
  {
   "cell_type": "markdown",
   "metadata": {},
   "source": [
    "## Split Data"
   ]
  },
  {
   "cell_type": "code",
   "execution_count": 27,
   "metadata": {},
   "outputs": [
    {
     "data": {
      "text/html": [
       "<div>\n",
       "<style scoped>\n",
       "    .dataframe tbody tr th:only-of-type {\n",
       "        vertical-align: middle;\n",
       "    }\n",
       "\n",
       "    .dataframe tbody tr th {\n",
       "        vertical-align: top;\n",
       "    }\n",
       "\n",
       "    .dataframe thead th {\n",
       "        text-align: right;\n",
       "    }\n",
       "</style>\n",
       "<table border=\"1\" class=\"dataframe\">\n",
       "  <thead>\n",
       "    <tr style=\"text-align: right;\">\n",
       "      <th></th>\n",
       "      <th>mmsi</th>\n",
       "      <th>distance_from_shore</th>\n",
       "      <th>distance_from_port</th>\n",
       "      <th>speed</th>\n",
       "      <th>course</th>\n",
       "      <th>lat</th>\n",
       "      <th>lon</th>\n",
       "      <th>type_drifting_longlines</th>\n",
       "      <th>type_fixed_gear</th>\n",
       "      <th>type_pole_and_line</th>\n",
       "      <th>type_purse_seines</th>\n",
       "      <th>type_trawlers</th>\n",
       "      <th>type_trollers</th>\n",
       "      <th>type_unknown</th>\n",
       "      <th>year</th>\n",
       "      <th>month</th>\n",
       "      <th>day_of_week</th>\n",
       "    </tr>\n",
       "  </thead>\n",
       "  <tbody>\n",
       "    <tr>\n",
       "      <th>0</th>\n",
       "      <td>1.252340e+12</td>\n",
       "      <td>0.0</td>\n",
       "      <td>0.0</td>\n",
       "      <td>0.0</td>\n",
       "      <td>128.0</td>\n",
       "      <td>52.458717</td>\n",
       "      <td>4.581316</td>\n",
       "      <td>0.0</td>\n",
       "      <td>0.0</td>\n",
       "      <td>0.0</td>\n",
       "      <td>0.0</td>\n",
       "      <td>1.0</td>\n",
       "      <td>0.0</td>\n",
       "      <td>0.0</td>\n",
       "      <td>2015</td>\n",
       "      <td>1</td>\n",
       "      <td>3</td>\n",
       "    </tr>\n",
       "    <tr>\n",
       "      <th>1</th>\n",
       "      <td>1.252340e+12</td>\n",
       "      <td>0.0</td>\n",
       "      <td>0.0</td>\n",
       "      <td>0.0</td>\n",
       "      <td>128.0</td>\n",
       "      <td>52.458733</td>\n",
       "      <td>4.581316</td>\n",
       "      <td>0.0</td>\n",
       "      <td>0.0</td>\n",
       "      <td>0.0</td>\n",
       "      <td>0.0</td>\n",
       "      <td>1.0</td>\n",
       "      <td>0.0</td>\n",
       "      <td>0.0</td>\n",
       "      <td>2015</td>\n",
       "      <td>1</td>\n",
       "      <td>3</td>\n",
       "    </tr>\n",
       "    <tr>\n",
       "      <th>2</th>\n",
       "      <td>1.252340e+12</td>\n",
       "      <td>0.0</td>\n",
       "      <td>0.0</td>\n",
       "      <td>0.0</td>\n",
       "      <td>128.0</td>\n",
       "      <td>52.458698</td>\n",
       "      <td>4.581267</td>\n",
       "      <td>0.0</td>\n",
       "      <td>0.0</td>\n",
       "      <td>0.0</td>\n",
       "      <td>0.0</td>\n",
       "      <td>1.0</td>\n",
       "      <td>0.0</td>\n",
       "      <td>0.0</td>\n",
       "      <td>2015</td>\n",
       "      <td>1</td>\n",
       "      <td>3</td>\n",
       "    </tr>\n",
       "    <tr>\n",
       "      <th>3</th>\n",
       "      <td>1.252340e+12</td>\n",
       "      <td>0.0</td>\n",
       "      <td>0.0</td>\n",
       "      <td>0.0</td>\n",
       "      <td>128.0</td>\n",
       "      <td>52.458698</td>\n",
       "      <td>4.581234</td>\n",
       "      <td>0.0</td>\n",
       "      <td>0.0</td>\n",
       "      <td>0.0</td>\n",
       "      <td>0.0</td>\n",
       "      <td>1.0</td>\n",
       "      <td>0.0</td>\n",
       "      <td>0.0</td>\n",
       "      <td>2015</td>\n",
       "      <td>1</td>\n",
       "      <td>3</td>\n",
       "    </tr>\n",
       "    <tr>\n",
       "      <th>4</th>\n",
       "      <td>1.252340e+12</td>\n",
       "      <td>0.0</td>\n",
       "      <td>0.0</td>\n",
       "      <td>0.0</td>\n",
       "      <td>128.0</td>\n",
       "      <td>52.458683</td>\n",
       "      <td>4.581183</td>\n",
       "      <td>0.0</td>\n",
       "      <td>0.0</td>\n",
       "      <td>0.0</td>\n",
       "      <td>0.0</td>\n",
       "      <td>1.0</td>\n",
       "      <td>0.0</td>\n",
       "      <td>0.0</td>\n",
       "      <td>2015</td>\n",
       "      <td>1</td>\n",
       "      <td>3</td>\n",
       "    </tr>\n",
       "    <tr>\n",
       "      <th>5</th>\n",
       "      <td>1.252340e+12</td>\n",
       "      <td>0.0</td>\n",
       "      <td>0.0</td>\n",
       "      <td>0.0</td>\n",
       "      <td>128.0</td>\n",
       "      <td>52.458683</td>\n",
       "      <td>4.581250</td>\n",
       "      <td>0.0</td>\n",
       "      <td>0.0</td>\n",
       "      <td>0.0</td>\n",
       "      <td>0.0</td>\n",
       "      <td>1.0</td>\n",
       "      <td>0.0</td>\n",
       "      <td>0.0</td>\n",
       "      <td>2015</td>\n",
       "      <td>1</td>\n",
       "      <td>3</td>\n",
       "    </tr>\n",
       "    <tr>\n",
       "      <th>6</th>\n",
       "      <td>1.252340e+12</td>\n",
       "      <td>0.0</td>\n",
       "      <td>0.0</td>\n",
       "      <td>0.0</td>\n",
       "      <td>128.0</td>\n",
       "      <td>52.458698</td>\n",
       "      <td>4.581200</td>\n",
       "      <td>0.0</td>\n",
       "      <td>0.0</td>\n",
       "      <td>0.0</td>\n",
       "      <td>0.0</td>\n",
       "      <td>1.0</td>\n",
       "      <td>0.0</td>\n",
       "      <td>0.0</td>\n",
       "      <td>2015</td>\n",
       "      <td>1</td>\n",
       "      <td>3</td>\n",
       "    </tr>\n",
       "    <tr>\n",
       "      <th>7</th>\n",
       "      <td>1.252340e+12</td>\n",
       "      <td>0.0</td>\n",
       "      <td>0.0</td>\n",
       "      <td>0.0</td>\n",
       "      <td>128.0</td>\n",
       "      <td>52.458698</td>\n",
       "      <td>4.581200</td>\n",
       "      <td>0.0</td>\n",
       "      <td>0.0</td>\n",
       "      <td>0.0</td>\n",
       "      <td>0.0</td>\n",
       "      <td>1.0</td>\n",
       "      <td>0.0</td>\n",
       "      <td>0.0</td>\n",
       "      <td>2015</td>\n",
       "      <td>1</td>\n",
       "      <td>3</td>\n",
       "    </tr>\n",
       "    <tr>\n",
       "      <th>8</th>\n",
       "      <td>1.252340e+12</td>\n",
       "      <td>0.0</td>\n",
       "      <td>0.0</td>\n",
       "      <td>0.0</td>\n",
       "      <td>128.0</td>\n",
       "      <td>52.458668</td>\n",
       "      <td>4.581267</td>\n",
       "      <td>0.0</td>\n",
       "      <td>0.0</td>\n",
       "      <td>0.0</td>\n",
       "      <td>0.0</td>\n",
       "      <td>1.0</td>\n",
       "      <td>0.0</td>\n",
       "      <td>0.0</td>\n",
       "      <td>2015</td>\n",
       "      <td>1</td>\n",
       "      <td>3</td>\n",
       "    </tr>\n",
       "    <tr>\n",
       "      <th>9</th>\n",
       "      <td>1.252340e+12</td>\n",
       "      <td>0.0</td>\n",
       "      <td>0.0</td>\n",
       "      <td>0.0</td>\n",
       "      <td>128.0</td>\n",
       "      <td>52.458618</td>\n",
       "      <td>4.581234</td>\n",
       "      <td>0.0</td>\n",
       "      <td>0.0</td>\n",
       "      <td>0.0</td>\n",
       "      <td>0.0</td>\n",
       "      <td>1.0</td>\n",
       "      <td>0.0</td>\n",
       "      <td>0.0</td>\n",
       "      <td>2015</td>\n",
       "      <td>1</td>\n",
       "      <td>3</td>\n",
       "    </tr>\n",
       "  </tbody>\n",
       "</table>\n",
       "</div>"
      ],
      "text/plain": [
       "           mmsi  distance_from_shore  distance_from_port  speed  course  \\\n",
       "0  1.252340e+12                  0.0                 0.0    0.0   128.0   \n",
       "1  1.252340e+12                  0.0                 0.0    0.0   128.0   \n",
       "2  1.252340e+12                  0.0                 0.0    0.0   128.0   \n",
       "3  1.252340e+12                  0.0                 0.0    0.0   128.0   \n",
       "4  1.252340e+12                  0.0                 0.0    0.0   128.0   \n",
       "5  1.252340e+12                  0.0                 0.0    0.0   128.0   \n",
       "6  1.252340e+12                  0.0                 0.0    0.0   128.0   \n",
       "7  1.252340e+12                  0.0                 0.0    0.0   128.0   \n",
       "8  1.252340e+12                  0.0                 0.0    0.0   128.0   \n",
       "9  1.252340e+12                  0.0                 0.0    0.0   128.0   \n",
       "\n",
       "         lat       lon  type_drifting_longlines  type_fixed_gear  \\\n",
       "0  52.458717  4.581316                      0.0              0.0   \n",
       "1  52.458733  4.581316                      0.0              0.0   \n",
       "2  52.458698  4.581267                      0.0              0.0   \n",
       "3  52.458698  4.581234                      0.0              0.0   \n",
       "4  52.458683  4.581183                      0.0              0.0   \n",
       "5  52.458683  4.581250                      0.0              0.0   \n",
       "6  52.458698  4.581200                      0.0              0.0   \n",
       "7  52.458698  4.581200                      0.0              0.0   \n",
       "8  52.458668  4.581267                      0.0              0.0   \n",
       "9  52.458618  4.581234                      0.0              0.0   \n",
       "\n",
       "   type_pole_and_line  type_purse_seines  type_trawlers  type_trollers  \\\n",
       "0                 0.0                0.0            1.0            0.0   \n",
       "1                 0.0                0.0            1.0            0.0   \n",
       "2                 0.0                0.0            1.0            0.0   \n",
       "3                 0.0                0.0            1.0            0.0   \n",
       "4                 0.0                0.0            1.0            0.0   \n",
       "5                 0.0                0.0            1.0            0.0   \n",
       "6                 0.0                0.0            1.0            0.0   \n",
       "7                 0.0                0.0            1.0            0.0   \n",
       "8                 0.0                0.0            1.0            0.0   \n",
       "9                 0.0                0.0            1.0            0.0   \n",
       "\n",
       "   type_unknown  year  month  day_of_week  \n",
       "0           0.0  2015      1            3  \n",
       "1           0.0  2015      1            3  \n",
       "2           0.0  2015      1            3  \n",
       "3           0.0  2015      1            3  \n",
       "4           0.0  2015      1            3  \n",
       "5           0.0  2015      1            3  \n",
       "6           0.0  2015      1            3  \n",
       "7           0.0  2015      1            3  \n",
       "8           0.0  2015      1            3  \n",
       "9           0.0  2015      1            3  "
      ]
     },
     "execution_count": 27,
     "metadata": {},
     "output_type": "execute_result"
    }
   ],
   "source": [
    "X = data.drop('is_fishing', axis=1)\n",
    "X = X.drop('date', axis=1)\n",
    "X = X.drop('utc_offset', axis=1)\n",
    "y = data['is_fishing']\n",
    "\n",
    "X_train, X_test, y_train, y_test = train_test_split(X, y, test_size=0.3, shuffle=False)\n",
    "\n",
    "X_train.head(10)"
   ]
  },
  {
   "cell_type": "code",
   "execution_count": 28,
   "metadata": {},
   "outputs": [
    {
     "data": {
      "text/plain": [
       "(52500, 17)"
      ]
     },
     "execution_count": 28,
     "metadata": {},
     "output_type": "execute_result"
    }
   ],
   "source": [
    "X_train.shape"
   ]
  },
  {
   "cell_type": "markdown",
   "metadata": {},
   "source": [
    "## Model  => Look a precision"
   ]
  },
  {
   "cell_type": "code",
   "execution_count": 29,
   "metadata": {},
   "outputs": [],
   "source": [
    "from sklearn.pipeline import Pipeline\n",
    "from sklearn.preprocessing import StandardScaler\n",
    "from sklearn.neighbors import KNeighborsClassifier\n",
    "from sklearn.metrics import accuracy_score, precision_score"
   ]
  },
  {
   "cell_type": "code",
   "execution_count": 30,
   "metadata": {},
   "outputs": [
    {
     "name": "stdout",
     "output_type": "stream",
     "text": [
      "Accuracy: 0.67\n",
      "Precision: 0.45\n"
     ]
    }
   ],
   "source": [
    "# Create a pipeline\n",
    "pipeline = Pipeline([\n",
    "    ('scaler', StandardScaler()),         # Step 1: Standardize features\n",
    "    ('knn', KNeighborsClassifier(n_neighbors=3))  # Step 2: K-Nearest Neighbors model\n",
    "])\n",
    "\n",
    "# Fit the pipeline on the training data\n",
    "pipeline.fit(X_train, y_train)\n",
    "\n",
    "# Predict on the test data\n",
    "y_pred = pipeline.predict(X_test)\n",
    "\n",
    "# Calculate accuracy\n",
    "accuracy = accuracy_score(y_test, y_pred)\n",
    "print(f\"Accuracy: {accuracy:.2f}\")\n",
    "\n",
    "# Calculate precision\n",
    "precision = precision_score(y_test, y_pred)\n",
    "print(f\"Precision: {precision:.2f}\")"
   ]
  },
  {
   "cell_type": "markdown",
   "metadata": {},
   "source": [
    "# Recurrent Neutal Network setup"
   ]
  },
  {
   "cell_type": "markdown",
   "metadata": {},
   "source": [
    "## Data prep"
   ]
  },
  {
   "cell_type": "code",
   "execution_count": 31,
   "metadata": {},
   "outputs": [
    {
     "name": "stdout",
     "output_type": "stream",
     "text": [
      "Total number of vessels in our small dataset:  27\n"
     ]
    }
   ],
   "source": [
    "number_vessel=data['mmsi'].value_counts().count()\n",
    "print('Total number of vessels in our small dataset: ', number_vessel)"
   ]
  },
  {
   "cell_type": "markdown",
   "metadata": {},
   "source": [
    "### Split data by vessels"
   ]
  },
  {
   "cell_type": "code",
   "execution_count": 32,
   "metadata": {},
   "outputs": [],
   "source": [
    "X = data.drop('date', axis=1)\n",
    "X = X.drop('utc_offset', axis=1)"
   ]
  },
  {
   "cell_type": "code",
   "execution_count": 33,
   "metadata": {},
   "outputs": [],
   "source": [
    "grouped = X.groupby('mmsi')\n",
    "\n",
    "# List to store the NumPy arrays for each group\n",
    "X_group_arrays = []\n",
    "y_group_arrays = []\n",
    "\n",
    "# Iterate through each group and store the data as a NumPy array\n",
    "for mmsi_value, group_df in grouped:\n",
    "    # 'group_df' contains the subset of data for the current 'mmsi' group\n",
    "    # Convert the relevant columns to a NumPy array and append it to the list\n",
    "    X_group_array = group_df.drop('is_fishing', axis=1).values\n",
    "    X_group_arrays.append(X_group_array)\n",
    "    \n",
    "    y_group_array = group_df['is_fishing'].values\n",
    "    y_group_arrays.append(y_group_array)\n",
    "    \n",
    "assert(len(X_group_arrays) == number_vessel)\n",
    "assert(len(y_group_arrays) == number_vessel)\n"
   ]
  },
  {
   "cell_type": "markdown",
   "metadata": {},
   "source": [
    "### Padding"
   ]
  },
  {
   "cell_type": "code",
   "execution_count": 34,
   "metadata": {},
   "outputs": [
    {
     "name": "stdout",
     "output_type": "stream",
     "text": [
      "X_train_pad shape:  (27, 10592, 17)\n"
     ]
    }
   ],
   "source": [
    "from tensorflow.keras.preprocessing.sequence import pad_sequences\n",
    "\n",
    "X_pad = pad_sequences(X_group_arrays, dtype='float32', padding='post', value=-1000)\n",
    "print('X_train_pad shape: ',X_pad.shape)\n",
    "\n"
   ]
  },
  {
   "cell_type": "markdown",
   "metadata": {},
   "source": [
    "### Split train / test"
   ]
  },
  {
   "cell_type": "code",
   "execution_count": 35,
   "metadata": {},
   "outputs": [
    {
     "name": "stdout",
     "output_type": "stream",
     "text": [
      "(18, 10592, 17)\n",
      "(9, 10592, 17)\n",
      "\n",
      "18\n",
      "9\n"
     ]
    }
   ],
   "source": [
    "X_train, X_test, y_train, y_test = train_test_split(X_pad, y_group_arrays, test_size=0.3, shuffle=False)\n",
    "\n",
    "print(X_train.shape)\n",
    "print(X_test.shape)\n",
    "\n",
    "print()\n",
    "print(len(y_train))\n",
    "print(len(y_test))"
   ]
  },
  {
   "cell_type": "markdown",
   "metadata": {},
   "source": [
    "### Convert y_train into 2D array  (None, 1)  -> None = number of total data point"
   ]
  },
  {
   "cell_type": "code",
   "execution_count": 36,
   "metadata": {},
   "outputs": [
    {
     "name": "stdout",
     "output_type": "stream",
     "text": [
      "(48793, 1)\n",
      "(26207, 1)\n",
      "total data points:  75000\n"
     ]
    }
   ],
   "source": [
    "concatenated_array = np.concatenate(y_train, axis=0)\n",
    "y_train_array = np.expand_dims(concatenated_array, axis=-1)\n",
    "\n",
    "concatenated_array = np.concatenate(y_test, axis=0)\n",
    "y_test_array = np.expand_dims(concatenated_array, axis=-1)\n",
    "\n",
    "print(y_train_array.shape)\n",
    "print(y_test_array.shape)\n",
    "\n",
    "total_data = y_train_array.shape[0] + y_test_array.shape[0]\n",
    "\n",
    "print('total data points: ', total_data)\n"
   ]
  },
  {
   "cell_type": "markdown",
   "metadata": {},
   "source": [
    "### Length distribution of data points per vessels"
   ]
  },
  {
   "cell_type": "code",
   "execution_count": 37,
   "metadata": {},
   "outputs": [
    {
     "data": {
      "text/plain": [
       "(array([7., 5., 4., 8., 1., 1., 0., 0., 0., 1.]),\n",
       " array([  171. ,  1213.1,  2255.2,  3297.3,  4339.4,  5381.5,  6423.6,\n",
       "         7465.7,  8507.8,  9549.9, 10592. ]),\n",
       " <BarContainer object of 10 artists>)"
      ]
     },
     "execution_count": 37,
     "metadata": {},
     "output_type": "execute_result"
    },
    {
     "data": {
      "image/png": "[encoded data removed]",
      "text/plain": [
       "<Figure size 640x480 with 1 Axes>"
      ]
     },
     "metadata": {},
     "output_type": "display_data"
    }
   ],
   "source": [
    "lengths = [len(group_array) for group_array in X_group_arrays]\n",
    "plt.hist(lengths)"
   ]
  },
  {
   "cell_type": "markdown",
   "metadata": {},
   "source": [
    "## init_model"
   ]
  },
  {
   "cell_type": "code",
   "execution_count": 19,
   "metadata": {},
   "outputs": [],
   "source": [
    "# def init_model(input_shape):\n",
    "    \n",
    "\n",
    "    # 1 - RNN architecture\n",
    "    # ======================    \n",
    "    # model = models.Sequential()    \n",
    "    # # Normalizing Inputs\n",
    "    # # model.add(normalizer)\n",
    "    \n",
    "    # # Recurrent Layer\n",
    "    # model.add(layers.LSTM(units=64, activation='tanh', return_sequences=False, \n",
    "    #                       recurrent_dropout=0.5, dropout=0.5, input_shape=input_shape))\n",
    "    \n",
    "    # # Hidden Dense Layer that we are regularizing\n",
    "    # # reg_l2 = regularizers.L2(0.5)\n",
    "    # # model.add(layers.Dense(32, activation=\"relu\", kernel_regularizer = reg_l2))\n",
    "    \n",
    "    # model.add(layers.Dense(32, activation=\"relu\"))\n",
    "    # model.add(layers.Dropout(rate=0.5))\n",
    "    \n",
    "    # # Predictive Dense Layer\n",
    "    # ### model.add(layers.Dense(1, activation='linear'))  \n",
    "    \n",
    "    # model.add(layers.Dense(1, activation='sigmoid'))\n",
    "    \n",
    "    # # model.build(input_shape=(None, input_shape)) \n",
    " \n",
    "\n",
    "    # model.compile(loss='binary_crossentropy', optimizer='adam', metrics=[\"accuracy\"])\n",
    "\n",
    "    # return model"
   ]
  },
  {
   "cell_type": "code",
   "execution_count": 50,
   "metadata": {},
   "outputs": [],
   "source": [
    "def init_model(X_train):\n",
    "    model = models.Sequential() \n",
    "    \n",
    "    model.add(\n",
    "        layers.Masking(\n",
    "            mask_value=-1000, \n",
    "            input_shape=(X_train.shape[1], X_train.shape[2])\n",
    "                       )\n",
    "        )\n",
    "    \n",
    "    model.add(layers.LSTM(64, activation='tanh'))\n",
    "    \n",
    "    model.add(layers.Dense(1, activation='sigmoid'))\n",
    "    \n",
    "    initial_learning_rate = 0.1\n",
    "    optimizer = optimizers.Adam(learning_rate=initial_learning_rate)\n",
    "    \n",
    "    model.compile(loss='binary_crossentropy', optimizer=optimizer, metrics=[metrics.Precision(), metrics.Accuracy()])\n",
    "    \n",
    "    return model"
   ]
  },
  {
   "cell_type": "markdown",
   "metadata": {},
   "source": [
    "# Model test and tuning"
   ]
  },
  {
   "cell_type": "code",
   "execution_count": 51,
   "metadata": {},
   "outputs": [
    {
     "data": {
      "text/plain": [
       "(10592, 17)"
      ]
     },
     "execution_count": 51,
     "metadata": {},
     "output_type": "execute_result"
    }
   ],
   "source": [
    "input_shape = (X_train.shape[1], X_train.shape[2])\n",
    "input_shape"
   ]
  },
  {
   "cell_type": "code",
   "execution_count": 52,
   "metadata": {},
   "outputs": [
    {
     "name": "stdout",
     "output_type": "stream",
     "text": [
      "Model: \"sequential_2\"\n",
      "_________________________________________________________________\n",
      " Layer (type)                Output Shape              Param #   \n",
      "=================================================================\n",
      " masking_2 (Masking)         (None, 10592, 17)         0         \n",
      "                                                                 \n",
      " lstm_2 (LSTM)               (None, 64)                20992     \n",
      "                                                                 \n",
      " dense_2 (Dense)             (None, 1)                 65        \n",
      "                                                                 \n",
      "=================================================================\n",
      "Total params: 21,057\n",
      "Trainable params: 21,057\n",
      "Non-trainable params: 0\n",
      "_________________________________________________________________\n"
     ]
    }
   ],
   "source": [
    "model = init_model(X_train)\n",
    "model.summary()"
   ]
  },
  {
   "cell_type": "code",
   "execution_count": 53,
   "metadata": {},
   "outputs": [
    {
     "data": {
      "text/plain": [
       "array([0., 1.])"
      ]
     },
     "execution_count": 53,
     "metadata": {},
     "output_type": "execute_result"
    }
   ],
   "source": [
    "np.unique(y_train_array)"
   ]
  },
  {
   "cell_type": "code",
   "execution_count": 54,
   "metadata": {},
   "outputs": [
    {
     "name": "stdout",
     "output_type": "stream",
     "text": [
      "Epoch 1/100\n",
      "1/1 [==============================] - 17s 17s/step - loss: 0.8218 - precision_2: 0.0000e+00 - accuracy: 0.0000e+00 - val_loss: 0.2320 - val_precision_2: 0.0000e+00 - val_accuracy: 0.0000e+00 - lr: 0.1000\n",
      "Epoch 2/100\n",
      "1/1 [==============================] - 8s 8s/step - loss: 0.2320 - precision_2: 0.0000e+00 - accuracy: 0.0000e+00 - val_loss: 0.0621 - val_precision_2: 0.0000e+00 - val_accuracy: 0.0000e+00 - lr: 0.1000\n",
      "Epoch 3/100\n",
      "1/1 [==============================] - 8s 8s/step - loss: 0.0621 - precision_2: 0.0000e+00 - accuracy: 0.0000e+00 - val_loss: 0.0194 - val_precision_2: 0.0000e+00 - val_accuracy: 0.0000e+00 - lr: 0.1000\n",
      "Epoch 4/100\n",
      "1/1 [==============================] - 9s 9s/step - loss: 0.0194 - precision_2: 0.0000e+00 - accuracy: 0.0000e+00 - val_loss: 0.0072 - val_precision_2: 0.0000e+00 - val_accuracy: 0.0000e+00 - lr: 0.1000\n",
      "Epoch 5/100\n",
      "1/1 [==============================] - 8s 8s/step - loss: 0.0072 - precision_2: 0.0000e+00 - accuracy: 0.0000e+00 - val_loss: 0.0031 - val_precision_2: 0.0000e+00 - val_accuracy: 0.0000e+00 - lr: 0.1000\n",
      "Epoch 6/100\n",
      "1/1 [==============================] - 8s 8s/step - loss: 0.0031 - precision_2: 0.0000e+00 - accuracy: 0.0000e+00 - val_loss: 0.0015 - val_precision_2: 0.0000e+00 - val_accuracy: 0.0000e+00 - lr: 0.1000\n",
      "Epoch 7/100\n",
      "1/1 [==============================] - 8s 8s/step - loss: 0.0015 - precision_2: 0.0000e+00 - accuracy: 0.0000e+00 - val_loss: 7.6868e-04 - val_precision_2: 0.0000e+00 - val_accuracy: 0.0000e+00 - lr: 0.1000\n",
      "Epoch 8/100\n",
      "1/1 [==============================] - 8s 8s/step - loss: 7.6868e-04 - precision_2: 0.0000e+00 - accuracy: 0.0000e+00 - val_loss: 4.3373e-04 - val_precision_2: 0.0000e+00 - val_accuracy: 0.0000e+00 - lr: 0.1000\n",
      "Epoch 9/100\n",
      "1/1 [==============================] - 8s 8s/step - loss: 4.3373e-04 - precision_2: 0.0000e+00 - accuracy: 0.0000e+00 - val_loss: 2.6081e-04 - val_precision_2: 0.0000e+00 - val_accuracy: 0.0000e+00 - lr: 0.1000\n",
      "Epoch 10/100\n",
      "1/1 [==============================] - 8s 8s/step - loss: 2.6081e-04 - precision_2: 0.0000e+00 - accuracy: 0.0000e+00 - val_loss: 1.6559e-04 - val_precision_2: 0.0000e+00 - val_accuracy: 0.0000e+00 - lr: 0.1000\n",
      "Epoch 11/100\n",
      "1/1 [==============================] - 8s 8s/step - loss: 1.6559e-04 - precision_2: 0.0000e+00 - accuracy: 0.0000e+00 - val_loss: 1.1018e-04 - val_precision_2: 0.0000e+00 - val_accuracy: 0.0000e+00 - lr: 0.1000\n",
      "Epoch 12/100\n",
      "1/1 [==============================] - 8s 8s/step - loss: 1.1018e-04 - precision_2: 0.0000e+00 - accuracy: 0.0000e+00 - val_loss: 7.6378e-05 - val_precision_2: 0.0000e+00 - val_accuracy: 0.0000e+00 - lr: 0.1000\n",
      "Epoch 13/100\n",
      "1/1 [==============================] - 8s 8s/step - loss: 7.6378e-05 - precision_2: 0.0000e+00 - accuracy: 0.0000e+00 - val_loss: 5.4886e-05 - val_precision_2: 0.0000e+00 - val_accuracy: 0.0000e+00 - lr: 0.1000\n",
      "Epoch 14/100\n",
      "1/1 [==============================] - 9s 9s/step - loss: 5.4886e-05 - precision_2: 0.0000e+00 - accuracy: 0.0000e+00 - val_loss: 4.0718e-05 - val_precision_2: 0.0000e+00 - val_accuracy: 0.0000e+00 - lr: 0.1000\n",
      "Epoch 15/100\n",
      "1/1 [==============================] - 8s 8s/step - loss: 4.0718e-05 - precision_2: 0.0000e+00 - accuracy: 0.0000e+00 - val_loss: 3.1075e-05 - val_precision_2: 0.0000e+00 - val_accuracy: 0.0000e+00 - lr: 0.1000\n",
      "Epoch 16/100\n",
      "1/1 [==============================] - ETA: 0s - loss: 3.1075e-05 - precision_2: 0.0000e+00 - accuracy: 0.0000e+00\n",
      "Epoch 16: ReduceLROnPlateau reducing learning rate to 0.05000000074505806.\n",
      "1/1 [==============================] - 9s 9s/step - loss: 3.1075e-05 - precision_2: 0.0000e+00 - accuracy: 0.0000e+00 - val_loss: 2.4323e-05 - val_precision_2: 0.0000e+00 - val_accuracy: 0.0000e+00 - lr: 0.1000\n",
      "Epoch 17/100\n",
      "1/1 [==============================] - 8s 8s/step - loss: 2.4323e-05 - precision_2: 0.0000e+00 - accuracy: 0.0000e+00 - val_loss: 2.1764e-05 - val_precision_2: 0.0000e+00 - val_accuracy: 0.0000e+00 - lr: 0.0500\n",
      "Epoch 18/100\n",
      "1/1 [==============================] - 9s 9s/step - loss: 2.1764e-05 - precision_2: 0.0000e+00 - accuracy: 0.0000e+00 - val_loss: 1.9674e-05 - val_precision_2: 0.0000e+00 - val_accuracy: 0.0000e+00 - lr: 0.0500\n",
      "Epoch 19/100\n",
      "1/1 [==============================] - 8s 8s/step - loss: 1.9674e-05 - precision_2: 0.0000e+00 - accuracy: 0.0000e+00 - val_loss: 1.7949e-05 - val_precision_2: 0.0000e+00 - val_accuracy: 0.0000e+00 - lr: 0.0500\n",
      "Epoch 20/100\n",
      "1/1 [==============================] - 8s 8s/step - loss: 1.7949e-05 - precision_2: 0.0000e+00 - accuracy: 0.0000e+00 - val_loss: 1.6512e-05 - val_precision_2: 0.0000e+00 - val_accuracy: 0.0000e+00 - lr: 0.0500\n",
      "Epoch 21/100\n",
      "1/1 [==============================] - ETA: 0s - loss: 1.6512e-05 - precision_2: 0.0000e+00 - accuracy: 0.0000e+00\n",
      "Epoch 21: ReduceLROnPlateau reducing learning rate to 0.02500000037252903.\n",
      "1/1 [==============================] - 8s 8s/step - loss: 1.6512e-05 - precision_2: 0.0000e+00 - accuracy: 0.0000e+00 - val_loss: 1.5304e-05 - val_precision_2: 0.0000e+00 - val_accuracy: 0.0000e+00 - lr: 0.0500\n",
      "Epoch 22/100\n",
      "1/1 [==============================] - 9s 9s/step - loss: 1.5304e-05 - precision_2: 0.0000e+00 - accuracy: 0.0000e+00 - val_loss: 1.4784e-05 - val_precision_2: 0.0000e+00 - val_accuracy: 0.0000e+00 - lr: 0.0250\n",
      "Epoch 23/100\n",
      "1/1 [==============================] - 8s 8s/step - loss: 1.4784e-05 - precision_2: 0.0000e+00 - accuracy: 0.0000e+00 - val_loss: 1.4326e-05 - val_precision_2: 0.0000e+00 - val_accuracy: 0.0000e+00 - lr: 0.0250\n",
      "Epoch 24/100\n",
      "1/1 [==============================] - 9s 9s/step - loss: 1.4326e-05 - precision_2: 0.0000e+00 - accuracy: 0.0000e+00 - val_loss: 1.3921e-05 - val_precision_2: 0.0000e+00 - val_accuracy: 0.0000e+00 - lr: 0.0250\n",
      "Epoch 25/100\n",
      "1/1 [==============================] - 8s 8s/step - loss: 1.3921e-05 - precision_2: 0.0000e+00 - accuracy: 0.0000e+00 - val_loss: 1.3562e-05 - val_precision_2: 0.0000e+00 - val_accuracy: 0.0000e+00 - lr: 0.0250\n",
      "Epoch 26/100\n",
      "1/1 [==============================] - ETA: 0s - loss: 1.3562e-05 - precision_2: 0.0000e+00 - accuracy: 0.0000e+00\n",
      "Epoch 26: ReduceLROnPlateau reducing learning rate to 0.012500000186264515.\n",
      "1/1 [==============================] - 8s 8s/step - loss: 1.3562e-05 - precision_2: 0.0000e+00 - accuracy: 0.0000e+00 - val_loss: 1.3243e-05 - val_precision_2: 0.0000e+00 - val_accuracy: 0.0000e+00 - lr: 0.0250\n",
      "Epoch 27/100\n",
      "1/1 [==============================] - 8s 8s/step - loss: 1.3243e-05 - precision_2: 0.0000e+00 - accuracy: 0.0000e+00 - val_loss: 1.3100e-05 - val_precision_2: 0.0000e+00 - val_accuracy: 0.0000e+00 - lr: 0.0125\n",
      "Epoch 28/100\n",
      "1/1 [==============================] - 8s 8s/step - loss: 1.3100e-05 - precision_2: 0.0000e+00 - accuracy: 0.0000e+00 - val_loss: 1.2971e-05 - val_precision_2: 0.0000e+00 - val_accuracy: 0.0000e+00 - lr: 0.0125\n",
      "Epoch 29/100\n",
      "1/1 [==============================] - 8s 8s/step - loss: 1.2971e-05 - precision_2: 0.0000e+00 - accuracy: 0.0000e+00 - val_loss: 1.2855e-05 - val_precision_2: 0.0000e+00 - val_accuracy: 0.0000e+00 - lr: 0.0125\n",
      "Epoch 30/100\n",
      "1/1 [==============================] - 9s 9s/step - loss: 1.2855e-05 - precision_2: 0.0000e+00 - accuracy: 0.0000e+00 - val_loss: 1.2749e-05 - val_precision_2: 0.0000e+00 - val_accuracy: 0.0000e+00 - lr: 0.0125\n",
      "Epoch 31/100\n",
      "1/1 [==============================] - ETA: 0s - loss: 1.2749e-05 - precision_2: 0.0000e+00 - accuracy: 0.0000e+00\n",
      "Epoch 31: ReduceLROnPlateau reducing learning rate to 0.0062500000931322575.\n",
      "1/1 [==============================] - 9s 9s/step - loss: 1.2749e-05 - precision_2: 0.0000e+00 - accuracy: 0.0000e+00 - val_loss: 1.2654e-05 - val_precision_2: 0.0000e+00 - val_accuracy: 0.0000e+00 - lr: 0.0125\n",
      "Epoch 32/100\n",
      "1/1 [==============================] - 10s 10s/step - loss: 1.2654e-05 - precision_2: 0.0000e+00 - accuracy: 0.0000e+00 - val_loss: 1.2611e-05 - val_precision_2: 0.0000e+00 - val_accuracy: 0.0000e+00 - lr: 0.0063\n",
      "Epoch 33/100\n",
      "1/1 [==============================] - 8s 8s/step - loss: 1.2611e-05 - precision_2: 0.0000e+00 - accuracy: 0.0000e+00 - val_loss: 1.2572e-05 - val_precision_2: 0.0000e+00 - val_accuracy: 0.0000e+00 - lr: 0.0063\n",
      "Epoch 34/100\n",
      "1/1 [==============================] - 8s 8s/step - loss: 1.2572e-05 - precision_2: 0.0000e+00 - accuracy: 0.0000e+00 - val_loss: 1.2537e-05 - val_precision_2: 0.0000e+00 - val_accuracy: 0.0000e+00 - lr: 0.0063\n",
      "Epoch 35/100\n",
      "1/1 [==============================] - 8s 8s/step - loss: 1.2537e-05 - precision_2: 0.0000e+00 - accuracy: 0.0000e+00 - val_loss: 1.2504e-05 - val_precision_2: 0.0000e+00 - val_accuracy: 0.0000e+00 - lr: 0.0063\n",
      "Epoch 36/100\n",
      "1/1 [==============================] - ETA: 0s - loss: 1.2504e-05 - precision_2: 0.0000e+00 - accuracy: 0.0000e+00\n",
      "Epoch 36: ReduceLROnPlateau reducing learning rate to 0.0031250000465661287.\n",
      "1/1 [==============================] - 8s 8s/step - loss: 1.2504e-05 - precision_2: 0.0000e+00 - accuracy: 0.0000e+00 - val_loss: 1.2475e-05 - val_precision_2: 0.0000e+00 - val_accuracy: 0.0000e+00 - lr: 0.0063\n",
      "Epoch 37/100\n",
      "1/1 [==============================] - 8s 8s/step - loss: 1.2475e-05 - precision_2: 0.0000e+00 - accuracy: 0.0000e+00 - val_loss: 1.2462e-05 - val_precision_2: 0.0000e+00 - val_accuracy: 0.0000e+00 - lr: 0.0031\n",
      "Epoch 38/100\n",
      "1/1 [==============================] - 8s 8s/step - loss: 1.2462e-05 - precision_2: 0.0000e+00 - accuracy: 0.0000e+00 - val_loss: 1.2449e-05 - val_precision_2: 0.0000e+00 - val_accuracy: 0.0000e+00 - lr: 0.0031\n",
      "Epoch 39/100\n",
      "1/1 [==============================] - 9s 9s/step - loss: 1.2449e-05 - precision_2: 0.0000e+00 - accuracy: 0.0000e+00 - val_loss: 1.2438e-05 - val_precision_2: 0.0000e+00 - val_accuracy: 0.0000e+00 - lr: 0.0031\n",
      "Epoch 40/100\n",
      "1/1 [==============================] - 8s 8s/step - loss: 1.2438e-05 - precision_2: 0.0000e+00 - accuracy: 0.0000e+00 - val_loss: 1.2428e-05 - val_precision_2: 0.0000e+00 - val_accuracy: 0.0000e+00 - lr: 0.0031\n",
      "Epoch 41/100\n",
      "1/1 [==============================] - ETA: 0s - loss: 1.2428e-05 - precision_2: 0.0000e+00 - accuracy: 0.0000e+00\n",
      "Epoch 41: ReduceLROnPlateau reducing learning rate to 0.0015625000232830644.\n",
      "1/1 [==============================] - 8s 8s/step - loss: 1.2428e-05 - precision_2: 0.0000e+00 - accuracy: 0.0000e+00 - val_loss: 1.2419e-05 - val_precision_2: 0.0000e+00 - val_accuracy: 0.0000e+00 - lr: 0.0031\n",
      "Epoch 42/100\n",
      "1/1 [==============================] - 8s 8s/step - loss: 1.2419e-05 - precision_2: 0.0000e+00 - accuracy: 0.0000e+00 - val_loss: 1.2415e-05 - val_precision_2: 0.0000e+00 - val_accuracy: 0.0000e+00 - lr: 0.0016\n",
      "Epoch 43/100\n",
      "1/1 [==============================] - 8s 8s/step - loss: 1.2415e-05 - precision_2: 0.0000e+00 - accuracy: 0.0000e+00 - val_loss: 1.2411e-05 - val_precision_2: 0.0000e+00 - val_accuracy: 0.0000e+00 - lr: 0.0016\n",
      "Epoch 44/100\n",
      "1/1 [==============================] - 8s 8s/step - loss: 1.2411e-05 - precision_2: 0.0000e+00 - accuracy: 0.0000e+00 - val_loss: 1.2408e-05 - val_precision_2: 0.0000e+00 - val_accuracy: 0.0000e+00 - lr: 0.0016\n",
      "Epoch 45/100\n",
      "1/1 [==============================] - 8s 8s/step - loss: 1.2408e-05 - precision_2: 0.0000e+00 - accuracy: 0.0000e+00 - val_loss: 1.2405e-05 - val_precision_2: 0.0000e+00 - val_accuracy: 0.0000e+00 - lr: 0.0016\n",
      "Epoch 46/100\n",
      "1/1 [==============================] - ETA: 0s - loss: 1.2405e-05 - precision_2: 0.0000e+00 - accuracy: 0.0000e+00\n",
      "Epoch 46: ReduceLROnPlateau reducing learning rate to 0.0007812500116415322.\n",
      "1/1 [==============================] - 8s 8s/step - loss: 1.2405e-05 - precision_2: 0.0000e+00 - accuracy: 0.0000e+00 - val_loss: 1.2402e-05 - val_precision_2: 0.0000e+00 - val_accuracy: 0.0000e+00 - lr: 0.0016\n",
      "Epoch 47/100\n",
      "1/1 [==============================] - 8s 8s/step - loss: 1.2402e-05 - precision_2: 0.0000e+00 - accuracy: 0.0000e+00 - val_loss: 1.2400e-05 - val_precision_2: 0.0000e+00 - val_accuracy: 0.0000e+00 - lr: 7.8125e-04\n",
      "Epoch 48/100\n",
      "1/1 [==============================] - 8s 8s/step - loss: 1.2400e-05 - precision_2: 0.0000e+00 - accuracy: 0.0000e+00 - val_loss: 1.2399e-05 - val_precision_2: 0.0000e+00 - val_accuracy: 0.0000e+00 - lr: 7.8125e-04\n",
      "Epoch 49/100\n",
      "1/1 [==============================] - 8s 8s/step - loss: 1.2399e-05 - precision_2: 0.0000e+00 - accuracy: 0.0000e+00 - val_loss: 1.2398e-05 - val_precision_2: 0.0000e+00 - val_accuracy: 0.0000e+00 - lr: 7.8125e-04\n",
      "Epoch 50/100\n",
      "1/1 [==============================] - 9s 9s/step - loss: 1.2398e-05 - precision_2: 0.0000e+00 - accuracy: 0.0000e+00 - val_loss: 1.2397e-05 - val_precision_2: 0.0000e+00 - val_accuracy: 0.0000e+00 - lr: 7.8125e-04\n",
      "Epoch 51/100\n",
      "1/1 [==============================] - ETA: 0s - loss: 1.2397e-05 - precision_2: 0.0000e+00 - accuracy: 0.0000e+00\n",
      "Epoch 51: ReduceLROnPlateau reducing learning rate to 0.0003906250058207661.\n",
      "1/1 [==============================] - 8s 8s/step - loss: 1.2397e-05 - precision_2: 0.0000e+00 - accuracy: 0.0000e+00 - val_loss: 1.2396e-05 - val_precision_2: 0.0000e+00 - val_accuracy: 0.0000e+00 - lr: 7.8125e-04\n",
      "Epoch 52/100\n",
      "1/1 [==============================] - 8s 8s/step - loss: 1.2396e-05 - precision_2: 0.0000e+00 - accuracy: 0.0000e+00 - val_loss: 1.2396e-05 - val_precision_2: 0.0000e+00 - val_accuracy: 0.0000e+00 - lr: 3.9063e-04\n",
      "Epoch 53/100\n",
      "1/1 [==============================] - 8s 8s/step - loss: 1.2396e-05 - precision_2: 0.0000e+00 - accuracy: 0.0000e+00 - val_loss: 1.2395e-05 - val_precision_2: 0.0000e+00 - val_accuracy: 0.0000e+00 - lr: 3.9063e-04\n",
      "Epoch 54/100\n",
      "1/1 [==============================] - 8s 8s/step - loss: 1.2395e-05 - precision_2: 0.0000e+00 - accuracy: 0.0000e+00 - val_loss: 1.2395e-05 - val_precision_2: 0.0000e+00 - val_accuracy: 0.0000e+00 - lr: 3.9063e-04\n",
      "Epoch 55/100\n",
      "1/1 [==============================] - 8s 8s/step - loss: 1.2395e-05 - precision_2: 0.0000e+00 - accuracy: 0.0000e+00 - val_loss: 1.2395e-05 - val_precision_2: 0.0000e+00 - val_accuracy: 0.0000e+00 - lr: 3.9063e-04\n",
      "Epoch 56/100\n",
      "1/1 [==============================] - ETA: 0s - loss: 1.2395e-05 - precision_2: 0.0000e+00 - accuracy: 0.0000e+00\n",
      "Epoch 56: ReduceLROnPlateau reducing learning rate to 0.00019531250291038305.\n",
      "1/1 [==============================] - 9s 9s/step - loss: 1.2395e-05 - precision_2: 0.0000e+00 - accuracy: 0.0000e+00 - val_loss: 1.2395e-05 - val_precision_2: 0.0000e+00 - val_accuracy: 0.0000e+00 - lr: 3.9063e-04\n",
      "Epoch 57/100\n",
      "1/1 [==============================] - 8s 8s/step - loss: 1.2395e-05 - precision_2: 0.0000e+00 - accuracy: 0.0000e+00 - val_loss: 1.2394e-05 - val_precision_2: 0.0000e+00 - val_accuracy: 0.0000e+00 - lr: 1.9531e-04\n",
      "Epoch 58/100\n",
      "1/1 [==============================] - 8s 8s/step - loss: 1.2394e-05 - precision_2: 0.0000e+00 - accuracy: 0.0000e+00 - val_loss: 1.2394e-05 - val_precision_2: 0.0000e+00 - val_accuracy: 0.0000e+00 - lr: 1.9531e-04\n",
      "Epoch 59/100\n",
      "1/1 [==============================] - 8s 8s/step - loss: 1.2394e-05 - precision_2: 0.0000e+00 - accuracy: 0.0000e+00 - val_loss: 1.2394e-05 - val_precision_2: 0.0000e+00 - val_accuracy: 0.0000e+00 - lr: 1.9531e-04\n",
      "Epoch 60/100\n",
      "1/1 [==============================] - 8s 8s/step - loss: 1.2394e-05 - precision_2: 0.0000e+00 - accuracy: 0.0000e+00 - val_loss: 1.2394e-05 - val_precision_2: 0.0000e+00 - val_accuracy: 0.0000e+00 - lr: 1.9531e-04\n",
      "Epoch 61/100\n",
      "1/1 [==============================] - ETA: 0s - loss: 1.2394e-05 - precision_2: 0.0000e+00 - accuracy: 0.0000e+00\n",
      "Epoch 61: ReduceLROnPlateau reducing learning rate to 9.765625145519152e-05.\n",
      "1/1 [==============================] - 8s 8s/step - loss: 1.2394e-05 - precision_2: 0.0000e+00 - accuracy: 0.0000e+00 - val_loss: 1.2394e-05 - val_precision_2: 0.0000e+00 - val_accuracy: 0.0000e+00 - lr: 1.9531e-04\n",
      "Epoch 62/100\n",
      "1/1 [==============================] - 9s 9s/step - loss: 1.2394e-05 - precision_2: 0.0000e+00 - accuracy: 0.0000e+00 - val_loss: 1.2394e-05 - val_precision_2: 0.0000e+00 - val_accuracy: 0.0000e+00 - lr: 9.7656e-05\n",
      "Epoch 63/100\n",
      "1/1 [==============================] - 8s 8s/step - loss: 1.2394e-05 - precision_2: 0.0000e+00 - accuracy: 0.0000e+00 - val_loss: 1.2394e-05 - val_precision_2: 0.0000e+00 - val_accuracy: 0.0000e+00 - lr: 9.7656e-05\n",
      "Epoch 64/100\n",
      "1/1 [==============================] - 8s 8s/step - loss: 1.2394e-05 - precision_2: 0.0000e+00 - accuracy: 0.0000e+00 - val_loss: 1.2394e-05 - val_precision_2: 0.0000e+00 - val_accuracy: 0.0000e+00 - lr: 9.7656e-05\n",
      "Epoch 65/100\n",
      "1/1 [==============================] - 8s 8s/step - loss: 1.2394e-05 - precision_2: 0.0000e+00 - accuracy: 0.0000e+00 - val_loss: 1.2394e-05 - val_precision_2: 0.0000e+00 - val_accuracy: 0.0000e+00 - lr: 9.7656e-05\n",
      "Epoch 66/100\n",
      "1/1 [==============================] - ETA: 0s - loss: 1.2394e-05 - precision_2: 0.0000e+00 - accuracy: 0.0000e+00\n",
      "Epoch 66: ReduceLROnPlateau reducing learning rate to 4.882812572759576e-05.\n",
      "1/1 [==============================] - 8s 8s/step - loss: 1.2394e-05 - precision_2: 0.0000e+00 - accuracy: 0.0000e+00 - val_loss: 1.2394e-05 - val_precision_2: 0.0000e+00 - val_accuracy: 0.0000e+00 - lr: 9.7656e-05\n",
      "Epoch 67/100\n",
      "1/1 [==============================] - 9s 9s/step - loss: 1.2394e-05 - precision_2: 0.0000e+00 - accuracy: 0.0000e+00 - val_loss: 1.2394e-05 - val_precision_2: 0.0000e+00 - val_accuracy: 0.0000e+00 - lr: 4.8828e-05\n",
      "Epoch 68/100\n",
      "1/1 [==============================] - 9s 9s/step - loss: 1.2394e-05 - precision_2: 0.0000e+00 - accuracy: 0.0000e+00 - val_loss: 1.2394e-05 - val_precision_2: 0.0000e+00 - val_accuracy: 0.0000e+00 - lr: 4.8828e-05\n",
      "Epoch 69/100\n",
      "1/1 [==============================] - 9s 9s/step - loss: 1.2394e-05 - precision_2: 0.0000e+00 - accuracy: 0.0000e+00 - val_loss: 1.2394e-05 - val_precision_2: 0.0000e+00 - val_accuracy: 0.0000e+00 - lr: 4.8828e-05\n",
      "Epoch 70/100\n",
      "1/1 [==============================] - 8s 8s/step - loss: 1.2394e-05 - precision_2: 0.0000e+00 - accuracy: 0.0000e+00 - val_loss: 1.2394e-05 - val_precision_2: 0.0000e+00 - val_accuracy: 0.0000e+00 - lr: 4.8828e-05\n",
      "Epoch 71/100\n",
      "1/1 [==============================] - ETA: 0s - loss: 1.2394e-05 - precision_2: 0.0000e+00 - accuracy: 0.0000e+00\n",
      "Epoch 71: ReduceLROnPlateau reducing learning rate to 2.441406286379788e-05.\n",
      "1/1 [==============================] - 8s 8s/step - loss: 1.2394e-05 - precision_2: 0.0000e+00 - accuracy: 0.0000e+00 - val_loss: 1.2394e-05 - val_precision_2: 0.0000e+00 - val_accuracy: 0.0000e+00 - lr: 4.8828e-05\n",
      "Epoch 72/100\n",
      "1/1 [==============================] - 8s 8s/step - loss: 1.2394e-05 - precision_2: 0.0000e+00 - accuracy: 0.0000e+00 - val_loss: 1.2394e-05 - val_precision_2: 0.0000e+00 - val_accuracy: 0.0000e+00 - lr: 2.4414e-05\n",
      "Epoch 73/100\n",
      "1/1 [==============================] - 8s 8s/step - loss: 1.2394e-05 - precision_2: 0.0000e+00 - accuracy: 0.0000e+00 - val_loss: 1.2394e-05 - val_precision_2: 0.0000e+00 - val_accuracy: 0.0000e+00 - lr: 2.4414e-05\n",
      "Epoch 74/100\n",
      "1/1 [==============================] - 8s 8s/step - loss: 1.2394e-05 - precision_2: 0.0000e+00 - accuracy: 0.0000e+00 - val_loss: 1.2394e-05 - val_precision_2: 0.0000e+00 - val_accuracy: 0.0000e+00 - lr: 2.4414e-05\n",
      "Epoch 75/100\n",
      "1/1 [==============================] - 8s 8s/step - loss: 1.2394e-05 - precision_2: 0.0000e+00 - accuracy: 0.0000e+00 - val_loss: 1.2394e-05 - val_precision_2: 0.0000e+00 - val_accuracy: 0.0000e+00 - lr: 2.4414e-05\n",
      "Epoch 76/100\n",
      "1/1 [==============================] - ETA: 0s - loss: 1.2394e-05 - precision_2: 0.0000e+00 - accuracy: 0.0000e+00\n",
      "Epoch 76: ReduceLROnPlateau reducing learning rate to 1.220703143189894e-05.\n",
      "1/1 [==============================] - 9s 9s/step - loss: 1.2394e-05 - precision_2: 0.0000e+00 - accuracy: 0.0000e+00 - val_loss: 1.2394e-05 - val_precision_2: 0.0000e+00 - val_accuracy: 0.0000e+00 - lr: 2.4414e-05\n"
     ]
    }
   ],
   "source": [
    "from tensorflow.keras.callbacks import EarlyStopping, ReduceLROnPlateau\n",
    "\n",
    "\n",
    "es = EarlyStopping(monitor=\"val_loss\",\n",
    "                    patience=4,\n",
    "                    mode=\"min\",\n",
    "                    restore_best_weights=True)\n",
    "\n",
    "# Create ReduceLROnPlateau callback\n",
    "reduce_lr = ReduceLROnPlateau(\n",
    "    monitor=\"val_loss\",   # Monitor validation loss\n",
    "    factor=0.5,            # Factor by which the learning rate will be reduced (new_lr = lr * factor)\n",
    "    patience=2,            # Number of epochs with no improvement after which learning rate will be reduced\n",
    "    min_lr=1e-6,           # Lower bound on the learning rate\n",
    "    verbose=1\n",
    ")\n",
    "\n",
    "history = model.fit(\n",
    "    X_train,\n",
    "    y_train_array,\n",
    "    validation_split=0.3,\n",
    "    shuffle=False,\n",
    "    batch_size=24,\n",
    "    epochs=100,\n",
    "    callbacks=[es, reduce_lr],   # Add both callbacks to the list\n",
    "    verbose=1\n",
    ")"
   ]
  },
  {
   "cell_type": "markdown",
   "metadata": {},
   "source": [
    "## Plot history"
   ]
  },
  {
   "cell_type": "code",
   "execution_count": 55,
   "metadata": {},
   "outputs": [],
   "source": [
    "def plot_history(history, metric):\n",
    "    \n",
    "    fig, ax = plt.subplots(1,2, figsize=(20,7))\n",
    "    # --- LOSS: binary_crossentropy --- \n",
    "    ax[0].plot(history.history['loss'])\n",
    "    ax[0].plot(history.history['val_loss'])\n",
    "    ax[0].set_title('binary_crossentropy')\n",
    "    ax[0].set_ylabel('Loss')\n",
    "    ax[0].set_xlabel('Epoch')\n",
    "    ax[0].legend(['Train', 'Validation'], loc='best')\n",
    "    ax[0].grid(axis=\"x\",linewidth=0.5)\n",
    "    ax[0].grid(axis=\"y\",linewidth=0.5)\n",
    "    \n",
    "    # --- METRICS:accuracy ---\n",
    "    \n",
    "    ax[1].plot(history.history[metric])\n",
    "    ax[1].plot(history.history['val_'+metric])\n",
    "    ax[1].set_title(metric)\n",
    "    ax[1].set_ylabel(metric)\n",
    "    ax[1].set_xlabel('Epoch')\n",
    "    ax[1].legend(['Train', 'Validation'], loc='best')\n",
    "    ax[1].grid(axis=\"x\",linewidth=0.5)\n",
    "    ax[1].grid(axis=\"y\",linewidth=0.5)\n",
    "                        \n",
    "    return ax"
   ]
  },
  {
   "cell_type": "code",
   "execution_count": 68,
   "metadata": {},
   "outputs": [
    {
     "data": {
      "text/plain": [
       "dict_keys(['loss', 'precision_2', 'accuracy', 'val_loss', 'val_precision_2', 'val_accuracy', 'lr'])"
      ]
     },
     "execution_count": 68,
     "metadata": {},
     "output_type": "execute_result"
    }
   ],
   "source": [
    "history.history.keys()"
   ]
  },
  {
   "cell_type": "code",
   "execution_count": 67,
   "metadata": {},
   "outputs": [
    {
     "data": {
      "text/plain": [
       "array([<Axes: title={'center': 'binary_crossentropy'}, xlabel='Epoch', ylabel='Loss'>,\n",
       "       <Axes: title={'center': 'precision_2'}, xlabel='Epoch', ylabel='precision_2'>],\n",
       "      dtype=object)"
      ]
     },
     "execution_count": 67,
     "metadata": {},
     "output_type": "execute_result"
    },
    {
     "data": {
      "image/png": "[encoded data removed]",
      "text/plain": [
       "<Figure size 2000x700 with 2 Axes>"
      ]
     },
     "metadata": {},
     "output_type": "display_data"
    }
   ],
   "source": [
    "plot_history(history, 'precision_2')"
   ]
  },
  {
   "cell_type": "code",
   "execution_count": null,
   "metadata": {},
   "outputs": [],
   "source": []
  }
 ],
 "metadata": {
  "kernelspec": {
   "display_name": "fishing_classification",
   "language": "python",
   "name": "python3"
  },
  "language_info": {
   "codemirror_mode": {
    "name": "ipython",
    "version": 3
   },
   "file_extension": ".py",
   "mimetype": "text/x-python",
   "name": "python",
   "nbconvert_exporter": "python",
   "pygments_lexer": "ipython3",
   "version": "3.10.6"
  },
  "orig_nbformat": 4
 },
 "nbformat": 4,
 "nbformat_minor": 2
}
