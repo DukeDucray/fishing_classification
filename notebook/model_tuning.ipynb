{
 "cells": [
  {
   "cell_type": "code",
   "execution_count": 176,
   "metadata": {},
   "outputs": [],
   "source": [
    "from tensorflow.keras import models\n",
    "from tensorflow.keras import layers\n",
    "from tensorflow.keras import optimizers, metrics\n",
    "from tensorflow.keras import regularizers\n",
    "from tensorflow.keras.layers.experimental.preprocessing import Normalization\n",
    "import pandas as pd\n",
    "import numpy as np\n",
    "import matplotlib.pyplot as plt\n",
    "from sklearn.model_selection import train_test_split\n",
    "from tensorflow.keras.callbacks import EarlyStopping"
   ]
  },
  {
   "cell_type": "code",
   "execution_count": 11,
   "metadata": {},
   "outputs": [
    {
     "data": {
      "text/html": [
       "<div>\n",
       "<style scoped>\n",
       "    .dataframe tbody tr th:only-of-type {\n",
       "        vertical-align: middle;\n",
       "    }\n",
       "\n",
       "    .dataframe tbody tr th {\n",
       "        vertical-align: top;\n",
       "    }\n",
       "\n",
       "    .dataframe thead th {\n",
       "        text-align: right;\n",
       "    }\n",
       "</style>\n",
       "<table border=\"1\" class=\"dataframe\">\n",
       "  <thead>\n",
       "    <tr style=\"text-align: right;\">\n",
       "      <th></th>\n",
       "      <th>mmsi</th>\n",
       "      <th>date</th>\n",
       "      <th>distance_from_shore</th>\n",
       "      <th>distance_from_port</th>\n",
       "      <th>speed</th>\n",
       "      <th>course</th>\n",
       "      <th>lat</th>\n",
       "      <th>lon</th>\n",
       "      <th>is_fishing</th>\n",
       "      <th>type_drifting_longlines</th>\n",
       "      <th>type_fixed_gear</th>\n",
       "      <th>type_pole_and_line</th>\n",
       "      <th>type_purse_seines</th>\n",
       "      <th>type_trawlers</th>\n",
       "      <th>type_trollers</th>\n",
       "      <th>type_unknown</th>\n",
       "      <th>year</th>\n",
       "      <th>month</th>\n",
       "      <th>day_of_week</th>\n",
       "      <th>utc_offset</th>\n",
       "    </tr>\n",
       "  </thead>\n",
       "  <tbody>\n",
       "    <tr>\n",
       "      <th>0</th>\n",
       "      <td>1.252340e+12</td>\n",
       "      <td>2015-01-01 05:08:23</td>\n",
       "      <td>0.0</td>\n",
       "      <td>0.0</td>\n",
       "      <td>0.0</td>\n",
       "      <td>128.0</td>\n",
       "      <td>52.458717</td>\n",
       "      <td>4.581316</td>\n",
       "      <td>0.0</td>\n",
       "      <td>0.0</td>\n",
       "      <td>0.0</td>\n",
       "      <td>0.0</td>\n",
       "      <td>0.0</td>\n",
       "      <td>1.0</td>\n",
       "      <td>0.0</td>\n",
       "      <td>0.0</td>\n",
       "      <td>2015</td>\n",
       "      <td>1</td>\n",
       "      <td>3</td>\n",
       "      <td>-4.0</td>\n",
       "    </tr>\n",
       "    <tr>\n",
       "      <th>1</th>\n",
       "      <td>1.252340e+12</td>\n",
       "      <td>2015-01-01 05:20:34</td>\n",
       "      <td>0.0</td>\n",
       "      <td>0.0</td>\n",
       "      <td>0.0</td>\n",
       "      <td>128.0</td>\n",
       "      <td>52.458733</td>\n",
       "      <td>4.581316</td>\n",
       "      <td>0.0</td>\n",
       "      <td>0.0</td>\n",
       "      <td>0.0</td>\n",
       "      <td>0.0</td>\n",
       "      <td>0.0</td>\n",
       "      <td>1.0</td>\n",
       "      <td>0.0</td>\n",
       "      <td>0.0</td>\n",
       "      <td>2015</td>\n",
       "      <td>1</td>\n",
       "      <td>3</td>\n",
       "      <td>-4.0</td>\n",
       "    </tr>\n",
       "    <tr>\n",
       "      <th>2</th>\n",
       "      <td>1.252340e+12</td>\n",
       "      <td>2015-01-01 05:32:53</td>\n",
       "      <td>0.0</td>\n",
       "      <td>0.0</td>\n",
       "      <td>0.0</td>\n",
       "      <td>128.0</td>\n",
       "      <td>52.458698</td>\n",
       "      <td>4.581267</td>\n",
       "      <td>0.0</td>\n",
       "      <td>0.0</td>\n",
       "      <td>0.0</td>\n",
       "      <td>0.0</td>\n",
       "      <td>0.0</td>\n",
       "      <td>1.0</td>\n",
       "      <td>0.0</td>\n",
       "      <td>0.0</td>\n",
       "      <td>2015</td>\n",
       "      <td>1</td>\n",
       "      <td>3</td>\n",
       "      <td>-4.0</td>\n",
       "    </tr>\n",
       "    <tr>\n",
       "      <th>3</th>\n",
       "      <td>1.252340e+12</td>\n",
       "      <td>2015-01-01 05:45:23</td>\n",
       "      <td>0.0</td>\n",
       "      <td>0.0</td>\n",
       "      <td>0.0</td>\n",
       "      <td>128.0</td>\n",
       "      <td>52.458698</td>\n",
       "      <td>4.581234</td>\n",
       "      <td>0.0</td>\n",
       "      <td>0.0</td>\n",
       "      <td>0.0</td>\n",
       "      <td>0.0</td>\n",
       "      <td>0.0</td>\n",
       "      <td>1.0</td>\n",
       "      <td>0.0</td>\n",
       "      <td>0.0</td>\n",
       "      <td>2015</td>\n",
       "      <td>1</td>\n",
       "      <td>3</td>\n",
       "      <td>-4.0</td>\n",
       "    </tr>\n",
       "    <tr>\n",
       "      <th>4</th>\n",
       "      <td>1.252340e+12</td>\n",
       "      <td>2015-01-01 05:57:24</td>\n",
       "      <td>0.0</td>\n",
       "      <td>0.0</td>\n",
       "      <td>0.0</td>\n",
       "      <td>128.0</td>\n",
       "      <td>52.458683</td>\n",
       "      <td>4.581183</td>\n",
       "      <td>0.0</td>\n",
       "      <td>0.0</td>\n",
       "      <td>0.0</td>\n",
       "      <td>0.0</td>\n",
       "      <td>0.0</td>\n",
       "      <td>1.0</td>\n",
       "      <td>0.0</td>\n",
       "      <td>0.0</td>\n",
       "      <td>2015</td>\n",
       "      <td>1</td>\n",
       "      <td>3</td>\n",
       "      <td>-4.0</td>\n",
       "    </tr>\n",
       "  </tbody>\n",
       "</table>\n",
       "</div>"
      ],
      "text/plain": [
       "           mmsi                 date  distance_from_shore  distance_from_port  \\\n",
       "0  1.252340e+12  2015-01-01 05:08:23                  0.0                 0.0   \n",
       "1  1.252340e+12  2015-01-01 05:20:34                  0.0                 0.0   \n",
       "2  1.252340e+12  2015-01-01 05:32:53                  0.0                 0.0   \n",
       "3  1.252340e+12  2015-01-01 05:45:23                  0.0                 0.0   \n",
       "4  1.252340e+12  2015-01-01 05:57:24                  0.0                 0.0   \n",
       "\n",
       "   speed  course        lat       lon  is_fishing  type_drifting_longlines  \\\n",
       "0    0.0   128.0  52.458717  4.581316         0.0                      0.0   \n",
       "1    0.0   128.0  52.458733  4.581316         0.0                      0.0   \n",
       "2    0.0   128.0  52.458698  4.581267         0.0                      0.0   \n",
       "3    0.0   128.0  52.458698  4.581234         0.0                      0.0   \n",
       "4    0.0   128.0  52.458683  4.581183         0.0                      0.0   \n",
       "\n",
       "   type_fixed_gear  type_pole_and_line  type_purse_seines  type_trawlers  \\\n",
       "0              0.0                 0.0                0.0            1.0   \n",
       "1              0.0                 0.0                0.0            1.0   \n",
       "2              0.0                 0.0                0.0            1.0   \n",
       "3              0.0                 0.0                0.0            1.0   \n",
       "4              0.0                 0.0                0.0            1.0   \n",
       "\n",
       "   type_trollers  type_unknown  year  month  day_of_week  utc_offset  \n",
       "0            0.0           0.0  2015      1            3        -4.0  \n",
       "1            0.0           0.0  2015      1            3        -4.0  \n",
       "2            0.0           0.0  2015      1            3        -4.0  \n",
       "3            0.0           0.0  2015      1            3        -4.0  \n",
       "4            0.0           0.0  2015      1            3        -4.0  "
      ]
     },
     "execution_count": 11,
     "metadata": {},
     "output_type": "execute_result"
    }
   ],
   "source": [
    "path = 'data/preprocessed'\n",
    "file_name = 'preproc'\n",
    "\n",
    "df = pd.read_csv(f'../{path}/{file_name}.csv')\n",
    "\n",
    "df.head()"
   ]
  },
  {
   "cell_type": "code",
   "execution_count": 14,
   "metadata": {},
   "outputs": [
    {
     "data": {
      "text/plain": [
       "(553855, 20)"
      ]
     },
     "execution_count": 14,
     "metadata": {},
     "output_type": "execute_result"
    }
   ],
   "source": [
    "df.shape"
   ]
  },
  {
   "cell_type": "markdown",
   "metadata": {},
   "source": [
    "## Keep small sample"
   ]
  },
  {
   "cell_type": "code",
   "execution_count": 126,
   "metadata": {},
   "outputs": [
    {
     "data": {
      "text/plain": [
       "(50000, 20)"
      ]
     },
     "execution_count": 126,
     "metadata": {},
     "output_type": "execute_result"
    }
   ],
   "source": [
    "sample_size = 50000 \n",
    "\n",
    "start_index = 0  \n",
    "\n",
    "# Create a smaller sequential subset\n",
    "data = df.iloc[start_index:start_index+sample_size]\n",
    "\n",
    "data.shape"
   ]
  },
  {
   "cell_type": "markdown",
   "metadata": {},
   "source": [
    "### Export small dataset"
   ]
  },
  {
   "cell_type": "code",
   "execution_count": 128,
   "metadata": {},
   "outputs": [],
   "source": [
    "output_folder = '../data/preprocessed'\n",
    "output_file = f'preproc_{sample_size}.csv'\n",
    "\n",
    "# Construct the full path\n",
    "output_path = f'{output_folder}/{output_file}'\n",
    "\n",
    "# Save the DataFrame to the specified path\n",
    "data.to_csv(output_path, index=False)"
   ]
  },
  {
   "cell_type": "markdown",
   "metadata": {},
   "source": [
    "# Baseline Model: KNeighborsClassifier"
   ]
  },
  {
   "cell_type": "markdown",
   "metadata": {},
   "source": [
    "## Split Data"
   ]
  },
  {
   "cell_type": "code",
   "execution_count": 90,
   "metadata": {},
   "outputs": [
    {
     "data": {
      "text/html": [
       "<div>\n",
       "<style scoped>\n",
       "    .dataframe tbody tr th:only-of-type {\n",
       "        vertical-align: middle;\n",
       "    }\n",
       "\n",
       "    .dataframe tbody tr th {\n",
       "        vertical-align: top;\n",
       "    }\n",
       "\n",
       "    .dataframe thead th {\n",
       "        text-align: right;\n",
       "    }\n",
       "</style>\n",
       "<table border=\"1\" class=\"dataframe\">\n",
       "  <thead>\n",
       "    <tr style=\"text-align: right;\">\n",
       "      <th></th>\n",
       "      <th>mmsi</th>\n",
       "      <th>distance_from_shore</th>\n",
       "      <th>distance_from_port</th>\n",
       "      <th>speed</th>\n",
       "      <th>course</th>\n",
       "      <th>lat</th>\n",
       "      <th>lon</th>\n",
       "      <th>type_drifting_longlines</th>\n",
       "      <th>type_fixed_gear</th>\n",
       "      <th>type_pole_and_line</th>\n",
       "      <th>type_purse_seines</th>\n",
       "      <th>type_trawlers</th>\n",
       "      <th>type_trollers</th>\n",
       "      <th>type_unknown</th>\n",
       "      <th>year</th>\n",
       "      <th>month</th>\n",
       "      <th>day_of_week</th>\n",
       "    </tr>\n",
       "  </thead>\n",
       "  <tbody>\n",
       "    <tr>\n",
       "      <th>0</th>\n",
       "      <td>1.252340e+12</td>\n",
       "      <td>0.0</td>\n",
       "      <td>0.0</td>\n",
       "      <td>0.0</td>\n",
       "      <td>128.0</td>\n",
       "      <td>52.458717</td>\n",
       "      <td>4.581316</td>\n",
       "      <td>0.0</td>\n",
       "      <td>0.0</td>\n",
       "      <td>0.0</td>\n",
       "      <td>0.0</td>\n",
       "      <td>1.0</td>\n",
       "      <td>0.0</td>\n",
       "      <td>0.0</td>\n",
       "      <td>2015</td>\n",
       "      <td>1</td>\n",
       "      <td>3</td>\n",
       "    </tr>\n",
       "    <tr>\n",
       "      <th>1</th>\n",
       "      <td>1.252340e+12</td>\n",
       "      <td>0.0</td>\n",
       "      <td>0.0</td>\n",
       "      <td>0.0</td>\n",
       "      <td>128.0</td>\n",
       "      <td>52.458733</td>\n",
       "      <td>4.581316</td>\n",
       "      <td>0.0</td>\n",
       "      <td>0.0</td>\n",
       "      <td>0.0</td>\n",
       "      <td>0.0</td>\n",
       "      <td>1.0</td>\n",
       "      <td>0.0</td>\n",
       "      <td>0.0</td>\n",
       "      <td>2015</td>\n",
       "      <td>1</td>\n",
       "      <td>3</td>\n",
       "    </tr>\n",
       "    <tr>\n",
       "      <th>2</th>\n",
       "      <td>1.252340e+12</td>\n",
       "      <td>0.0</td>\n",
       "      <td>0.0</td>\n",
       "      <td>0.0</td>\n",
       "      <td>128.0</td>\n",
       "      <td>52.458698</td>\n",
       "      <td>4.581267</td>\n",
       "      <td>0.0</td>\n",
       "      <td>0.0</td>\n",
       "      <td>0.0</td>\n",
       "      <td>0.0</td>\n",
       "      <td>1.0</td>\n",
       "      <td>0.0</td>\n",
       "      <td>0.0</td>\n",
       "      <td>2015</td>\n",
       "      <td>1</td>\n",
       "      <td>3</td>\n",
       "    </tr>\n",
       "    <tr>\n",
       "      <th>3</th>\n",
       "      <td>1.252340e+12</td>\n",
       "      <td>0.0</td>\n",
       "      <td>0.0</td>\n",
       "      <td>0.0</td>\n",
       "      <td>128.0</td>\n",
       "      <td>52.458698</td>\n",
       "      <td>4.581234</td>\n",
       "      <td>0.0</td>\n",
       "      <td>0.0</td>\n",
       "      <td>0.0</td>\n",
       "      <td>0.0</td>\n",
       "      <td>1.0</td>\n",
       "      <td>0.0</td>\n",
       "      <td>0.0</td>\n",
       "      <td>2015</td>\n",
       "      <td>1</td>\n",
       "      <td>3</td>\n",
       "    </tr>\n",
       "    <tr>\n",
       "      <th>4</th>\n",
       "      <td>1.252340e+12</td>\n",
       "      <td>0.0</td>\n",
       "      <td>0.0</td>\n",
       "      <td>0.0</td>\n",
       "      <td>128.0</td>\n",
       "      <td>52.458683</td>\n",
       "      <td>4.581183</td>\n",
       "      <td>0.0</td>\n",
       "      <td>0.0</td>\n",
       "      <td>0.0</td>\n",
       "      <td>0.0</td>\n",
       "      <td>1.0</td>\n",
       "      <td>0.0</td>\n",
       "      <td>0.0</td>\n",
       "      <td>2015</td>\n",
       "      <td>1</td>\n",
       "      <td>3</td>\n",
       "    </tr>\n",
       "    <tr>\n",
       "      <th>5</th>\n",
       "      <td>1.252340e+12</td>\n",
       "      <td>0.0</td>\n",
       "      <td>0.0</td>\n",
       "      <td>0.0</td>\n",
       "      <td>128.0</td>\n",
       "      <td>52.458683</td>\n",
       "      <td>4.581250</td>\n",
       "      <td>0.0</td>\n",
       "      <td>0.0</td>\n",
       "      <td>0.0</td>\n",
       "      <td>0.0</td>\n",
       "      <td>1.0</td>\n",
       "      <td>0.0</td>\n",
       "      <td>0.0</td>\n",
       "      <td>2015</td>\n",
       "      <td>1</td>\n",
       "      <td>3</td>\n",
       "    </tr>\n",
       "    <tr>\n",
       "      <th>6</th>\n",
       "      <td>1.252340e+12</td>\n",
       "      <td>0.0</td>\n",
       "      <td>0.0</td>\n",
       "      <td>0.0</td>\n",
       "      <td>128.0</td>\n",
       "      <td>52.458698</td>\n",
       "      <td>4.581200</td>\n",
       "      <td>0.0</td>\n",
       "      <td>0.0</td>\n",
       "      <td>0.0</td>\n",
       "      <td>0.0</td>\n",
       "      <td>1.0</td>\n",
       "      <td>0.0</td>\n",
       "      <td>0.0</td>\n",
       "      <td>2015</td>\n",
       "      <td>1</td>\n",
       "      <td>3</td>\n",
       "    </tr>\n",
       "    <tr>\n",
       "      <th>7</th>\n",
       "      <td>1.252340e+12</td>\n",
       "      <td>0.0</td>\n",
       "      <td>0.0</td>\n",
       "      <td>0.0</td>\n",
       "      <td>128.0</td>\n",
       "      <td>52.458698</td>\n",
       "      <td>4.581200</td>\n",
       "      <td>0.0</td>\n",
       "      <td>0.0</td>\n",
       "      <td>0.0</td>\n",
       "      <td>0.0</td>\n",
       "      <td>1.0</td>\n",
       "      <td>0.0</td>\n",
       "      <td>0.0</td>\n",
       "      <td>2015</td>\n",
       "      <td>1</td>\n",
       "      <td>3</td>\n",
       "    </tr>\n",
       "    <tr>\n",
       "      <th>8</th>\n",
       "      <td>1.252340e+12</td>\n",
       "      <td>0.0</td>\n",
       "      <td>0.0</td>\n",
       "      <td>0.0</td>\n",
       "      <td>128.0</td>\n",
       "      <td>52.458668</td>\n",
       "      <td>4.581267</td>\n",
       "      <td>0.0</td>\n",
       "      <td>0.0</td>\n",
       "      <td>0.0</td>\n",
       "      <td>0.0</td>\n",
       "      <td>1.0</td>\n",
       "      <td>0.0</td>\n",
       "      <td>0.0</td>\n",
       "      <td>2015</td>\n",
       "      <td>1</td>\n",
       "      <td>3</td>\n",
       "    </tr>\n",
       "    <tr>\n",
       "      <th>9</th>\n",
       "      <td>1.252340e+12</td>\n",
       "      <td>0.0</td>\n",
       "      <td>0.0</td>\n",
       "      <td>0.0</td>\n",
       "      <td>128.0</td>\n",
       "      <td>52.458618</td>\n",
       "      <td>4.581234</td>\n",
       "      <td>0.0</td>\n",
       "      <td>0.0</td>\n",
       "      <td>0.0</td>\n",
       "      <td>0.0</td>\n",
       "      <td>1.0</td>\n",
       "      <td>0.0</td>\n",
       "      <td>0.0</td>\n",
       "      <td>2015</td>\n",
       "      <td>1</td>\n",
       "      <td>3</td>\n",
       "    </tr>\n",
       "  </tbody>\n",
       "</table>\n",
       "</div>"
      ],
      "text/plain": [
       "           mmsi  distance_from_shore  distance_from_port  speed  course  \\\n",
       "0  1.252340e+12                  0.0                 0.0    0.0   128.0   \n",
       "1  1.252340e+12                  0.0                 0.0    0.0   128.0   \n",
       "2  1.252340e+12                  0.0                 0.0    0.0   128.0   \n",
       "3  1.252340e+12                  0.0                 0.0    0.0   128.0   \n",
       "4  1.252340e+12                  0.0                 0.0    0.0   128.0   \n",
       "5  1.252340e+12                  0.0                 0.0    0.0   128.0   \n",
       "6  1.252340e+12                  0.0                 0.0    0.0   128.0   \n",
       "7  1.252340e+12                  0.0                 0.0    0.0   128.0   \n",
       "8  1.252340e+12                  0.0                 0.0    0.0   128.0   \n",
       "9  1.252340e+12                  0.0                 0.0    0.0   128.0   \n",
       "\n",
       "         lat       lon  type_drifting_longlines  type_fixed_gear  \\\n",
       "0  52.458717  4.581316                      0.0              0.0   \n",
       "1  52.458733  4.581316                      0.0              0.0   \n",
       "2  52.458698  4.581267                      0.0              0.0   \n",
       "3  52.458698  4.581234                      0.0              0.0   \n",
       "4  52.458683  4.581183                      0.0              0.0   \n",
       "5  52.458683  4.581250                      0.0              0.0   \n",
       "6  52.458698  4.581200                      0.0              0.0   \n",
       "7  52.458698  4.581200                      0.0              0.0   \n",
       "8  52.458668  4.581267                      0.0              0.0   \n",
       "9  52.458618  4.581234                      0.0              0.0   \n",
       "\n",
       "   type_pole_and_line  type_purse_seines  type_trawlers  type_trollers  \\\n",
       "0                 0.0                0.0            1.0            0.0   \n",
       "1                 0.0                0.0            1.0            0.0   \n",
       "2                 0.0                0.0            1.0            0.0   \n",
       "3                 0.0                0.0            1.0            0.0   \n",
       "4                 0.0                0.0            1.0            0.0   \n",
       "5                 0.0                0.0            1.0            0.0   \n",
       "6                 0.0                0.0            1.0            0.0   \n",
       "7                 0.0                0.0            1.0            0.0   \n",
       "8                 0.0                0.0            1.0            0.0   \n",
       "9                 0.0                0.0            1.0            0.0   \n",
       "\n",
       "   type_unknown  year  month  day_of_week  \n",
       "0           0.0  2015      1            3  \n",
       "1           0.0  2015      1            3  \n",
       "2           0.0  2015      1            3  \n",
       "3           0.0  2015      1            3  \n",
       "4           0.0  2015      1            3  \n",
       "5           0.0  2015      1            3  \n",
       "6           0.0  2015      1            3  \n",
       "7           0.0  2015      1            3  \n",
       "8           0.0  2015      1            3  \n",
       "9           0.0  2015      1            3  "
      ]
     },
     "execution_count": 90,
     "metadata": {},
     "output_type": "execute_result"
    }
   ],
   "source": [
    "X = data.drop('is_fishing', axis=1)\n",
    "X = X.drop('date', axis=1)\n",
    "X = X.drop('utc_offset', axis=1)\n",
    "y = data['is_fishing']\n",
    "\n",
    "X_train, X_test, y_train, y_test = train_test_split(X, y, test_size=0.3, shuffle=False)\n",
    "\n",
    "X_train.head(10)"
   ]
  },
  {
   "cell_type": "code",
   "execution_count": 125,
   "metadata": {},
   "outputs": [
    {
     "data": {
      "text/plain": [
       "(14000, 17)"
      ]
     },
     "execution_count": 125,
     "metadata": {},
     "output_type": "execute_result"
    }
   ],
   "source": [
    "X_train.shape"
   ]
  },
  {
   "cell_type": "markdown",
   "metadata": {},
   "source": [
    "## Model  => Look a precision"
   ]
  },
  {
   "cell_type": "code",
   "execution_count": 157,
   "metadata": {},
   "outputs": [],
   "source": [
    "from sklearn.pipeline import Pipeline\n",
    "from sklearn.preprocessing import StandardScaler\n",
    "from sklearn.neighbors import KNeighborsClassifier\n",
    "from sklearn.metrics import accuracy_score, precision_score"
   ]
  },
  {
   "cell_type": "code",
   "execution_count": 158,
   "metadata": {},
   "outputs": [
    {
     "name": "stdout",
     "output_type": "stream",
     "text": [
      "Accuracy: 0.98\n",
      "Precision: 0.00\n"
     ]
    }
   ],
   "source": [
    "# Create a pipeline\n",
    "pipeline = Pipeline([\n",
    "    ('scaler', StandardScaler()),         # Step 1: Standardize features\n",
    "    ('knn', KNeighborsClassifier(n_neighbors=3))  # Step 2: K-Nearest Neighbors model\n",
    "])\n",
    "\n",
    "# Fit the pipeline on the training data\n",
    "pipeline.fit(X_train, y_train)\n",
    "\n",
    "# Predict on the test data\n",
    "y_pred = pipeline.predict(X_test)\n",
    "\n",
    "# Calculate accuracy\n",
    "accuracy = accuracy_score(y_test, y_pred)\n",
    "print(f\"Accuracy: {accuracy:.2f}\")\n",
    "\n",
    "# Calculate precision\n",
    "precision = precision_score(y_test, y_pred)\n",
    "print(f\"Precision: {precision:.2f}\")"
   ]
  },
  {
   "cell_type": "markdown",
   "metadata": {},
   "source": [
    "# Recurrent Neutal Network setup"
   ]
  },
  {
   "cell_type": "markdown",
   "metadata": {},
   "source": [
    "## Data prep"
   ]
  },
  {
   "cell_type": "code",
   "execution_count": 182,
   "metadata": {},
   "outputs": [
    {
     "name": "stdout",
     "output_type": "stream",
     "text": [
      "Total number of vessels in our small dataset:  19\n"
     ]
    }
   ],
   "source": [
    "number_vessel=data['mmsi'].value_counts().count()\n",
    "print('Total number of vessels in our small dataset: ', number_vessel)"
   ]
  },
  {
   "cell_type": "markdown",
   "metadata": {},
   "source": [
    "### Split data by vessels"
   ]
  },
  {
   "cell_type": "code",
   "execution_count": 294,
   "metadata": {},
   "outputs": [],
   "source": [
    "X = data.drop('date', axis=1)\n",
    "X = X.drop('utc_offset', axis=1)"
   ]
  },
  {
   "cell_type": "code",
   "execution_count": 318,
   "metadata": {},
   "outputs": [],
   "source": [
    "grouped = X.groupby('mmsi')\n",
    "\n",
    "# List to store the NumPy arrays for each group\n",
    "X_group_arrays = []\n",
    "y_group_arrays = []\n",
    "\n",
    "# Iterate through each group and store the data as a NumPy array\n",
    "for mmsi_value, group_df in grouped:\n",
    "    # 'group_df' contains the subset of data for the current 'mmsi' group\n",
    "    # Convert the relevant columns to a NumPy array and append it to the list\n",
    "    X_group_array = group_df.drop('is_fishing', axis=1).values\n",
    "    X_group_arrays.append(X_group_array)\n",
    "    \n",
    "    y_group_array = group_df['is_fishing'].values\n",
    "    y_group_arrays.append(y_group_array)\n",
    "    \n",
    "assert(len(X_group_arrays) == number_vessel)\n",
    "assert(len(y_group_arrays) == number_vessel)\n"
   ]
  },
  {
   "cell_type": "markdown",
   "metadata": {},
   "source": [
    "### Padding"
   ]
  },
  {
   "cell_type": "code",
   "execution_count": 305,
   "metadata": {},
   "outputs": [
    {
     "name": "stdout",
     "output_type": "stream",
     "text": [
      "X_train_pad shape:  (19, 10592, 17)\n"
     ]
    }
   ],
   "source": [
    "from tensorflow.keras.preprocessing.sequence import pad_sequences\n",
    "\n",
    "X_pad = pad_sequences(X_group_arrays, dtype='float32', padding='post', value=-1000)\n",
    "print('X_train_pad shape: ',X_pad.shape)\n",
    "\n"
   ]
  },
  {
   "cell_type": "markdown",
   "metadata": {},
   "source": [
    "### Split train / test"
   ]
  },
  {
   "cell_type": "code",
   "execution_count": 320,
   "metadata": {},
   "outputs": [
    {
     "name": "stdout",
     "output_type": "stream",
     "text": [
      "(13, 10592, 17)\n",
      "(6, 10592, 17)\n",
      "\n",
      "13\n",
      "6\n"
     ]
    }
   ],
   "source": [
    "X_train, X_test, y_train, y_test = train_test_split(X_pad, y_group_arrays, test_size=0.3, shuffle=False)\n",
    "\n",
    "print(X_train.shape)\n",
    "print(X_test.shape)\n",
    "\n",
    "print()\n",
    "print(len(y_train))\n",
    "print(len(y_test))"
   ]
  },
  {
   "cell_type": "markdown",
   "metadata": {},
   "source": [
    "### Convert y_train into 2D array  (None, 1)  -> None = number of total data point"
   ]
  },
  {
   "cell_type": "code",
   "execution_count": 328,
   "metadata": {},
   "outputs": [
    {
     "name": "stdout",
     "output_type": "stream",
     "text": [
      "(41595, 1)\n",
      "(8405, 1)\n",
      "total data points:  50000\n"
     ]
    }
   ],
   "source": [
    "concatenated_array = np.concatenate(y_train, axis=0)\n",
    "y_train_array = np.expand_dims(concatenated_array, axis=-1)\n",
    "\n",
    "concatenated_array = np.concatenate(y_test, axis=0)\n",
    "y_test_array = np.expand_dims(concatenated_array, axis=-1)\n",
    "\n",
    "print(y_train_array.shape)\n",
    "print(y_test_array.shape)\n",
    "\n",
    "total_data = y_train_array.shape[0] + y_test_array.shape[0]\n",
    "\n",
    "print('total data points: ', total_data)\n"
   ]
  },
  {
   "cell_type": "markdown",
   "metadata": {},
   "source": [
    "### Length distribution of data points per vessels"
   ]
  },
  {
   "cell_type": "code",
   "execution_count": 329,
   "metadata": {},
   "outputs": [
    {
     "data": {
      "text/plain": [
       "(array([7., 3., 3., 4., 0., 1., 0., 0., 0., 1.]),\n",
       " array([  171. ,  1213.1,  2255.2,  3297.3,  4339.4,  5381.5,  6423.6,\n",
       "         7465.7,  8507.8,  9549.9, 10592. ]),\n",
       " <BarContainer object of 10 artists>)"
      ]
     },
     "execution_count": 329,
     "metadata": {},
     "output_type": "execute_result"
    },
    {
     "data": {
      "image/png": "[encoded data removed]",
      "text/plain": [
       "<Figure size 640x480 with 1 Axes>"
      ]
     },
     "metadata": {},
     "output_type": "display_data"
    }
   ],
   "source": [
    "lengths = [len(group_array) for group_array in X_group_arrays]\n",
    "plt.hist(lengths)"
   ]
  },
  {
   "cell_type": "markdown",
   "metadata": {},
   "source": [
    "## init_model"
   ]
  },
  {
   "cell_type": "code",
   "execution_count": 111,
   "metadata": {},
   "outputs": [],
   "source": [
    "# def init_model(input_shape):\n",
    "    \n",
    "\n",
    "    # 1 - RNN architecture\n",
    "    # ======================    \n",
    "    # model = models.Sequential()    \n",
    "    # # Normalizing Inputs\n",
    "    # # model.add(normalizer)\n",
    "    \n",
    "    # # Recurrent Layer\n",
    "    # model.add(layers.LSTM(units=64, activation='tanh', return_sequences=False, \n",
    "    #                       recurrent_dropout=0.5, dropout=0.5, input_shape=input_shape))\n",
    "    \n",
    "    # # Hidden Dense Layer that we are regularizing\n",
    "    # # reg_l2 = regularizers.L2(0.5)\n",
    "    # # model.add(layers.Dense(32, activation=\"relu\", kernel_regularizer = reg_l2))\n",
    "    \n",
    "    # model.add(layers.Dense(32, activation=\"relu\"))\n",
    "    # model.add(layers.Dropout(rate=0.5))\n",
    "    \n",
    "    # # Predictive Dense Layer\n",
    "    # ### model.add(layers.Dense(1, activation='linear'))  \n",
    "    \n",
    "    # model.add(layers.Dense(1, activation='sigmoid'))\n",
    "    \n",
    "    # # model.build(input_shape=(None, input_shape)) \n",
    " \n",
    "\n",
    "    # model.compile(loss='binary_crossentropy', optimizer='adam', metrics=[\"accuracy\"])\n",
    "\n",
    "    # return model"
   ]
  },
  {
   "cell_type": "code",
   "execution_count": 344,
   "metadata": {},
   "outputs": [],
   "source": [
    "def init_model(X_train):\n",
    "    model = models.Sequential() \n",
    "    \n",
    "    model.add(\n",
    "        layers.Masking(mask_value=-1, \n",
    "                       input_shape=(X_train.shape[1], X_train.shape[2])\n",
    "                       )\n",
    "        )\n",
    "    \n",
    "    model.add(layers.LSTM(64, activation='tanh'))\n",
    "    \n",
    "    model.add(layers.Dense(1, activation='sigmoid'))\n",
    "    \n",
    "    model.compile(loss='binary_crossentropy', optimizer='adam', metrics=[metrics.Precision()])\n",
    "    \n",
    "    return model"
   ]
  },
  {
   "cell_type": "markdown",
   "metadata": {},
   "source": [
    "## Plot history"
   ]
  },
  {
   "cell_type": "code",
   "execution_count": 36,
   "metadata": {},
   "outputs": [],
   "source": [
    "def plot_history(history):\n",
    "    \n",
    "    fig, ax = plt.subplots(1,2, figsize=(20,7))\n",
    "    # --- LOSS: binary_crossentropy --- \n",
    "    ax[0].plot(history.history['loss'])\n",
    "    ax[0].plot(history.history['val_loss'])\n",
    "    ax[0].set_title('binary_crossentropy')\n",
    "    ax[0].set_ylabel('Loss')\n",
    "    ax[0].set_xlabel('Epoch')\n",
    "    ax[0].legend(['Train', 'Validation'], loc='best')\n",
    "    ax[0].grid(axis=\"x\",linewidth=0.5)\n",
    "    ax[0].grid(axis=\"y\",linewidth=0.5)\n",
    "    \n",
    "    # --- METRICS:accuracy ---\n",
    "    \n",
    "    ax[1].plot(history.history['accuracy'])\n",
    "    ax[1].plot(history.history['val_mae'])\n",
    "    ax[1].set_title('accuracy')\n",
    "    ax[1].set_ylabel('accuracy')\n",
    "    ax[1].set_xlabel('Epoch')\n",
    "    ax[1].legend(['Train', 'Validation'], loc='best')\n",
    "    ax[1].grid(axis=\"x\",linewidth=0.5)\n",
    "    ax[1].grid(axis=\"y\",linewidth=0.5)\n",
    "                        \n",
    "    return ax"
   ]
  },
  {
   "cell_type": "markdown",
   "metadata": {},
   "source": [
    "# Model test and tuning"
   ]
  },
  {
   "cell_type": "code",
   "execution_count": 336,
   "metadata": {},
   "outputs": [
    {
     "data": {
      "text/plain": [
       "(10592, 17)"
      ]
     },
     "execution_count": 336,
     "metadata": {},
     "output_type": "execute_result"
    }
   ],
   "source": [
    "input_shape = (X_train.shape[1], X_train.shape[2])\n",
    "input_shape"
   ]
  },
  {
   "cell_type": "code",
   "execution_count": 345,
   "metadata": {},
   "outputs": [
    {
     "name": "stdout",
     "output_type": "stream",
     "text": [
      "Model: \"sequential_23\"\n",
      "_________________________________________________________________\n",
      " Layer (type)                Output Shape              Param #   \n",
      "=================================================================\n",
      " masking_2 (Masking)         (None, 10592, 17)         0         \n",
      "                                                                 \n",
      " lstm_21 (LSTM)              (None, 64)                20992     \n",
      "                                                                 \n",
      " dense_34 (Dense)            (None, 1)                 65        \n",
      "                                                                 \n",
      "=================================================================\n",
      "Total params: 21,057\n",
      "Trainable params: 21,057\n",
      "Non-trainable params: 0\n",
      "_________________________________________________________________\n"
     ]
    }
   ],
   "source": [
    "model = init_model(X_train)\n",
    "model.summary()"
   ]
  },
  {
   "cell_type": "code",
   "execution_count": 343,
   "metadata": {},
   "outputs": [
    {
     "data": {
      "text/plain": [
       "array([0., 1.])"
      ]
     },
     "execution_count": 343,
     "metadata": {},
     "output_type": "execute_result"
    }
   ],
   "source": [
    "np.unique(y_train_array)"
   ]
  },
  {
   "cell_type": "code",
   "execution_count": 346,
   "metadata": {},
   "outputs": [
    {
     "name": "stdout",
     "output_type": "stream",
     "text": [
      "Epoch 1/100\n"
     ]
    },
    {
     "name": "stdout",
     "output_type": "stream",
     "text": [
      "1/1 [==============================] - 14s 14s/step - loss: 0.9740 - precision: 0.0000e+00 - val_loss: 0.8469 - val_precision: 0.0000e+00\n",
      "Epoch 2/100\n",
      "1/1 [==============================] - 7s 7s/step - loss: 0.8732 - precision: 0.0000e+00 - val_loss: 0.6540 - val_precision: 0.0000e+00\n",
      "Epoch 3/100\n",
      "1/1 [==============================] - 8s 8s/step - loss: 0.6956 - precision: 0.0000e+00 - val_loss: 0.6422 - val_precision: 0.0000e+00\n",
      "Epoch 4/100\n",
      "1/1 [==============================] - 8s 8s/step - loss: 0.6841 - precision: 0.0000e+00 - val_loss: 0.6321 - val_precision: 0.0000e+00\n",
      "Epoch 5/100\n",
      "1/1 [==============================] - 8s 8s/step - loss: 0.6743 - precision: 0.0000e+00 - val_loss: 0.6222 - val_precision: 0.0000e+00\n",
      "Epoch 6/100\n",
      "1/1 [==============================] - 7s 7s/step - loss: 0.6647 - precision: 0.0000e+00 - val_loss: 0.6123 - val_precision: 0.0000e+00\n",
      "Epoch 7/100\n",
      "1/1 [==============================] - 7s 7s/step - loss: 0.6551 - precision: 0.0000e+00 - val_loss: 0.6026 - val_precision: 0.0000e+00\n",
      "Epoch 8/100\n"
     ]
    }
   ],
   "source": [
    "es = EarlyStopping(monitor=\"val_loss\",\n",
    "                    patience=10,\n",
    "                    mode=\"min\",\n",
    "                    restore_best_weights=True)\n",
    "\n",
    "history = model.fit(X_train,\n",
    "                    y_train_array,\n",
    "                    validation_split=0.3,\n",
    "                    shuffle=False,\n",
    "                    batch_size=32,\n",
    "                    epochs=100,\n",
    "                    callbacks=[es],\n",
    "                    verbose=1)"
   ]
  }
 ],
 "metadata": {
  "kernelspec": {
   "display_name": "fishing_classification",
   "language": "python",
   "name": "python3"
  },
  "language_info": {
   "codemirror_mode": {
    "name": "ipython",
    "version": 3
   },
   "file_extension": ".py",
   "mimetype": "text/x-python",
   "name": "python",
   "nbconvert_exporter": "python",
   "pygments_lexer": "ipython3",
   "version": "3.10.6"
  },
  "orig_nbformat": 4
 },
 "nbformat": 4,
 "nbformat_minor": 2
}
