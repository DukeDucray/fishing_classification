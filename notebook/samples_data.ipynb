{
 "cells": [
  {
   "cell_type": "code",
   "execution_count": 1,
   "metadata": {},
   "outputs": [],
   "source": [
    "import pandas as pd\n",
    "import numpy as np"
   ]
  },
  {
   "cell_type": "markdown",
   "metadata": {},
   "source": [
    "# get_data"
   ]
  },
  {
   "cell_type": "code",
   "execution_count": 2,
   "metadata": {},
   "outputs": [],
   "source": [
    "def get_data(path, file_names):\n",
    "    return pd.read_csv(f'../{path}/{file_name}.csv')"
   ]
  },
  {
   "cell_type": "markdown",
   "metadata": {},
   "source": [
    "# extract_sample"
   ]
  },
  {
   "cell_type": "code",
   "execution_count": 3,
   "metadata": {},
   "outputs": [],
   "source": [
    "def extract_sample(X):\n",
    "    grouped = X.groupby('mmsi')\n",
    "\n",
    "    # Get the first group's key (value in the 'mmsi' column)\n",
    "    first_group_key = list(grouped.groups.keys())[0]\n",
    "\n",
    "    # Get the first group as a DataFrame\n",
    "    first_group_df = pd.DataFrame(grouped.get_group(first_group_key))\n",
    "\n",
    "    return first_group_df\n",
    "        \n"
   ]
  },
  {
   "cell_type": "markdown",
   "metadata": {},
   "source": [
    "# Send CSV sample"
   ]
  },
  {
   "cell_type": "code",
   "execution_count": 4,
   "metadata": {},
   "outputs": [],
   "source": [
    "def send_csv(df, file_name):\n",
    "    output_folder = '../mlops/data/sample_data'\n",
    "    output_file = f'sample_{file_name}.csv'\n",
    "\n",
    "    # Construct the full path\n",
    "    output_path = f'{output_folder}/{output_file}'\n",
    "\n",
    "    # Save the DataFrame to the specified path\n",
    "    df.to_csv(output_path, index=False)"
   ]
  },
  {
   "cell_type": "markdown",
   "metadata": {},
   "source": [
    "# Extract all sample to .csv"
   ]
  },
  {
   "cell_type": "code",
   "execution_count": 5,
   "metadata": {},
   "outputs": [],
   "source": [
    "path='data/raw_data'\n",
    "file_names = ['trawlers', 'drifting_longlines', 'fixed_gear', 'pole_and_line', 'purse_seines', 'trollers', 'unknown']\n",
    "\n",
    "for file_name in file_names: \n",
    "    df = get_data(path, file_name)\n",
    "    \n",
    "    data = extract_sample(df)\n",
    "    \n",
    "    send_csv(data, file_name)"
   ]
  },
  {
   "cell_type": "markdown",
   "metadata": {},
   "source": [
    "# test"
   ]
  },
  {
   "cell_type": "code",
   "execution_count": 30,
   "metadata": {},
   "outputs": [
    {
     "data": {
      "text/html": [
       "<div>\n",
       "<style scoped>\n",
       "    .dataframe tbody tr th:only-of-type {\n",
       "        vertical-align: middle;\n",
       "    }\n",
       "\n",
       "    .dataframe tbody tr th {\n",
       "        vertical-align: top;\n",
       "    }\n",
       "\n",
       "    .dataframe thead th {\n",
       "        text-align: right;\n",
       "    }\n",
       "</style>\n",
       "<table border=\"1\" class=\"dataframe\">\n",
       "  <thead>\n",
       "    <tr style=\"text-align: right;\">\n",
       "      <th></th>\n",
       "      <th>mmsi</th>\n",
       "      <th>timestamp</th>\n",
       "      <th>distance_from_shore</th>\n",
       "      <th>distance_from_port</th>\n",
       "      <th>speed</th>\n",
       "      <th>course</th>\n",
       "      <th>lat</th>\n",
       "      <th>lon</th>\n",
       "      <th>is_fishing</th>\n",
       "      <th>source</th>\n",
       "    </tr>\n",
       "  </thead>\n",
       "  <tbody>\n",
       "    <tr>\n",
       "      <th>0</th>\n",
       "      <td>1.848346e+13</td>\n",
       "      <td>1.340882e+09</td>\n",
       "      <td>0.000000</td>\n",
       "      <td>2236.013184</td>\n",
       "      <td>0.0</td>\n",
       "      <td>0.000000</td>\n",
       "      <td>28.967354</td>\n",
       "      <td>-13.537797</td>\n",
       "      <td>-1.0</td>\n",
       "      <td>gfw</td>\n",
       "    </tr>\n",
       "    <tr>\n",
       "      <th>1</th>\n",
       "      <td>1.848346e+13</td>\n",
       "      <td>1.340884e+09</td>\n",
       "      <td>0.000000</td>\n",
       "      <td>2236.013184</td>\n",
       "      <td>0.0</td>\n",
       "      <td>125.199997</td>\n",
       "      <td>28.967373</td>\n",
       "      <td>-13.537838</td>\n",
       "      <td>-1.0</td>\n",
       "      <td>gfw</td>\n",
       "    </tr>\n",
       "    <tr>\n",
       "      <th>2</th>\n",
       "      <td>1.848346e+13</td>\n",
       "      <td>1.340885e+09</td>\n",
       "      <td>0.000000</td>\n",
       "      <td>2236.013184</td>\n",
       "      <td>0.0</td>\n",
       "      <td>0.000000</td>\n",
       "      <td>28.967354</td>\n",
       "      <td>-13.537838</td>\n",
       "      <td>-1.0</td>\n",
       "      <td>gfw</td>\n",
       "    </tr>\n",
       "    <tr>\n",
       "      <th>3</th>\n",
       "      <td>1.848346e+13</td>\n",
       "      <td>1.340888e+09</td>\n",
       "      <td>0.000000</td>\n",
       "      <td>2236.013184</td>\n",
       "      <td>0.0</td>\n",
       "      <td>0.000000</td>\n",
       "      <td>28.967354</td>\n",
       "      <td>-13.537838</td>\n",
       "      <td>-1.0</td>\n",
       "      <td>gfw</td>\n",
       "    </tr>\n",
       "    <tr>\n",
       "      <th>4</th>\n",
       "      <td>1.848346e+13</td>\n",
       "      <td>1.340925e+09</td>\n",
       "      <td>1999.950928</td>\n",
       "      <td>2828.357666</td>\n",
       "      <td>8.7</td>\n",
       "      <td>203.100006</td>\n",
       "      <td>28.929653</td>\n",
       "      <td>-13.543955</td>\n",
       "      <td>-1.0</td>\n",
       "      <td>gfw</td>\n",
       "    </tr>\n",
       "    <tr>\n",
       "      <th>...</th>\n",
       "      <td>...</td>\n",
       "      <td>...</td>\n",
       "      <td>...</td>\n",
       "      <td>...</td>\n",
       "      <td>...</td>\n",
       "      <td>...</td>\n",
       "      <td>...</td>\n",
       "      <td>...</td>\n",
       "      <td>...</td>\n",
       "      <td>...</td>\n",
       "    </tr>\n",
       "    <tr>\n",
       "      <th>161310</th>\n",
       "      <td>2.145727e+14</td>\n",
       "      <td>1.478701e+09</td>\n",
       "      <td>0.000000</td>\n",
       "      <td>24697.572266</td>\n",
       "      <td>0.1</td>\n",
       "      <td>101.400002</td>\n",
       "      <td>32.735428</td>\n",
       "      <td>-16.734407</td>\n",
       "      <td>-1.0</td>\n",
       "      <td>gfw</td>\n",
       "    </tr>\n",
       "    <tr>\n",
       "      <th>161311</th>\n",
       "      <td>2.145727e+14</td>\n",
       "      <td>1.479122e+09</td>\n",
       "      <td>0.000000</td>\n",
       "      <td>24697.572266</td>\n",
       "      <td>0.1</td>\n",
       "      <td>148.600006</td>\n",
       "      <td>32.735401</td>\n",
       "      <td>-16.734411</td>\n",
       "      <td>-1.0</td>\n",
       "      <td>gfw</td>\n",
       "    </tr>\n",
       "    <tr>\n",
       "      <th>161312</th>\n",
       "      <td>2.145727e+14</td>\n",
       "      <td>1.479191e+09</td>\n",
       "      <td>0.000000</td>\n",
       "      <td>24697.572266</td>\n",
       "      <td>0.1</td>\n",
       "      <td>153.899994</td>\n",
       "      <td>32.735405</td>\n",
       "      <td>-16.734396</td>\n",
       "      <td>-1.0</td>\n",
       "      <td>gfw</td>\n",
       "    </tr>\n",
       "    <tr>\n",
       "      <th>161313</th>\n",
       "      <td>2.145727e+14</td>\n",
       "      <td>1.479202e+09</td>\n",
       "      <td>0.000000</td>\n",
       "      <td>24697.572266</td>\n",
       "      <td>0.1</td>\n",
       "      <td>331.100006</td>\n",
       "      <td>32.735413</td>\n",
       "      <td>-16.734430</td>\n",
       "      <td>-1.0</td>\n",
       "      <td>gfw</td>\n",
       "    </tr>\n",
       "    <tr>\n",
       "      <th>161314</th>\n",
       "      <td>2.145727e+14</td>\n",
       "      <td>1.479251e+09</td>\n",
       "      <td>0.000000</td>\n",
       "      <td>24697.572266</td>\n",
       "      <td>0.0</td>\n",
       "      <td>88.699997</td>\n",
       "      <td>32.735428</td>\n",
       "      <td>-16.734396</td>\n",
       "      <td>-1.0</td>\n",
       "      <td>gfw</td>\n",
       "    </tr>\n",
       "  </tbody>\n",
       "</table>\n",
       "<p>161315 rows × 10 columns</p>\n",
       "</div>"
      ],
      "text/plain": [
       "                mmsi     timestamp  distance_from_shore  distance_from_port  \\\n",
       "0       1.848346e+13  1.340882e+09             0.000000         2236.013184   \n",
       "1       1.848346e+13  1.340884e+09             0.000000         2236.013184   \n",
       "2       1.848346e+13  1.340885e+09             0.000000         2236.013184   \n",
       "3       1.848346e+13  1.340888e+09             0.000000         2236.013184   \n",
       "4       1.848346e+13  1.340925e+09          1999.950928         2828.357666   \n",
       "...              ...           ...                  ...                 ...   \n",
       "161310  2.145727e+14  1.478701e+09             0.000000        24697.572266   \n",
       "161311  2.145727e+14  1.479122e+09             0.000000        24697.572266   \n",
       "161312  2.145727e+14  1.479191e+09             0.000000        24697.572266   \n",
       "161313  2.145727e+14  1.479202e+09             0.000000        24697.572266   \n",
       "161314  2.145727e+14  1.479251e+09             0.000000        24697.572266   \n",
       "\n",
       "        speed      course        lat        lon  is_fishing source  \n",
       "0         0.0    0.000000  28.967354 -13.537797        -1.0    gfw  \n",
       "1         0.0  125.199997  28.967373 -13.537838        -1.0    gfw  \n",
       "2         0.0    0.000000  28.967354 -13.537838        -1.0    gfw  \n",
       "3         0.0    0.000000  28.967354 -13.537838        -1.0    gfw  \n",
       "4         8.7  203.100006  28.929653 -13.543955        -1.0    gfw  \n",
       "...       ...         ...        ...        ...         ...    ...  \n",
       "161310    0.1  101.400002  32.735428 -16.734407        -1.0    gfw  \n",
       "161311    0.1  148.600006  32.735401 -16.734411        -1.0    gfw  \n",
       "161312    0.1  153.899994  32.735405 -16.734396        -1.0    gfw  \n",
       "161313    0.1  331.100006  32.735413 -16.734430        -1.0    gfw  \n",
       "161314    0.0   88.699997  32.735428 -16.734396        -1.0    gfw  \n",
       "\n",
       "[161315 rows x 10 columns]"
      ]
     },
     "execution_count": 30,
     "metadata": {},
     "output_type": "execute_result"
    }
   ],
   "source": [
    "path='data/raw_data'\n",
    "file_name = 'pole_and_line'\n",
    "\n",
    "df = get_data(path, file_name)\n",
    "\n",
    "df\n"
   ]
  },
  {
   "cell_type": "code",
   "execution_count": 31,
   "metadata": {},
   "outputs": [
    {
     "name": "stdout",
     "output_type": "stream",
     "text": [
      "Total number of vessels in our small dataset:  6\n"
     ]
    }
   ],
   "source": [
    "number_vessel=df['mmsi'].value_counts().count()\n",
    "print('Total number of vessels in our small dataset: ', number_vessel)"
   ]
  },
  {
   "cell_type": "code",
   "execution_count": 32,
   "metadata": {},
   "outputs": [
    {
     "data": {
      "text/plain": [
       "mmsi\n",
       "1.848346e+13    55187\n",
       "4.733417e+13     7886\n",
       "8.703142e+13    66986\n",
       "1.020291e+14    13344\n",
       "1.961844e+14     3896\n",
       "2.145727e+14    14016\n",
       "dtype: int64"
      ]
     },
     "execution_count": 32,
     "metadata": {},
     "output_type": "execute_result"
    }
   ],
   "source": [
    "df.groupby('mmsi').size()"
   ]
  }
 ],
 "metadata": {
  "kernelspec": {
   "display_name": "fishing_classification",
   "language": "python",
   "name": "python3"
  },
  "language_info": {
   "codemirror_mode": {
    "name": "ipython",
    "version": 3
   },
   "file_extension": ".py",
   "mimetype": "text/x-python",
   "name": "python",
   "nbconvert_exporter": "python",
   "pygments_lexer": "ipython3",
   "version": "3.10.6"
  },
  "orig_nbformat": 4
 },
 "nbformat": 4,
 "nbformat_minor": 2
}
