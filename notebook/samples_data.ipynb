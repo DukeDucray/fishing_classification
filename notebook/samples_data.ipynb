{
 "cells": [
  {
   "cell_type": "code",
   "execution_count": 1,
   "metadata": {},
   "outputs": [],
   "source": [
    "import pandas as pd\n",
    "import numpy as np"
   ]
  },
  {
   "cell_type": "markdown",
   "metadata": {},
   "source": [
    "# get_data"
   ]
  },
  {
   "cell_type": "code",
   "execution_count": 2,
   "metadata": {},
   "outputs": [],
   "source": [
    "def get_data(path, file_name):\n",
    "    return pd.read_csv(f'../{path}/{file_name}.csv')"
   ]
  },
  {
   "cell_type": "markdown",
   "metadata": {},
   "source": [
    "# extract_sample"
   ]
  },
  {
   "cell_type": "code",
   "execution_count": 7,
   "metadata": {},
   "outputs": [],
   "source": [
    "def extract_sample(X):\n",
    "    grouped = X.groupby('mmsi')\n",
    "\n",
    "    # Get the first group's key (value in the 'mmsi' column)\n",
    "    first_group_key = list(grouped.groups.keys())[0]\n",
    "\n",
    "    # Get the first group as a DataFrame\n",
    "    first_group_df = pd.DataFrame(grouped.get_group(first_group_key))\n",
    "    \n",
    "    first_group_df_cleaned = first_group_df.drop(columns=['source', 'is_fishing'])\n",
    "    \n",
    "    return first_group_df_cleaned\n",
    "        \n"
   ]
  },
  {
   "cell_type": "markdown",
   "metadata": {},
   "source": [
    "# Send CSV sample"
   ]
  },
  {
   "cell_type": "code",
   "execution_count": 4,
   "metadata": {},
   "outputs": [],
   "source": [
    "def send_csv(df, file_name):\n",
    "    output_folder = '../mlops/data/sample_data'\n",
    "    output_file = f'sample_{file_name}.csv'\n",
    "\n",
    "    # Construct the full path\n",
    "    output_path = f'{output_folder}/{output_file}'\n",
    "\n",
    "    # Save the DataFrame to the specified path\n",
    "    df.to_csv(output_path, index=False)"
   ]
  },
  {
   "cell_type": "markdown",
   "metadata": {},
   "source": [
    "# Extract all sample to .csv"
   ]
  },
  {
   "cell_type": "code",
   "execution_count": 5,
   "metadata": {},
   "outputs": [],
   "source": [
    "path='data/raw_data'\n",
    "file_names = ['trawlers', 'drifting_longlines', 'fixed_gear', 'pole_and_line', 'purse_seines', 'trollers', 'unknown']\n",
    "\n",
    "for file_name in file_names: \n",
    "    df = get_data(path, file_name)\n",
    "    \n",
    "    data = extract_sample(df)\n",
    "    \n",
    "    send_csv(data, file_name)"
   ]
  },
  {
   "cell_type": "markdown",
   "metadata": {},
   "source": [
    "# test"
   ]
  },
  {
   "cell_type": "code",
   "execution_count": 23,
   "metadata": {},
   "outputs": [
    {
     "data": {
      "text/plain": [
       "(65423, 8)"
      ]
     },
     "execution_count": 23,
     "metadata": {},
     "output_type": "execute_result"
    }
   ],
   "source": [
    "path='data/raw_data'\n",
    "file_name = 'fixed_gear'\n",
    "\n",
    "df = get_data(path, file_name)\n",
    "df = extract_sample(df)\n",
    "df.shape"
   ]
  },
  {
   "cell_type": "code",
   "execution_count": 22,
   "metadata": {},
   "outputs": [
    {
     "data": {
      "text/html": [
       "<div>\n",
       "<style scoped>\n",
       "    .dataframe tbody tr th:only-of-type {\n",
       "        vertical-align: middle;\n",
       "    }\n",
       "\n",
       "    .dataframe tbody tr th {\n",
       "        vertical-align: top;\n",
       "    }\n",
       "\n",
       "    .dataframe thead th {\n",
       "        text-align: right;\n",
       "    }\n",
       "</style>\n",
       "<table border=\"1\" class=\"dataframe\">\n",
       "  <thead>\n",
       "    <tr style=\"text-align: right;\">\n",
       "      <th></th>\n",
       "      <th>mmsi</th>\n",
       "      <th>timestamp</th>\n",
       "      <th>distance_from_shore</th>\n",
       "      <th>distance_from_port</th>\n",
       "      <th>speed</th>\n",
       "      <th>course</th>\n",
       "      <th>lat</th>\n",
       "      <th>lon</th>\n",
       "    </tr>\n",
       "  </thead>\n",
       "  <tbody>\n",
       "    <tr>\n",
       "      <th>1118966</th>\n",
       "      <td>5.601266e+12</td>\n",
       "      <td>1.338394e+09</td>\n",
       "      <td>0.0</td>\n",
       "      <td>1999.950928</td>\n",
       "      <td>0.0</td>\n",
       "      <td>0.000000</td>\n",
       "      <td>-34.900513</td>\n",
       "      <td>-56.203678</td>\n",
       "    </tr>\n",
       "    <tr>\n",
       "      <th>1118967</th>\n",
       "      <td>5.601266e+12</td>\n",
       "      <td>1.338414e+09</td>\n",
       "      <td>0.0</td>\n",
       "      <td>1999.950928</td>\n",
       "      <td>0.0</td>\n",
       "      <td>0.000000</td>\n",
       "      <td>-34.900528</td>\n",
       "      <td>-56.203712</td>\n",
       "    </tr>\n",
       "    <tr>\n",
       "      <th>1118968</th>\n",
       "      <td>5.601266e+12</td>\n",
       "      <td>1.338430e+09</td>\n",
       "      <td>0.0</td>\n",
       "      <td>1999.950928</td>\n",
       "      <td>0.0</td>\n",
       "      <td>119.000000</td>\n",
       "      <td>-34.900593</td>\n",
       "      <td>-56.203705</td>\n",
       "    </tr>\n",
       "    <tr>\n",
       "      <th>1118969</th>\n",
       "      <td>5.601266e+12</td>\n",
       "      <td>1.338436e+09</td>\n",
       "      <td>0.0</td>\n",
       "      <td>1999.950928</td>\n",
       "      <td>0.0</td>\n",
       "      <td>308.399994</td>\n",
       "      <td>-34.900574</td>\n",
       "      <td>-56.203705</td>\n",
       "    </tr>\n",
       "    <tr>\n",
       "      <th>1118970</th>\n",
       "      <td>5.601266e+12</td>\n",
       "      <td>1.338459e+09</td>\n",
       "      <td>0.0</td>\n",
       "      <td>1999.950928</td>\n",
       "      <td>0.0</td>\n",
       "      <td>0.000000</td>\n",
       "      <td>-34.900509</td>\n",
       "      <td>-56.203693</td>\n",
       "    </tr>\n",
       "  </tbody>\n",
       "</table>\n",
       "</div>"
      ],
      "text/plain": [
       "                 mmsi     timestamp  distance_from_shore  distance_from_port  \\\n",
       "1118966  5.601266e+12  1.338394e+09                  0.0         1999.950928   \n",
       "1118967  5.601266e+12  1.338414e+09                  0.0         1999.950928   \n",
       "1118968  5.601266e+12  1.338430e+09                  0.0         1999.950928   \n",
       "1118969  5.601266e+12  1.338436e+09                  0.0         1999.950928   \n",
       "1118970  5.601266e+12  1.338459e+09                  0.0         1999.950928   \n",
       "\n",
       "         speed      course        lat        lon  \n",
       "1118966    0.0    0.000000 -34.900513 -56.203678  \n",
       "1118967    0.0    0.000000 -34.900528 -56.203712  \n",
       "1118968    0.0  119.000000 -34.900593 -56.203705  \n",
       "1118969    0.0  308.399994 -34.900574 -56.203705  \n",
       "1118970    0.0    0.000000 -34.900509 -56.203693  "
      ]
     },
     "execution_count": 22,
     "metadata": {},
     "output_type": "execute_result"
    }
   ],
   "source": [
    "df.head()"
   ]
  },
  {
   "cell_type": "code",
   "execution_count": 24,
   "metadata": {},
   "outputs": [
    {
     "data": {
      "text/plain": [
       "(65423, 13)"
      ]
     },
     "execution_count": 24,
     "metadata": {},
     "output_type": "execute_result"
    }
   ],
   "source": [
    "df_fishing = df\n",
    "\n",
    "# ## Date time (hour -> Angular distance)\n",
    "df_fishing['timestamp'] = pd.to_datetime(df_fishing['timestamp'], unit='s')\n",
    "df_fishing.rename(columns={\"timestamp\": \"date\"}, inplace=True)\n",
    "df_fishing['hour'] = df_fishing['date'].dt.hour\n",
    "df_fishing['month'] = df_fishing['date'].dt.month\n",
    "df_fishing['day_of_week'] = df_fishing['date'].dt.day_of_week\n",
    "\n",
    "#\n",
    "df_fishing['hour_sin'] = np.sin(df_fishing['hour'] * (2 * np.pi / 24))\n",
    "df_fishing['hour_cos'] = np.cos(df_fishing['hour'] * (2 * np.pi / 24))\n",
    "\n",
    "# Dropping rows with NAN values\n",
    "df_fishing_clean = df_fishing.dropna()\n",
    "\n",
    "df_fishing_clean.shape\n"
   ]
  },
  {
   "cell_type": "code",
   "execution_count": 29,
   "metadata": {},
   "outputs": [
    {
     "data": {
      "text/plain": [
       "Index(['mmsi', 'distance_from_shore', 'distance_from_port', 'speed', 'course',\n",
       "       'lat', 'lon', 'month', 'day_of_week', 'hour_sin', 'hour_cos'],\n",
       "      dtype='object')"
      ]
     },
     "execution_count": 29,
     "metadata": {},
     "output_type": "execute_result"
    }
   ],
   "source": [
    "df_fishing.columns\n",
    "\n",
    "\n",
    "X = df_fishing.drop(columns=['date','hour'])\n",
    "\n",
    "X.columns"
   ]
  },
  {
   "cell_type": "code",
   "execution_count": null,
   "metadata": {},
   "outputs": [],
   "source": [
    "Index(['mmsi', 'distance_from_shore', 'distance_from_port', 'speed', 'course',\n",
    "       'lat', 'lon', 'month', 'day_of_week', 'hour_sin', 'hour_cos'],"
   ]
  },
  {
   "cell_type": "code",
   "execution_count": 25,
   "metadata": {},
   "outputs": [
    {
     "name": "stdout",
     "output_type": "stream",
     "text": [
      "Total number of vessels in our small dataset:  1\n"
     ]
    }
   ],
   "source": [
    "number_vessel=df_fishing_clean['mmsi'].value_counts().count()\n",
    "print('Total number of vessels in our small dataset: ', number_vessel)"
   ]
  },
  {
   "cell_type": "code",
   "execution_count": 32,
   "metadata": {},
   "outputs": [
    {
     "data": {
      "text/plain": [
       "mmsi\n",
       "1.848346e+13    55187\n",
       "4.733417e+13     7886\n",
       "8.703142e+13    66986\n",
       "1.020291e+14    13344\n",
       "1.961844e+14     3896\n",
       "2.145727e+14    14016\n",
       "dtype: int64"
      ]
     },
     "execution_count": 32,
     "metadata": {},
     "output_type": "execute_result"
    }
   ],
   "source": [
    "df_fishing_clean.groupby('mmsi').size()"
   ]
  }
 ],
 "metadata": {
  "kernelspec": {
   "display_name": "fishing_classification",
   "language": "python",
   "name": "python3"
  },
  "language_info": {
   "codemirror_mode": {
    "name": "ipython",
    "version": 3
   },
   "file_extension": ".py",
   "mimetype": "text/x-python",
   "name": "python",
   "nbconvert_exporter": "python",
   "pygments_lexer": "ipython3",
   "version": "3.10.6"
  },
  "orig_nbformat": 4
 },
 "nbformat": 4,
 "nbformat_minor": 2
}
