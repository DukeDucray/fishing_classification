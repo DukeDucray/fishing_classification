{
 "cells": [
  {
   "cell_type": "markdown",
   "metadata": {},
   "source": [
    "# Imports and modules"
   ]
  },
  {
   "cell_type": "code",
   "execution_count": 1,
   "metadata": {},
   "outputs": [],
   "source": [
    "import os\n",
    "import requests\n",
    "import pandas as pd\n",
    "import time \n",
    "import numpy as np\n",
    "import pytz\n",
    "import matplotlib.pyplot as plt\n",
    "import numpy as np\n",
    "import seaborn as sns\n",
    "import geopandas as gpd\n",
    "\n",
    "from datetime import datetime\n",
    "from sklearn.linear_model import LogisticRegression\n",
    "from sklearn.model_selection import cross_validate, train_test_split\n",
    "from sklearn.preprocessing import OneHotEncoder, StandardScaler\n",
    "from sklearn.ensemble import RandomForestClassifier\n",
    "from sklearn.metrics import accuracy_score, precision_score, classification_report\n",
    "from sklearn.model_selection import train_test_split, cross_validate\n",
    "from sklearn.feature_selection import r_regression\n",
    "from sklearn.neighbors import KNeighborsClassifier\n",
    "from shapely.geometry import Point\n",
    "from sklearn.pipeline import make_pipeline\n",
    "\n",
    "import warnings\n",
    "warnings.filterwarnings('ignore')\n",
    "\n",
    "%matplotlib inline"
   ]
  },
  {
   "cell_type": "markdown",
   "metadata": {},
   "source": [
    "# Extract from CSV and Preprocessing"
   ]
  },
  {
   "cell_type": "markdown",
   "metadata": {},
   "source": [
    "## Function to extract data from CSV"
   ]
  },
  {
   "cell_type": "code",
   "execution_count": 2,
   "metadata": {},
   "outputs": [
    {
     "data": {
      "text/html": [
       "<div>\n",
       "<style scoped>\n",
       "    .dataframe tbody tr th:only-of-type {\n",
       "        vertical-align: middle;\n",
       "    }\n",
       "\n",
       "    .dataframe tbody tr th {\n",
       "        vertical-align: top;\n",
       "    }\n",
       "\n",
       "    .dataframe thead th {\n",
       "        text-align: right;\n",
       "    }\n",
       "</style>\n",
       "<table border=\"1\" class=\"dataframe\">\n",
       "  <thead>\n",
       "    <tr style=\"text-align: right;\">\n",
       "      <th></th>\n",
       "      <th>mmsi</th>\n",
       "      <th>timestamp</th>\n",
       "      <th>distance_from_shore</th>\n",
       "      <th>distance_from_port</th>\n",
       "      <th>speed</th>\n",
       "      <th>course</th>\n",
       "      <th>lat</th>\n",
       "      <th>lon</th>\n",
       "      <th>is_fishing</th>\n",
       "      <th>source</th>\n",
       "      <th>type</th>\n",
       "    </tr>\n",
       "  </thead>\n",
       "  <tbody>\n",
       "    <tr>\n",
       "      <th>0</th>\n",
       "      <td>1.252340e+12</td>\n",
       "      <td>1.325376e+09</td>\n",
       "      <td>0.000000</td>\n",
       "      <td>0.000000</td>\n",
       "      <td>0.0</td>\n",
       "      <td>153.000000</td>\n",
       "      <td>52.458649</td>\n",
       "      <td>4.581200</td>\n",
       "      <td>-1.0</td>\n",
       "      <td>gfw</td>\n",
       "      <td>trawlers</td>\n",
       "    </tr>\n",
       "    <tr>\n",
       "      <th>1</th>\n",
       "      <td>1.252340e+12</td>\n",
       "      <td>1.325378e+09</td>\n",
       "      <td>0.000000</td>\n",
       "      <td>0.000000</td>\n",
       "      <td>0.0</td>\n",
       "      <td>153.000000</td>\n",
       "      <td>52.458668</td>\n",
       "      <td>4.581167</td>\n",
       "      <td>-1.0</td>\n",
       "      <td>gfw</td>\n",
       "      <td>trawlers</td>\n",
       "    </tr>\n",
       "    <tr>\n",
       "      <th>2</th>\n",
       "      <td>1.252340e+12</td>\n",
       "      <td>1.325379e+09</td>\n",
       "      <td>0.000000</td>\n",
       "      <td>0.000000</td>\n",
       "      <td>0.0</td>\n",
       "      <td>153.000000</td>\n",
       "      <td>52.458633</td>\n",
       "      <td>4.581183</td>\n",
       "      <td>-1.0</td>\n",
       "      <td>gfw</td>\n",
       "      <td>trawlers</td>\n",
       "    </tr>\n",
       "    <tr>\n",
       "      <th>3</th>\n",
       "      <td>1.252340e+12</td>\n",
       "      <td>1.325380e+09</td>\n",
       "      <td>0.000000</td>\n",
       "      <td>0.000000</td>\n",
       "      <td>0.0</td>\n",
       "      <td>153.000000</td>\n",
       "      <td>52.458649</td>\n",
       "      <td>4.581234</td>\n",
       "      <td>-1.0</td>\n",
       "      <td>gfw</td>\n",
       "      <td>trawlers</td>\n",
       "    </tr>\n",
       "    <tr>\n",
       "      <th>4</th>\n",
       "      <td>1.252340e+12</td>\n",
       "      <td>1.325381e+09</td>\n",
       "      <td>0.000000</td>\n",
       "      <td>0.000000</td>\n",
       "      <td>0.0</td>\n",
       "      <td>153.000000</td>\n",
       "      <td>52.458649</td>\n",
       "      <td>4.581183</td>\n",
       "      <td>-1.0</td>\n",
       "      <td>gfw</td>\n",
       "      <td>trawlers</td>\n",
       "    </tr>\n",
       "    <tr>\n",
       "      <th>...</th>\n",
       "      <td>...</td>\n",
       "      <td>...</td>\n",
       "      <td>...</td>\n",
       "      <td>...</td>\n",
       "      <td>...</td>\n",
       "      <td>...</td>\n",
       "      <td>...</td>\n",
       "      <td>...</td>\n",
       "      <td>...</td>\n",
       "      <td>...</td>\n",
       "      <td>...</td>\n",
       "    </tr>\n",
       "    <tr>\n",
       "      <th>6811547</th>\n",
       "      <td>2.698965e+14</td>\n",
       "      <td>1.479901e+09</td>\n",
       "      <td>16999.582031</td>\n",
       "      <td>33837.019531</td>\n",
       "      <td>5.5</td>\n",
       "      <td>142.600006</td>\n",
       "      <td>43.548107</td>\n",
       "      <td>13.784665</td>\n",
       "      <td>-1.0</td>\n",
       "      <td>gfw</td>\n",
       "      <td>unknown</td>\n",
       "    </tr>\n",
       "    <tr>\n",
       "      <th>6811548</th>\n",
       "      <td>2.698965e+14</td>\n",
       "      <td>1.479903e+09</td>\n",
       "      <td>19234.912109</td>\n",
       "      <td>38482.820312</td>\n",
       "      <td>5.7</td>\n",
       "      <td>157.899994</td>\n",
       "      <td>43.511894</td>\n",
       "      <td>13.812785</td>\n",
       "      <td>-1.0</td>\n",
       "      <td>gfw</td>\n",
       "      <td>unknown</td>\n",
       "    </tr>\n",
       "    <tr>\n",
       "      <th>6811549</th>\n",
       "      <td>2.698965e+14</td>\n",
       "      <td>1.479907e+09</td>\n",
       "      <td>18681.083984</td>\n",
       "      <td>47433.003906</td>\n",
       "      <td>5.4</td>\n",
       "      <td>284.899994</td>\n",
       "      <td>43.442558</td>\n",
       "      <td>13.845977</td>\n",
       "      <td>-1.0</td>\n",
       "      <td>gfw</td>\n",
       "      <td>unknown</td>\n",
       "    </tr>\n",
       "    <tr>\n",
       "      <th>6811550</th>\n",
       "      <td>2.698965e+14</td>\n",
       "      <td>1.479909e+09</td>\n",
       "      <td>17463.820312</td>\n",
       "      <td>40310.296875</td>\n",
       "      <td>5.3</td>\n",
       "      <td>319.000000</td>\n",
       "      <td>43.493008</td>\n",
       "      <td>13.807993</td>\n",
       "      <td>-1.0</td>\n",
       "      <td>gfw</td>\n",
       "      <td>unknown</td>\n",
       "    </tr>\n",
       "    <tr>\n",
       "      <th>6811551</th>\n",
       "      <td>2.698965e+14</td>\n",
       "      <td>1.479924e+09</td>\n",
       "      <td>13601.137695</td>\n",
       "      <td>46753.535156</td>\n",
       "      <td>4.3</td>\n",
       "      <td>340.899994</td>\n",
       "      <td>43.414944</td>\n",
       "      <td>13.815951</td>\n",
       "      <td>-1.0</td>\n",
       "      <td>gfw</td>\n",
       "      <td>unknown</td>\n",
       "    </tr>\n",
       "  </tbody>\n",
       "</table>\n",
       "<p>28581398 rows × 11 columns</p>\n",
       "</div>"
      ],
      "text/plain": [
       "                 mmsi     timestamp  distance_from_shore  distance_from_port  \\\n",
       "0        1.252340e+12  1.325376e+09             0.000000            0.000000   \n",
       "1        1.252340e+12  1.325378e+09             0.000000            0.000000   \n",
       "2        1.252340e+12  1.325379e+09             0.000000            0.000000   \n",
       "3        1.252340e+12  1.325380e+09             0.000000            0.000000   \n",
       "4        1.252340e+12  1.325381e+09             0.000000            0.000000   \n",
       "...               ...           ...                  ...                 ...   \n",
       "6811547  2.698965e+14  1.479901e+09         16999.582031        33837.019531   \n",
       "6811548  2.698965e+14  1.479903e+09         19234.912109        38482.820312   \n",
       "6811549  2.698965e+14  1.479907e+09         18681.083984        47433.003906   \n",
       "6811550  2.698965e+14  1.479909e+09         17463.820312        40310.296875   \n",
       "6811551  2.698965e+14  1.479924e+09         13601.137695        46753.535156   \n",
       "\n",
       "         speed      course        lat        lon  is_fishing source      type  \n",
       "0          0.0  153.000000  52.458649   4.581200        -1.0    gfw  trawlers  \n",
       "1          0.0  153.000000  52.458668   4.581167        -1.0    gfw  trawlers  \n",
       "2          0.0  153.000000  52.458633   4.581183        -1.0    gfw  trawlers  \n",
       "3          0.0  153.000000  52.458649   4.581234        -1.0    gfw  trawlers  \n",
       "4          0.0  153.000000  52.458649   4.581183        -1.0    gfw  trawlers  \n",
       "...        ...         ...        ...        ...         ...    ...       ...  \n",
       "6811547    5.5  142.600006  43.548107  13.784665        -1.0    gfw   unknown  \n",
       "6811548    5.7  157.899994  43.511894  13.812785        -1.0    gfw   unknown  \n",
       "6811549    5.4  284.899994  43.442558  13.845977        -1.0    gfw   unknown  \n",
       "6811550    5.3  319.000000  43.493008  13.807993        -1.0    gfw   unknown  \n",
       "6811551    4.3  340.899994  43.414944  13.815951        -1.0    gfw   unknown  \n",
       "\n",
       "[28581398 rows x 11 columns]"
      ]
     },
     "execution_count": 2,
     "metadata": {},
     "output_type": "execute_result"
    }
   ],
   "source": [
    "def get_data(path, file_names):\n",
    "    tables=[]\n",
    "    for file_name in file_names:\n",
    "        table = pd.read_csv(f'../{path}/{file_name}.csv')\n",
    "        table['type']=f'{file_name}'\n",
    "        tables.append(table)\n",
    "    return pd.concat(tables)\n",
    "\n",
    "path='data/raw_data'\n",
    "file_names = ['trawlers', 'drifting_longlines', 'fixed_gear', 'pole_and_line', 'purse_seines', 'trollers', 'unknown']\n",
    "df = get_data(path, file_names)\n",
    "df"
   ]
  },
  {
   "cell_type": "code",
   "execution_count": 3,
   "metadata": {},
   "outputs": [
    {
     "data": {
      "text/plain": [
       "354"
      ]
     },
     "execution_count": 3,
     "metadata": {},
     "output_type": "execute_result"
    }
   ],
   "source": [
    "df['mmsi'].nunique()"
   ]
  },
  {
   "cell_type": "markdown",
   "metadata": {},
   "source": [
    "## Remove unknown (-1 in is_fishing column)"
   ]
  },
  {
   "cell_type": "code",
   "execution_count": 4,
   "metadata": {},
   "outputs": [
    {
     "data": {
      "text/plain": [
       "is_fishing\n",
       "0.000000    295979\n",
       "1.000000    247498\n",
       "0.666667      4806\n",
       "0.333333      4096\n",
       "0.750000       752\n",
       "0.250000       670\n",
       "0.800000        33\n",
       "0.166667        12\n",
       "0.400000         9\n",
       "Name: count, dtype: int64"
      ]
     },
     "execution_count": 4,
     "metadata": {},
     "output_type": "execute_result"
    }
   ],
   "source": [
    "df = df.loc[df['is_fishing'] > -1]\n",
    "df['is_fishing'].value_counts()"
   ]
  },
  {
   "cell_type": "markdown",
   "metadata": {},
   "source": [
    "## Converting is_fishing to Binary (0 or 1)"
   ]
  },
  {
   "cell_type": "code",
   "execution_count": 5,
   "metadata": {},
   "outputs": [
    {
     "data": {
      "text/plain": [
       "is_fishing\n",
       "0.0    300766\n",
       "1.0    253089\n",
       "Name: count, dtype: int64"
      ]
     },
     "execution_count": 5,
     "metadata": {},
     "output_type": "execute_result"
    }
   ],
   "source": [
    "df_fishing = df.copy()\n",
    "\n",
    "# round the decimals so that number becomes 0 or 1\n",
    "df_fishing.loc[:, ('is_fishing')] = round(df_fishing.loc[:, ('is_fishing')])\n",
    "\n",
    "# check the unique values\n",
    "df_fishing['is_fishing'].value_counts()"
   ]
  },
  {
   "cell_type": "markdown",
   "metadata": {},
   "source": [
    "## OHE 'type'"
   ]
  },
  {
   "cell_type": "code",
   "execution_count": 6,
   "metadata": {},
   "outputs": [],
   "source": [
    "# Instantiate the OneHotEncoder\n",
    "ohe = OneHotEncoder(sparse_output =False)\n",
    "\n",
    "# Fit encoder\n",
    "ohe.fit(df[['type']])\n",
    "\n",
    "# Transform the current \"Alley\" column\n",
    "df[ohe.get_feature_names_out()] = ohe.transform(df[['type']])\n",
    "\n",
    "# Drop the column \"Alley\" which has been encoded\n",
    "df.drop(columns = [\"type\", \"source\"], inplace = True)"
   ]
  },
  {
   "cell_type": "markdown",
   "metadata": {},
   "source": [
    "# Date Engineering"
   ]
  },
  {
   "cell_type": "markdown",
   "metadata": {},
   "source": [
    "## Converting timestamp to datetime format"
   ]
  },
  {
   "cell_type": "code",
   "execution_count": 7,
   "metadata": {},
   "outputs": [
    {
     "data": {
      "text/html": [
       "<div>\n",
       "<style scoped>\n",
       "    .dataframe tbody tr th:only-of-type {\n",
       "        vertical-align: middle;\n",
       "    }\n",
       "\n",
       "    .dataframe tbody tr th {\n",
       "        vertical-align: top;\n",
       "    }\n",
       "\n",
       "    .dataframe thead th {\n",
       "        text-align: right;\n",
       "    }\n",
       "</style>\n",
       "<table border=\"1\" class=\"dataframe\">\n",
       "  <thead>\n",
       "    <tr style=\"text-align: right;\">\n",
       "      <th></th>\n",
       "      <th>mmsi</th>\n",
       "      <th>date</th>\n",
       "      <th>distance_from_shore</th>\n",
       "      <th>distance_from_port</th>\n",
       "      <th>speed</th>\n",
       "      <th>course</th>\n",
       "      <th>lat</th>\n",
       "      <th>lon</th>\n",
       "      <th>is_fishing</th>\n",
       "      <th>source</th>\n",
       "      <th>type</th>\n",
       "      <th>month</th>\n",
       "      <th>day_of_week</th>\n",
       "    </tr>\n",
       "  </thead>\n",
       "  <tbody>\n",
       "    <tr>\n",
       "      <th>60646</th>\n",
       "      <td>1.252340e+12</td>\n",
       "      <td>2015-01-01 05:08:23</td>\n",
       "      <td>0.0</td>\n",
       "      <td>0.0</td>\n",
       "      <td>0.0</td>\n",
       "      <td>128.0</td>\n",
       "      <td>52.458717</td>\n",
       "      <td>4.581316</td>\n",
       "      <td>0.0</td>\n",
       "      <td>gfw</td>\n",
       "      <td>trawlers</td>\n",
       "      <td>1</td>\n",
       "      <td>3</td>\n",
       "    </tr>\n",
       "    <tr>\n",
       "      <th>60647</th>\n",
       "      <td>1.252340e+12</td>\n",
       "      <td>2015-01-01 05:20:34</td>\n",
       "      <td>0.0</td>\n",
       "      <td>0.0</td>\n",
       "      <td>0.0</td>\n",
       "      <td>128.0</td>\n",
       "      <td>52.458733</td>\n",
       "      <td>4.581316</td>\n",
       "      <td>0.0</td>\n",
       "      <td>gfw</td>\n",
       "      <td>trawlers</td>\n",
       "      <td>1</td>\n",
       "      <td>3</td>\n",
       "    </tr>\n",
       "    <tr>\n",
       "      <th>60648</th>\n",
       "      <td>1.252340e+12</td>\n",
       "      <td>2015-01-01 05:32:53</td>\n",
       "      <td>0.0</td>\n",
       "      <td>0.0</td>\n",
       "      <td>0.0</td>\n",
       "      <td>128.0</td>\n",
       "      <td>52.458698</td>\n",
       "      <td>4.581267</td>\n",
       "      <td>0.0</td>\n",
       "      <td>gfw</td>\n",
       "      <td>trawlers</td>\n",
       "      <td>1</td>\n",
       "      <td>3</td>\n",
       "    </tr>\n",
       "    <tr>\n",
       "      <th>60649</th>\n",
       "      <td>1.252340e+12</td>\n",
       "      <td>2015-01-01 05:45:23</td>\n",
       "      <td>0.0</td>\n",
       "      <td>0.0</td>\n",
       "      <td>0.0</td>\n",
       "      <td>128.0</td>\n",
       "      <td>52.458698</td>\n",
       "      <td>4.581234</td>\n",
       "      <td>0.0</td>\n",
       "      <td>gfw</td>\n",
       "      <td>trawlers</td>\n",
       "      <td>1</td>\n",
       "      <td>3</td>\n",
       "    </tr>\n",
       "    <tr>\n",
       "      <th>60650</th>\n",
       "      <td>1.252340e+12</td>\n",
       "      <td>2015-01-01 05:57:24</td>\n",
       "      <td>0.0</td>\n",
       "      <td>0.0</td>\n",
       "      <td>0.0</td>\n",
       "      <td>128.0</td>\n",
       "      <td>52.458683</td>\n",
       "      <td>4.581183</td>\n",
       "      <td>0.0</td>\n",
       "      <td>gfw</td>\n",
       "      <td>trawlers</td>\n",
       "      <td>1</td>\n",
       "      <td>3</td>\n",
       "    </tr>\n",
       "  </tbody>\n",
       "</table>\n",
       "</div>"
      ],
      "text/plain": [
       "               mmsi                date  distance_from_shore  \\\n",
       "60646  1.252340e+12 2015-01-01 05:08:23                  0.0   \n",
       "60647  1.252340e+12 2015-01-01 05:20:34                  0.0   \n",
       "60648  1.252340e+12 2015-01-01 05:32:53                  0.0   \n",
       "60649  1.252340e+12 2015-01-01 05:45:23                  0.0   \n",
       "60650  1.252340e+12 2015-01-01 05:57:24                  0.0   \n",
       "\n",
       "       distance_from_port  speed  course        lat       lon  is_fishing  \\\n",
       "60646                 0.0    0.0   128.0  52.458717  4.581316         0.0   \n",
       "60647                 0.0    0.0   128.0  52.458733  4.581316         0.0   \n",
       "60648                 0.0    0.0   128.0  52.458698  4.581267         0.0   \n",
       "60649                 0.0    0.0   128.0  52.458698  4.581234         0.0   \n",
       "60650                 0.0    0.0   128.0  52.458683  4.581183         0.0   \n",
       "\n",
       "      source      type  month  day_of_week  \n",
       "60646    gfw  trawlers      1            3  \n",
       "60647    gfw  trawlers      1            3  \n",
       "60648    gfw  trawlers      1            3  \n",
       "60649    gfw  trawlers      1            3  \n",
       "60650    gfw  trawlers      1            3  "
      ]
     },
     "execution_count": 7,
     "metadata": {},
     "output_type": "execute_result"
    }
   ],
   "source": [
    "df_fishing['timestamp'] = pd.to_datetime(df_fishing['timestamp'], unit='s')\n",
    "df_fishing.rename(columns={\"timestamp\": \"date\"}, inplace=True)\n",
    "df_fishing['month'] = df_fishing['date'].dt.month\n",
    "df_fishing['day_of_week'] = df_fishing['date'].dt.day_of_week\n",
    "df_fishing.head()"
   ]
  },
  {
   "cell_type": "markdown",
   "metadata": {},
   "source": [
    "## Using Angular distance for the days of the week"
   ]
  },
  {
   "cell_type": "code",
   "execution_count": 8,
   "metadata": {},
   "outputs": [],
   "source": [
    "df_fishing['day_of_week_sin'] = np.sin(df_fishing['day_of_week'] * (2 * np.pi / 7))\n",
    "df_fishing['day_of_week_cos'] = np.cos(df_fishing['day_of_week'] * (2 * np.pi / 7))"
   ]
  },
  {
   "cell_type": "markdown",
   "metadata": {},
   "source": [
    "## Encoding dates"
   ]
  },
  {
   "cell_type": "code",
   "execution_count": 9,
   "metadata": {},
   "outputs": [],
   "source": [
    "# Instantiate the OneHotEncoder\n",
    "ohe = OneHotEncoder(sparse_output =False)\n",
    "\n",
    "# Fit encoder\n",
    "ohe.fit(df_fishing[['day_of_week']])\n",
    "\n",
    "# Transform the current \"day_of_week\" column\n",
    "df_fishing[ohe.get_feature_names_out()] = ohe.transform(df_fishing[['day_of_week']])\n",
    "\n",
    "# Drop the column \"day_of_week\" which has been encoded\n",
    "df_fishing.drop(columns = [\"day_of_week\"], inplace = True)"
   ]
  },
  {
   "cell_type": "code",
   "execution_count": 10,
   "metadata": {},
   "outputs": [],
   "source": [
    "# Instantiate the OneHotEncoder\n",
    "ohe = OneHotEncoder(sparse_output =False)\n",
    "\n",
    "# Fit encoder\n",
    "ohe.fit(df_fishing[['month']])\n",
    "\n",
    "# Transform the current \"month\" column\n",
    "df_fishing[ohe.get_feature_names_out()] = ohe.transform(df_fishing[['month']])\n",
    "\n",
    "# Drop the column \"month\" which has been encoded\n",
    "df_fishing.drop(columns = [\"month\"], inplace = True)"
   ]
  },
  {
   "cell_type": "code",
   "execution_count": 11,
   "metadata": {},
   "outputs": [
    {
     "data": {
      "text/plain": [
       "mmsi                      299\n",
       "date                   545942\n",
       "distance_from_shore     79307\n",
       "distance_from_port      95720\n",
       "speed                     240\n",
       "course                   3602\n",
       "lat                    363346\n",
       "lon                    372710\n",
       "is_fishing                  2\n",
       "source                      6\n",
       "type                        7\n",
       "day_of_week_sin             7\n",
       "day_of_week_cos             7\n",
       "day_of_week_0               2\n",
       "day_of_week_1               2\n",
       "day_of_week_2               2\n",
       "day_of_week_3               2\n",
       "day_of_week_4               2\n",
       "day_of_week_5               2\n",
       "day_of_week_6               2\n",
       "month_1                     2\n",
       "month_2                     2\n",
       "month_3                     2\n",
       "month_4                     2\n",
       "month_5                     2\n",
       "month_6                     2\n",
       "month_7                     2\n",
       "month_8                     2\n",
       "month_9                     2\n",
       "month_10                    2\n",
       "month_11                    2\n",
       "month_12                    2\n",
       "dtype: int64"
      ]
     },
     "execution_count": 11,
     "metadata": {},
     "output_type": "execute_result"
    }
   ],
   "source": [
    "# Calculate the value counts of 'mmsi'\n",
    "mmsi_counts = df_fishing['mmsi'].value_counts()\n",
    "\n",
    "# Create a boolean mask for filtering mmsi values with counts less than or equal to 20\n",
    "mask = mmsi_counts > 10\n",
    "\n",
    "# Get the mmsi values that meet the condition\n",
    "selected_mmsi = mmsi_counts[mask].index\n",
    "\n",
    "# Use the isin() method to filter the DataFrame based on selected_mmsi\n",
    "filtered_fishing_df = df_fishing[df_fishing['mmsi'].isin(selected_mmsi)]\n",
    "filtered_fishing_df.nunique()"
   ]
  },
  {
   "cell_type": "markdown",
   "metadata": {},
   "source": [
    "## Defining X features and y target"
   ]
  },
  {
   "cell_type": "code",
   "execution_count": 12,
   "metadata": {},
   "outputs": [
    {
     "data": {
      "text/plain": [
       "mmsi                   0\n",
       "date                   0\n",
       "distance_from_shore    0\n",
       "distance_from_port     0\n",
       "speed                  0\n",
       "course                 0\n",
       "lat                    0\n",
       "lon                    0\n",
       "is_fishing             0\n",
       "source                 0\n",
       "type                   0\n",
       "day_of_week_sin        0\n",
       "day_of_week_cos        0\n",
       "day_of_week_0          0\n",
       "day_of_week_1          0\n",
       "day_of_week_2          0\n",
       "day_of_week_3          0\n",
       "day_of_week_4          0\n",
       "day_of_week_5          0\n",
       "day_of_week_6          0\n",
       "month_1                0\n",
       "month_2                0\n",
       "month_3                0\n",
       "month_4                0\n",
       "month_5                0\n",
       "month_6                0\n",
       "month_7                0\n",
       "month_8                0\n",
       "month_9                0\n",
       "month_10               0\n",
       "month_11               0\n",
       "month_12               0\n",
       "dtype: int64"
      ]
     },
     "execution_count": 12,
     "metadata": {},
     "output_type": "execute_result"
    }
   ],
   "source": [
    "# Dropping rows with NAN values\n",
    "df_fishing_clean = filtered_fishing_df.dropna()\n",
    "df_fishing_clean.isna().sum()"
   ]
  },
  {
   "cell_type": "markdown",
   "metadata": {},
   "source": [
    "# Defining X - Features and y - Target"
   ]
  },
  {
   "cell_type": "code",
   "execution_count": 13,
   "metadata": {},
   "outputs": [
    {
     "data": {
      "text/plain": [
       "((553702, 27), (553702,))"
      ]
     },
     "execution_count": 13,
     "metadata": {},
     "output_type": "execute_result"
    }
   ],
   "source": [
    "# Defining X - the features and Y - the target\n",
    "X = df_fishing_clean.drop(columns=['mmsi','date', 'is_fishing','source', 'type'])\n",
    "y = df_fishing_clean['is_fishing']\n",
    "X.shape, y.shape"
   ]
  },
  {
   "cell_type": "code",
   "execution_count": 15,
   "metadata": {},
   "outputs": [
    {
     "data": {
      "text/html": [
       "<div>\n",
       "<style scoped>\n",
       "    .dataframe tbody tr th:only-of-type {\n",
       "        vertical-align: middle;\n",
       "    }\n",
       "\n",
       "    .dataframe tbody tr th {\n",
       "        vertical-align: top;\n",
       "    }\n",
       "\n",
       "    .dataframe thead th {\n",
       "        text-align: right;\n",
       "    }\n",
       "</style>\n",
       "<table border=\"1\" class=\"dataframe\">\n",
       "  <thead>\n",
       "    <tr style=\"text-align: right;\">\n",
       "      <th></th>\n",
       "      <th>mmsi</th>\n",
       "      <th>date</th>\n",
       "      <th>distance_from_shore</th>\n",
       "      <th>distance_from_port</th>\n",
       "      <th>speed</th>\n",
       "      <th>course</th>\n",
       "      <th>lat</th>\n",
       "      <th>lon</th>\n",
       "      <th>is_fishing</th>\n",
       "      <th>source</th>\n",
       "      <th>...</th>\n",
       "      <th>month_3</th>\n",
       "      <th>month_4</th>\n",
       "      <th>month_5</th>\n",
       "      <th>month_6</th>\n",
       "      <th>month_7</th>\n",
       "      <th>month_8</th>\n",
       "      <th>month_9</th>\n",
       "      <th>month_10</th>\n",
       "      <th>month_11</th>\n",
       "      <th>month_12</th>\n",
       "    </tr>\n",
       "  </thead>\n",
       "  <tbody>\n",
       "    <tr>\n",
       "      <th>61241</th>\n",
       "      <td>1.252340e+12</td>\n",
       "      <td>2015-01-10 04:22:47</td>\n",
       "      <td>3162.200195</td>\n",
       "      <td>24758.228516</td>\n",
       "      <td>2.1</td>\n",
       "      <td>358.0</td>\n",
       "      <td>58.266666</td>\n",
       "      <td>-6.211900</td>\n",
       "      <td>1.0</td>\n",
       "      <td>gfw</td>\n",
       "      <td>...</td>\n",
       "      <td>0.0</td>\n",
       "      <td>0.0</td>\n",
       "      <td>0.0</td>\n",
       "      <td>0.0</td>\n",
       "      <td>0.0</td>\n",
       "      <td>0.0</td>\n",
       "      <td>0.0</td>\n",
       "      <td>0.0</td>\n",
       "      <td>0.0</td>\n",
       "      <td>0.0</td>\n",
       "    </tr>\n",
       "    <tr>\n",
       "      <th>61242</th>\n",
       "      <td>1.252340e+12</td>\n",
       "      <td>2015-01-10 04:36:06</td>\n",
       "      <td>2236.013184</td>\n",
       "      <td>24041.039062</td>\n",
       "      <td>1.6</td>\n",
       "      <td>156.0</td>\n",
       "      <td>58.261967</td>\n",
       "      <td>-6.212450</td>\n",
       "      <td>1.0</td>\n",
       "      <td>gfw</td>\n",
       "      <td>...</td>\n",
       "      <td>0.0</td>\n",
       "      <td>0.0</td>\n",
       "      <td>0.0</td>\n",
       "      <td>0.0</td>\n",
       "      <td>0.0</td>\n",
       "      <td>0.0</td>\n",
       "      <td>0.0</td>\n",
       "      <td>0.0</td>\n",
       "      <td>0.0</td>\n",
       "      <td>0.0</td>\n",
       "    </tr>\n",
       "    <tr>\n",
       "      <th>61243</th>\n",
       "      <td>1.252340e+12</td>\n",
       "      <td>2015-01-10 04:48:48</td>\n",
       "      <td>999.975464</td>\n",
       "      <td>22671.011719</td>\n",
       "      <td>4.1</td>\n",
       "      <td>222.0</td>\n",
       "      <td>58.255520</td>\n",
       "      <td>-6.211983</td>\n",
       "      <td>1.0</td>\n",
       "      <td>gfw</td>\n",
       "      <td>...</td>\n",
       "      <td>0.0</td>\n",
       "      <td>0.0</td>\n",
       "      <td>0.0</td>\n",
       "      <td>0.0</td>\n",
       "      <td>0.0</td>\n",
       "      <td>0.0</td>\n",
       "      <td>0.0</td>\n",
       "      <td>0.0</td>\n",
       "      <td>0.0</td>\n",
       "      <td>0.0</td>\n",
       "    </tr>\n",
       "    <tr>\n",
       "      <th>61244</th>\n",
       "      <td>1.252340e+12</td>\n",
       "      <td>2015-01-10 05:01:51</td>\n",
       "      <td>2999.926270</td>\n",
       "      <td>21212.683594</td>\n",
       "      <td>3.0</td>\n",
       "      <td>329.0</td>\n",
       "      <td>58.252148</td>\n",
       "      <td>-6.232550</td>\n",
       "      <td>1.0</td>\n",
       "      <td>gfw</td>\n",
       "      <td>...</td>\n",
       "      <td>0.0</td>\n",
       "      <td>0.0</td>\n",
       "      <td>0.0</td>\n",
       "      <td>0.0</td>\n",
       "      <td>0.0</td>\n",
       "      <td>0.0</td>\n",
       "      <td>0.0</td>\n",
       "      <td>0.0</td>\n",
       "      <td>0.0</td>\n",
       "      <td>0.0</td>\n",
       "    </tr>\n",
       "    <tr>\n",
       "      <th>61245</th>\n",
       "      <td>1.252340e+12</td>\n",
       "      <td>2015-01-10 05:14:37</td>\n",
       "      <td>3605.462891</td>\n",
       "      <td>22671.011719</td>\n",
       "      <td>1.2</td>\n",
       "      <td>35.0</td>\n",
       "      <td>58.257801</td>\n",
       "      <td>-6.228200</td>\n",
       "      <td>1.0</td>\n",
       "      <td>gfw</td>\n",
       "      <td>...</td>\n",
       "      <td>0.0</td>\n",
       "      <td>0.0</td>\n",
       "      <td>0.0</td>\n",
       "      <td>0.0</td>\n",
       "      <td>0.0</td>\n",
       "      <td>0.0</td>\n",
       "      <td>0.0</td>\n",
       "      <td>0.0</td>\n",
       "      <td>0.0</td>\n",
       "      <td>0.0</td>\n",
       "    </tr>\n",
       "  </tbody>\n",
       "</table>\n",
       "<p>5 rows × 32 columns</p>\n",
       "</div>"
      ],
      "text/plain": [
       "               mmsi                date  distance_from_shore  \\\n",
       "61241  1.252340e+12 2015-01-10 04:22:47          3162.200195   \n",
       "61242  1.252340e+12 2015-01-10 04:36:06          2236.013184   \n",
       "61243  1.252340e+12 2015-01-10 04:48:48           999.975464   \n",
       "61244  1.252340e+12 2015-01-10 05:01:51          2999.926270   \n",
       "61245  1.252340e+12 2015-01-10 05:14:37          3605.462891   \n",
       "\n",
       "       distance_from_port  speed  course        lat       lon  is_fishing  \\\n",
       "61241        24758.228516    2.1   358.0  58.266666 -6.211900         1.0   \n",
       "61242        24041.039062    1.6   156.0  58.261967 -6.212450         1.0   \n",
       "61243        22671.011719    4.1   222.0  58.255520 -6.211983         1.0   \n",
       "61244        21212.683594    3.0   329.0  58.252148 -6.232550         1.0   \n",
       "61245        22671.011719    1.2    35.0  58.257801 -6.228200         1.0   \n",
       "\n",
       "      source  ... month_3  month_4  month_5  month_6  month_7  month_8  \\\n",
       "61241    gfw  ...     0.0      0.0      0.0      0.0      0.0      0.0   \n",
       "61242    gfw  ...     0.0      0.0      0.0      0.0      0.0      0.0   \n",
       "61243    gfw  ...     0.0      0.0      0.0      0.0      0.0      0.0   \n",
       "61244    gfw  ...     0.0      0.0      0.0      0.0      0.0      0.0   \n",
       "61245    gfw  ...     0.0      0.0      0.0      0.0      0.0      0.0   \n",
       "\n",
       "       month_9  month_10  month_11  month_12  \n",
       "61241      0.0       0.0       0.0       0.0  \n",
       "61242      0.0       0.0       0.0       0.0  \n",
       "61243      0.0       0.0       0.0       0.0  \n",
       "61244      0.0       0.0       0.0       0.0  \n",
       "61245      0.0       0.0       0.0       0.0  \n",
       "\n",
       "[5 rows x 32 columns]"
      ]
     },
     "execution_count": 15,
     "metadata": {},
     "output_type": "execute_result"
    }
   ],
   "source": [
    "test = df_fishing_clean[df_fishing_clean['is_fishing']==1]\n",
    "test.head()"
   ]
  },
  {
   "cell_type": "code",
   "execution_count": 17,
   "metadata": {},
   "outputs": [
    {
     "data": {
      "text/plain": [
       "(3482, 32)"
      ]
     },
     "execution_count": 17,
     "metadata": {},
     "output_type": "execute_result"
    }
   ],
   "source": [
    "boat1 = test._get_value(61241, 'mmsi')\n",
    "one_boat1 = df_fishing_clean.loc[df_fishing_clean['mmsi']== boat1]\n",
    "one_boat1.shape"
   ]
  },
  {
   "cell_type": "code",
   "execution_count": null,
   "metadata": {},
   "outputs": [],
   "source": [
    "output_folder = '../data/'\n",
    "output_file = 'boat_test.csv'\n",
    "\n",
    "# Construct the full path\n",
    "output_path = f'{output_folder}/{output_file}'\n",
    "\n",
    "# Save the DataFrame to the specified path\n",
    "one_boat1.to_csv(output_path, index=False)"
   ]
  },
  {
   "cell_type": "markdown",
   "metadata": {},
   "source": [
    "# Correlation"
   ]
  },
  {
   "cell_type": "markdown",
   "metadata": {},
   "source": [
    "## Pearson correlation"
   ]
  },
  {
   "cell_type": "code",
   "execution_count": null,
   "metadata": {},
   "outputs": [],
   "source": [
    "corr = r_regression(X, y)\n",
    "col_names = list(X.columns)\n",
    "df_corr = pd.DataFrame()\n",
    "df_corr ['feature'] = col_names\n",
    "df_corr ['corr'] = corr\n",
    "df_corr ['abs_corr'] = np.abs(df_corr ['corr'])\n",
    "numbers = [0, 0.01, 0.02, 0.03, 0.04, 0.05, 0.10, 0.20]\n",
    "no_len = []\n",
    "\n",
    "for num in numbers:\n",
    "    no_len.append(len(df_corr[df_corr['abs_corr']>num]))\n",
    "\n",
    "print(no_len)"
   ]
  },
  {
   "cell_type": "code",
   "execution_count": null,
   "metadata": {},
   "outputs": [],
   "source": [
    "df_clean = df_corr[df_corr['abs_corr']>0.02]\n",
    "names = df_clean['feature'].values.tolist()"
   ]
  },
  {
   "cell_type": "code",
   "execution_count": null,
   "metadata": {},
   "outputs": [],
   "source": [
    "X18 = df_fishing_clean[names]\n",
    "y18 = df_fishing_clean['is_fishing']\n",
    "X18.shape, y18.shape"
   ]
  },
  {
   "cell_type": "markdown",
   "metadata": {},
   "source": [
    "## Heatmap"
   ]
  },
  {
   "cell_type": "code",
   "execution_count": null,
   "metadata": {},
   "outputs": [],
   "source": [
    "data = df_fishing_clean.drop(columns=['mmsi','date', 'is_fishing','source', 'type'])"
   ]
  },
  {
   "cell_type": "code",
   "execution_count": null,
   "metadata": {},
   "outputs": [],
   "source": [
    "# plotting correlation heatmap\n",
    "dataplot=sns.heatmap(data.corr())\n",
    "  \n",
    "# displaying heatmap\n",
    "plt.show()"
   ]
  },
  {
   "cell_type": "markdown",
   "metadata": {},
   "source": [
    "# Split between train set and test set"
   ]
  },
  {
   "cell_type": "code",
   "execution_count": null,
   "metadata": {},
   "outputs": [],
   "source": [
    "X_train, X_test, y_train, y_test = train_test_split(X, y, test_size=0.3, random_state=88)"
   ]
  },
  {
   "cell_type": "code",
   "execution_count": null,
   "metadata": {},
   "outputs": [],
   "source": [
    "X_train.shape"
   ]
  },
  {
   "cell_type": "code",
   "execution_count": null,
   "metadata": {},
   "outputs": [],
   "source": [
    "X_test_with_MMSI = X_test.merge(df['mmsi'], left_index=True, right_index=True)"
   ]
  },
  {
   "cell_type": "code",
   "execution_count": null,
   "metadata": {},
   "outputs": [],
   "source": [
    "X_test_with_MMSI.head()"
   ]
  },
  {
   "cell_type": "markdown",
   "metadata": {},
   "source": []
  },
  {
   "cell_type": "code",
   "execution_count": null,
   "metadata": {},
   "outputs": [],
   "source": [
    "output_folder = '../data/'\n",
    "output_file = 'X_test.csv'\n",
    "\n",
    "# Construct the full path\n",
    "output_path = f'{output_folder}/{output_file}'\n",
    "\n",
    "# Save the DataFrame to the specified path\n",
    "X_test_with_MMSI.to_csv(output_path, index=False)"
   ]
  },
  {
   "cell_type": "code",
   "execution_count": null,
   "metadata": {},
   "outputs": [],
   "source": [
    "X18_train, X18_test, y_train, y_test = train_test_split(X18, y, test_size=0.3, random_state=88)"
   ]
  },
  {
   "cell_type": "markdown",
   "metadata": {},
   "source": [
    "## Standard Scaler"
   ]
  },
  {
   "cell_type": "code",
   "execution_count": null,
   "metadata": {},
   "outputs": [],
   "source": [
    "scale = StandardScaler()"
   ]
  },
  {
   "cell_type": "markdown",
   "metadata": {},
   "source": [
    "# Logistic Regresssion"
   ]
  },
  {
   "cell_type": "code",
   "execution_count": null,
   "metadata": {},
   "outputs": [],
   "source": [
    "logistic_pipeline = make_pipeline(scale, LogisticRegression(max_iter=1000))\n",
    "logistic_pipeline"
   ]
  },
  {
   "cell_type": "code",
   "execution_count": null,
   "metadata": {},
   "outputs": [],
   "source": [
    "# Train Pipeline\n",
    "logistic_pipeline.fit(X_train,y_train)\n",
    "\n",
    "# Make predictions\n",
    "y_pred = logistic_pipeline.predict(X_test)\n",
    "\n",
    "accuracy = accuracy_score(y_test, y_pred)\n",
    "precision = precision_score(y_test, y_pred)\n",
    "print(f\"Accuracy: {accuracy:.2f} Precision:{precision:.2f}\")"
   ]
  },
  {
   "cell_type": "code",
   "execution_count": null,
   "metadata": {},
   "outputs": [],
   "source": [
    "print(classification_report(y_test, y_pred))"
   ]
  },
  {
   "cell_type": "code",
   "execution_count": null,
   "metadata": {},
   "outputs": [],
   "source": [
    "cv_lr_results = cross_validate(logistic_pipeline,\n",
    "                            X_test, \n",
    "                            y_test, \n",
    "                            cv=5,\n",
    "                            scoring =['accuracy'])\n",
    "cv_lr_results['test_accuracy'].mean()"
   ]
  },
  {
   "cell_type": "markdown",
   "metadata": {},
   "source": [
    "# KNN Classifier"
   ]
  },
  {
   "cell_type": "code",
   "execution_count": null,
   "metadata": {},
   "outputs": [],
   "source": [
    "knn_pipeline = make_pipeline(scale, KNeighborsClassifier(n_neighbors=3))\n",
    "knn_pipeline"
   ]
  },
  {
   "cell_type": "code",
   "execution_count": null,
   "metadata": {},
   "outputs": [],
   "source": [
    "# Train Pipeline\n",
    "knn_pipeline.fit(X_train,y_train)\n",
    "y_pred = knn_pipeline.predict(X_test)\n",
    "accuracy = accuracy_score(y_test, y_pred)\n",
    "precision = precision_score(y_test, y_pred)\n",
    "print(f\"Accuracy: {accuracy:.2f} Precision:{precision:.2f}\")"
   ]
  },
  {
   "cell_type": "code",
   "execution_count": null,
   "metadata": {},
   "outputs": [],
   "source": [
    "print(classification_report(y_test, y_pred))"
   ]
  },
  {
   "cell_type": "code",
   "execution_count": null,
   "metadata": {},
   "outputs": [],
   "source": [
    "cv_knn_results = cross_validate(knn_pipeline,\n",
    "                            X_test, \n",
    "                            y_test, \n",
    "                            cv=5,\n",
    "                            scoring =['accuracy'])\n",
    "cv_knn_results['test_accuracy'].mean()"
   ]
  },
  {
   "cell_type": "markdown",
   "metadata": {},
   "source": [
    "# Random forest"
   ]
  },
  {
   "cell_type": "code",
   "execution_count": null,
   "metadata": {},
   "outputs": [],
   "source": [
    "rff_pipeline = make_pipeline(scale, RandomForestClassifier())\n",
    "rff_pipeline"
   ]
  },
  {
   "cell_type": "code",
   "execution_count": null,
   "metadata": {},
   "outputs": [],
   "source": [
    "# Train Pipeline\n",
    "rff_pipeline.fit(X_train,y_train)\n",
    "y_pred = rff_pipeline.predict(X_test)\n",
    "accuracy = accuracy_score(y_test, y_pred)\n",
    "precision = precision_score(y_test, y_pred)\n",
    "print(f\"Accuracy: {accuracy:.2f} Precision:{precision:.2f}\")"
   ]
  },
  {
   "cell_type": "code",
   "execution_count": null,
   "metadata": {},
   "outputs": [],
   "source": [
    "print(classification_report(y_test, y_pred))"
   ]
  },
  {
   "cell_type": "code",
   "execution_count": null,
   "metadata": {},
   "outputs": [],
   "source": [
    "cv_results = cross_validate(rff_pipeline,\n",
    "                            X_test, \n",
    "                            y_test, \n",
    "                            cv=5,\n",
    "                            scoring =['accuracy'])\n",
    "cv_results['test_accuracy'].mean()"
   ]
  },
  {
   "cell_type": "code",
   "execution_count": null,
   "metadata": {},
   "outputs": [],
   "source": [
    "# Train Pipeline\n",
    "rff_pipeline.fit(X18_train,y_train)\n",
    "y18_pred = rff_pipeline.predict(X18_test)\n",
    "accuracy = accuracy_score(y_test, y18_pred)\n",
    "precision = precision_score(y_test, y18_pred)\n",
    "print(f\"Accuracy: {accuracy:.2f} Precision:{precision:.2f}\")"
   ]
  },
  {
   "cell_type": "code",
   "execution_count": null,
   "metadata": {},
   "outputs": [],
   "source": [
    "print(classification_report(y_test, y18_pred))"
   ]
  },
  {
   "cell_type": "code",
   "execution_count": null,
   "metadata": {},
   "outputs": [],
   "source": [
    "cv_results25 = cross_validate(rff_pipeline,\n",
    "                            X18_test, \n",
    "                            y_test, \n",
    "                            cv=5,\n",
    "                            scoring =['accuracy'])\n",
    "cv_results['test_accuracy'].mean()"
   ]
  },
  {
   "cell_type": "markdown",
   "metadata": {},
   "source": [
    "# Export to CSV for quick access"
   ]
  },
  {
   "cell_type": "code",
   "execution_count": null,
   "metadata": {},
   "outputs": [],
   "source": [
    "output_folder = '../data/preprocessed'\n",
    "output_file = 'preproc.csv'\n",
    "\n",
    "# Construct the full path\n",
    "output_path = f'{output_folder}/{output_file}'\n",
    "\n",
    "# Save the DataFrame to the specified path\n",
    "df_fishing.to_csv(output_path, index=False)"
   ]
  },
  {
   "cell_type": "markdown",
   "metadata": {},
   "source": [
    "# Map data on world map with geopandas"
   ]
  },
  {
   "cell_type": "code",
   "execution_count": null,
   "metadata": {},
   "outputs": [],
   "source": [
    "geometry = [Point(xy) for xy in zip(df_fishing['lon'], df_fishing['lat'])]\n",
    "crs = {'init':'epsg:4326'}\n",
    "geo_df = gpd.GeoDataFrame(df_fishing, #specify our data\n",
    "                          crs=crs, #specify our coordinate reference system\n",
    "                          geometry=geometry) #specify the geometry list we created\n",
    "geo_df.head()"
   ]
  },
  {
   "cell_type": "markdown",
   "metadata": {},
   "source": [
    "## Mapping one boat"
   ]
  },
  {
   "cell_type": "code",
   "execution_count": null,
   "metadata": {},
   "outputs": [],
   "source": [
    "boat = geo_df._get_value(60649, 'mmsi')\n",
    "one_boat = geo_df.loc[geo_df['mmsi']== boat]"
   ]
  },
  {
   "cell_type": "code",
   "execution_count": null,
   "metadata": {},
   "outputs": [],
   "source": [
    "# Getting world map data from geo pandas\n",
    "worldmap = gpd.read_file(gpd.datasets.get_path(\"naturalearth_lowres\"))\n",
    "\n",
    "# Creating axes and plotting world map\n",
    "fig, ax = plt.subplots(figsize=(16, 10))\n",
    "worldmap.plot(color=\"lightgrey\", ax=ax)\n",
    "\n",
    "# Plotting Longitudes and Latitudes of one boat\n",
    "x = one_boat['lon']\n",
    "y = one_boat['lat']\n",
    "plt.scatter(x, y, cmap='autumn')\n",
    "plt.line(x, y)\n",
    "\n",
    "# Creating axis limits and title\n",
    "plt.xlim([-180, 180])\n",
    "plt.ylim([-90, 90])\n",
    "\n",
    "plt.xlabel(\"Longitude\")\n",
    "plt.ylabel(\"Latitude\")\n",
    "plt.show()"
   ]
  },
  {
   "cell_type": "markdown",
   "metadata": {},
   "source": [
    "## Mapping all boats"
   ]
  },
  {
   "cell_type": "code",
   "execution_count": null,
   "metadata": {},
   "outputs": [],
   "source": [
    "# Creating axes and plotting world map\n",
    "fig, ax = plt.subplots(figsize=(16, 10))\n",
    "worldmap.plot(color=\"lightgrey\", ax=ax)\n",
    "\n",
    "# Plotting Longitudes and Latitudes of one boat\n",
    "x = geo_df['lon']\n",
    "y = geo_df['lat']\n",
    "boats = geo_df['mmsi']\n",
    "plt.scatter(x, y, c=boats, cmap='autumn')\n",
    "\n",
    "# Creating axis limits and title\n",
    "plt.xlim([-180, 180])\n",
    "plt.ylim([-90, 90])\n",
    "\n",
    "plt.xlabel(\"Longitude\")\n",
    "plt.ylabel(\"Latitude\")\n",
    "plt.show()"
   ]
  },
  {
   "cell_type": "code",
   "execution_count": null,
   "metadata": {},
   "outputs": [],
   "source": [
    "df_fishing_clean.shape"
   ]
  },
  {
   "cell_type": "code",
   "execution_count": null,
   "metadata": {},
   "outputs": [],
   "source": [
    "df_fishing_clean['is_fishing'].value_counts()"
   ]
  },
  {
   "cell_type": "code",
   "execution_count": null,
   "metadata": {},
   "outputs": [],
   "source": [
    "grouped = df_fishing_clean.groupby('mmsi')"
   ]
  },
  {
   "cell_type": "code",
   "execution_count": null,
   "metadata": {},
   "outputs": [],
   "source": [
    "grouped['is_fishing'].value_counts()"
   ]
  }
 ],
 "metadata": {
  "kernelspec": {
   "display_name": "fishing_classification",
   "language": "python",
   "name": "python3"
  },
  "language_info": {
   "codemirror_mode": {
    "name": "ipython",
    "version": 3
   },
   "file_extension": ".py",
   "mimetype": "text/x-python",
   "name": "python",
   "nbconvert_exporter": "python",
   "pygments_lexer": "ipython3",
   "version": "3.10.6"
  },
  "orig_nbformat": 4
 },
 "nbformat": 4,
 "nbformat_minor": 2
}
