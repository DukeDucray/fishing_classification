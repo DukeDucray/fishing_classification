{
 "cells": [
  {
   "cell_type": "code",
   "execution_count": 1,
   "metadata": {},
   "outputs": [
    {
     "name": "stderr",
     "output_type": "stream",
     "text": [
      "2023-08-24 14:08:30.833728: I tensorflow/core/platform/cpu_feature_guard.cc:193] This TensorFlow binary is optimized with oneAPI Deep Neural Network Library (oneDNN) to use the following CPU instructions in performance-critical operations:  AVX2 FMA\n",
      "To enable them in other operations, rebuild TensorFlow with the appropriate compiler flags.\n",
      "2023-08-24 14:08:30.991330: W tensorflow/stream_executor/platform/default/dso_loader.cc:64] Could not load dynamic library 'libcudart.so.11.0'; dlerror: libcudart.so.11.0: cannot open shared object file: No such file or directory\n",
      "2023-08-24 14:08:30.991350: I tensorflow/stream_executor/cuda/cudart_stub.cc:29] Ignore above cudart dlerror if you do not have a GPU set up on your machine.\n",
      "2023-08-24 14:08:31.024816: E tensorflow/stream_executor/cuda/cuda_blas.cc:2981] Unable to register cuBLAS factory: Attempting to register factory for plugin cuBLAS when one has already been registered\n",
      "2023-08-24 14:08:31.855111: W tensorflow/stream_executor/platform/default/dso_loader.cc:64] Could not load dynamic library 'libnvinfer.so.7'; dlerror: libnvinfer.so.7: cannot open shared object file: No such file or directory\n",
      "2023-08-24 14:08:31.855202: W tensorflow/stream_executor/platform/default/dso_loader.cc:64] Could not load dynamic library 'libnvinfer_plugin.so.7'; dlerror: libnvinfer_plugin.so.7: cannot open shared object file: No such file or directory\n",
      "2023-08-24 14:08:31.855210: W tensorflow/compiler/tf2tensorrt/utils/py_utils.cc:38] TF-TRT Warning: Cannot dlopen some TensorRT libraries. If you would like to use Nvidia GPU with TensorRT, please make sure the missing libraries mentioned above are installed properly.\n"
     ]
    }
   ],
   "source": [
    "from tensorflow.keras import models\n",
    "from tensorflow.keras import layers\n",
    "from tensorflow.keras import optimizers, metrics\n",
    "from tensorflow.keras import regularizers\n",
    "from tensorflow.keras.layers.experimental.preprocessing import Normalization\n",
    "from tensorflow.keras.layers import BatchNormalization\n",
    "import pandas as pd\n",
    "import numpy as np\n",
    "import matplotlib.pyplot as plt\n",
    "from sklearn.model_selection import train_test_split\n",
    "from tensorflow.keras.callbacks import EarlyStopping"
   ]
  },
  {
   "cell_type": "code",
   "execution_count": 2,
   "metadata": {},
   "outputs": [
    {
     "data": {
      "text/html": [
       "<div>\n",
       "<style scoped>\n",
       "    .dataframe tbody tr th:only-of-type {\n",
       "        vertical-align: middle;\n",
       "    }\n",
       "\n",
       "    .dataframe tbody tr th {\n",
       "        vertical-align: top;\n",
       "    }\n",
       "\n",
       "    .dataframe thead th {\n",
       "        text-align: right;\n",
       "    }\n",
       "</style>\n",
       "<table border=\"1\" class=\"dataframe\">\n",
       "  <thead>\n",
       "    <tr style=\"text-align: right;\">\n",
       "      <th></th>\n",
       "      <th>mmsi</th>\n",
       "      <th>date</th>\n",
       "      <th>distance_from_shore</th>\n",
       "      <th>distance_from_port</th>\n",
       "      <th>speed</th>\n",
       "      <th>course</th>\n",
       "      <th>lat</th>\n",
       "      <th>lon</th>\n",
       "      <th>is_fishing</th>\n",
       "      <th>type_drifting_longlines</th>\n",
       "      <th>type_fixed_gear</th>\n",
       "      <th>type_pole_and_line</th>\n",
       "      <th>type_purse_seines</th>\n",
       "      <th>type_trawlers</th>\n",
       "      <th>type_trollers</th>\n",
       "      <th>type_unknown</th>\n",
       "      <th>year</th>\n",
       "      <th>month</th>\n",
       "      <th>day_of_week</th>\n",
       "      <th>utc_offset</th>\n",
       "    </tr>\n",
       "  </thead>\n",
       "  <tbody>\n",
       "    <tr>\n",
       "      <th>0</th>\n",
       "      <td>1.252340e+12</td>\n",
       "      <td>2015-01-01 05:08:23</td>\n",
       "      <td>0.0</td>\n",
       "      <td>0.0</td>\n",
       "      <td>0.0</td>\n",
       "      <td>128.0</td>\n",
       "      <td>52.458717</td>\n",
       "      <td>4.581316</td>\n",
       "      <td>0.0</td>\n",
       "      <td>0.0</td>\n",
       "      <td>0.0</td>\n",
       "      <td>0.0</td>\n",
       "      <td>0.0</td>\n",
       "      <td>1.0</td>\n",
       "      <td>0.0</td>\n",
       "      <td>0.0</td>\n",
       "      <td>2015</td>\n",
       "      <td>1</td>\n",
       "      <td>3</td>\n",
       "      <td>-4.0</td>\n",
       "    </tr>\n",
       "    <tr>\n",
       "      <th>1</th>\n",
       "      <td>1.252340e+12</td>\n",
       "      <td>2015-01-01 05:20:34</td>\n",
       "      <td>0.0</td>\n",
       "      <td>0.0</td>\n",
       "      <td>0.0</td>\n",
       "      <td>128.0</td>\n",
       "      <td>52.458733</td>\n",
       "      <td>4.581316</td>\n",
       "      <td>0.0</td>\n",
       "      <td>0.0</td>\n",
       "      <td>0.0</td>\n",
       "      <td>0.0</td>\n",
       "      <td>0.0</td>\n",
       "      <td>1.0</td>\n",
       "      <td>0.0</td>\n",
       "      <td>0.0</td>\n",
       "      <td>2015</td>\n",
       "      <td>1</td>\n",
       "      <td>3</td>\n",
       "      <td>-4.0</td>\n",
       "    </tr>\n",
       "    <tr>\n",
       "      <th>2</th>\n",
       "      <td>1.252340e+12</td>\n",
       "      <td>2015-01-01 05:32:53</td>\n",
       "      <td>0.0</td>\n",
       "      <td>0.0</td>\n",
       "      <td>0.0</td>\n",
       "      <td>128.0</td>\n",
       "      <td>52.458698</td>\n",
       "      <td>4.581267</td>\n",
       "      <td>0.0</td>\n",
       "      <td>0.0</td>\n",
       "      <td>0.0</td>\n",
       "      <td>0.0</td>\n",
       "      <td>0.0</td>\n",
       "      <td>1.0</td>\n",
       "      <td>0.0</td>\n",
       "      <td>0.0</td>\n",
       "      <td>2015</td>\n",
       "      <td>1</td>\n",
       "      <td>3</td>\n",
       "      <td>-4.0</td>\n",
       "    </tr>\n",
       "    <tr>\n",
       "      <th>3</th>\n",
       "      <td>1.252340e+12</td>\n",
       "      <td>2015-01-01 05:45:23</td>\n",
       "      <td>0.0</td>\n",
       "      <td>0.0</td>\n",
       "      <td>0.0</td>\n",
       "      <td>128.0</td>\n",
       "      <td>52.458698</td>\n",
       "      <td>4.581234</td>\n",
       "      <td>0.0</td>\n",
       "      <td>0.0</td>\n",
       "      <td>0.0</td>\n",
       "      <td>0.0</td>\n",
       "      <td>0.0</td>\n",
       "      <td>1.0</td>\n",
       "      <td>0.0</td>\n",
       "      <td>0.0</td>\n",
       "      <td>2015</td>\n",
       "      <td>1</td>\n",
       "      <td>3</td>\n",
       "      <td>-4.0</td>\n",
       "    </tr>\n",
       "    <tr>\n",
       "      <th>4</th>\n",
       "      <td>1.252340e+12</td>\n",
       "      <td>2015-01-01 05:57:24</td>\n",
       "      <td>0.0</td>\n",
       "      <td>0.0</td>\n",
       "      <td>0.0</td>\n",
       "      <td>128.0</td>\n",
       "      <td>52.458683</td>\n",
       "      <td>4.581183</td>\n",
       "      <td>0.0</td>\n",
       "      <td>0.0</td>\n",
       "      <td>0.0</td>\n",
       "      <td>0.0</td>\n",
       "      <td>0.0</td>\n",
       "      <td>1.0</td>\n",
       "      <td>0.0</td>\n",
       "      <td>0.0</td>\n",
       "      <td>2015</td>\n",
       "      <td>1</td>\n",
       "      <td>3</td>\n",
       "      <td>-4.0</td>\n",
       "    </tr>\n",
       "  </tbody>\n",
       "</table>\n",
       "</div>"
      ],
      "text/plain": [
       "           mmsi                 date  distance_from_shore  distance_from_port  \\\n",
       "0  1.252340e+12  2015-01-01 05:08:23                  0.0                 0.0   \n",
       "1  1.252340e+12  2015-01-01 05:20:34                  0.0                 0.0   \n",
       "2  1.252340e+12  2015-01-01 05:32:53                  0.0                 0.0   \n",
       "3  1.252340e+12  2015-01-01 05:45:23                  0.0                 0.0   \n",
       "4  1.252340e+12  2015-01-01 05:57:24                  0.0                 0.0   \n",
       "\n",
       "   speed  course        lat       lon  is_fishing  type_drifting_longlines  \\\n",
       "0    0.0   128.0  52.458717  4.581316         0.0                      0.0   \n",
       "1    0.0   128.0  52.458733  4.581316         0.0                      0.0   \n",
       "2    0.0   128.0  52.458698  4.581267         0.0                      0.0   \n",
       "3    0.0   128.0  52.458698  4.581234         0.0                      0.0   \n",
       "4    0.0   128.0  52.458683  4.581183         0.0                      0.0   \n",
       "\n",
       "   type_fixed_gear  type_pole_and_line  type_purse_seines  type_trawlers  \\\n",
       "0              0.0                 0.0                0.0            1.0   \n",
       "1              0.0                 0.0                0.0            1.0   \n",
       "2              0.0                 0.0                0.0            1.0   \n",
       "3              0.0                 0.0                0.0            1.0   \n",
       "4              0.0                 0.0                0.0            1.0   \n",
       "\n",
       "   type_trollers  type_unknown  year  month  day_of_week  utc_offset  \n",
       "0            0.0           0.0  2015      1            3        -4.0  \n",
       "1            0.0           0.0  2015      1            3        -4.0  \n",
       "2            0.0           0.0  2015      1            3        -4.0  \n",
       "3            0.0           0.0  2015      1            3        -4.0  \n",
       "4            0.0           0.0  2015      1            3        -4.0  "
      ]
     },
     "execution_count": 2,
     "metadata": {},
     "output_type": "execute_result"
    }
   ],
   "source": [
    "path = 'data/preprocessed'\n",
    "file_name = 'preproc'\n",
    "\n",
    "df = pd.read_csv(f'../{path}/{file_name}.csv')\n",
    "\n",
    "df.head()"
   ]
  },
  {
   "cell_type": "code",
   "execution_count": 3,
   "metadata": {},
   "outputs": [
    {
     "data": {
      "text/plain": [
       "(553855, 20)"
      ]
     },
     "execution_count": 3,
     "metadata": {},
     "output_type": "execute_result"
    }
   ],
   "source": [
    "df.shape"
   ]
  },
  {
   "cell_type": "markdown",
   "metadata": {},
   "source": [
    "## Keep small sample"
   ]
  },
  {
   "cell_type": "code",
   "execution_count": 4,
   "metadata": {},
   "outputs": [
    {
     "data": {
      "text/plain": [
       "(75000, 20)"
      ]
     },
     "execution_count": 4,
     "metadata": {},
     "output_type": "execute_result"
    }
   ],
   "source": [
    "sample_size = 75000 \n",
    "\n",
    "start_index = 0  \n",
    "\n",
    "# Create a smaller sequential subset\n",
    "data = df.iloc[start_index:start_index+sample_size]\n",
    "\n",
    "data.shape"
   ]
  },
  {
   "cell_type": "code",
   "execution_count": 5,
   "metadata": {},
   "outputs": [
    {
     "data": {
      "text/plain": [
       "is_fishing\n",
       "0.0    57472\n",
       "1.0    17528\n",
       "Name: count, dtype: int64"
      ]
     },
     "execution_count": 5,
     "metadata": {},
     "output_type": "execute_result"
    }
   ],
   "source": [
    "data['is_fishing'].value_counts()"
   ]
  },
  {
   "cell_type": "markdown",
   "metadata": {},
   "source": [
    "### Export small dataset"
   ]
  },
  {
   "cell_type": "code",
   "execution_count": 6,
   "metadata": {},
   "outputs": [],
   "source": [
    "output_folder = '../data/preprocessed'\n",
    "output_file = f'preproc_{int(sample_size/1000)}k.csv'\n",
    "\n",
    "# Construct the full path\n",
    "output_path = f'{output_folder}/{output_file}'\n",
    "\n",
    "# Save the DataFrame to the specified path\n",
    "data.to_csv(output_path, index=False)"
   ]
  },
  {
   "cell_type": "markdown",
   "metadata": {},
   "source": [
    "# Baseline Model: KNeighborsClassifier"
   ]
  },
  {
   "cell_type": "markdown",
   "metadata": {},
   "source": [
    "## Split Data"
   ]
  },
  {
   "cell_type": "code",
   "execution_count": 7,
   "metadata": {},
   "outputs": [
    {
     "data": {
      "text/html": [
       "<div>\n",
       "<style scoped>\n",
       "    .dataframe tbody tr th:only-of-type {\n",
       "        vertical-align: middle;\n",
       "    }\n",
       "\n",
       "    .dataframe tbody tr th {\n",
       "        vertical-align: top;\n",
       "    }\n",
       "\n",
       "    .dataframe thead th {\n",
       "        text-align: right;\n",
       "    }\n",
       "</style>\n",
       "<table border=\"1\" class=\"dataframe\">\n",
       "  <thead>\n",
       "    <tr style=\"text-align: right;\">\n",
       "      <th></th>\n",
       "      <th>mmsi</th>\n",
       "      <th>distance_from_shore</th>\n",
       "      <th>distance_from_port</th>\n",
       "      <th>speed</th>\n",
       "      <th>course</th>\n",
       "      <th>lat</th>\n",
       "      <th>lon</th>\n",
       "      <th>type_drifting_longlines</th>\n",
       "      <th>type_fixed_gear</th>\n",
       "      <th>type_pole_and_line</th>\n",
       "      <th>type_purse_seines</th>\n",
       "      <th>type_trawlers</th>\n",
       "      <th>type_trollers</th>\n",
       "      <th>type_unknown</th>\n",
       "      <th>year</th>\n",
       "      <th>month</th>\n",
       "      <th>day_of_week</th>\n",
       "    </tr>\n",
       "  </thead>\n",
       "  <tbody>\n",
       "    <tr>\n",
       "      <th>0</th>\n",
       "      <td>1.252340e+12</td>\n",
       "      <td>0.0</td>\n",
       "      <td>0.0</td>\n",
       "      <td>0.0</td>\n",
       "      <td>128.0</td>\n",
       "      <td>52.458717</td>\n",
       "      <td>4.581316</td>\n",
       "      <td>0.0</td>\n",
       "      <td>0.0</td>\n",
       "      <td>0.0</td>\n",
       "      <td>0.0</td>\n",
       "      <td>1.0</td>\n",
       "      <td>0.0</td>\n",
       "      <td>0.0</td>\n",
       "      <td>2015</td>\n",
       "      <td>1</td>\n",
       "      <td>3</td>\n",
       "    </tr>\n",
       "    <tr>\n",
       "      <th>1</th>\n",
       "      <td>1.252340e+12</td>\n",
       "      <td>0.0</td>\n",
       "      <td>0.0</td>\n",
       "      <td>0.0</td>\n",
       "      <td>128.0</td>\n",
       "      <td>52.458733</td>\n",
       "      <td>4.581316</td>\n",
       "      <td>0.0</td>\n",
       "      <td>0.0</td>\n",
       "      <td>0.0</td>\n",
       "      <td>0.0</td>\n",
       "      <td>1.0</td>\n",
       "      <td>0.0</td>\n",
       "      <td>0.0</td>\n",
       "      <td>2015</td>\n",
       "      <td>1</td>\n",
       "      <td>3</td>\n",
       "    </tr>\n",
       "    <tr>\n",
       "      <th>2</th>\n",
       "      <td>1.252340e+12</td>\n",
       "      <td>0.0</td>\n",
       "      <td>0.0</td>\n",
       "      <td>0.0</td>\n",
       "      <td>128.0</td>\n",
       "      <td>52.458698</td>\n",
       "      <td>4.581267</td>\n",
       "      <td>0.0</td>\n",
       "      <td>0.0</td>\n",
       "      <td>0.0</td>\n",
       "      <td>0.0</td>\n",
       "      <td>1.0</td>\n",
       "      <td>0.0</td>\n",
       "      <td>0.0</td>\n",
       "      <td>2015</td>\n",
       "      <td>1</td>\n",
       "      <td>3</td>\n",
       "    </tr>\n",
       "    <tr>\n",
       "      <th>3</th>\n",
       "      <td>1.252340e+12</td>\n",
       "      <td>0.0</td>\n",
       "      <td>0.0</td>\n",
       "      <td>0.0</td>\n",
       "      <td>128.0</td>\n",
       "      <td>52.458698</td>\n",
       "      <td>4.581234</td>\n",
       "      <td>0.0</td>\n",
       "      <td>0.0</td>\n",
       "      <td>0.0</td>\n",
       "      <td>0.0</td>\n",
       "      <td>1.0</td>\n",
       "      <td>0.0</td>\n",
       "      <td>0.0</td>\n",
       "      <td>2015</td>\n",
       "      <td>1</td>\n",
       "      <td>3</td>\n",
       "    </tr>\n",
       "    <tr>\n",
       "      <th>4</th>\n",
       "      <td>1.252340e+12</td>\n",
       "      <td>0.0</td>\n",
       "      <td>0.0</td>\n",
       "      <td>0.0</td>\n",
       "      <td>128.0</td>\n",
       "      <td>52.458683</td>\n",
       "      <td>4.581183</td>\n",
       "      <td>0.0</td>\n",
       "      <td>0.0</td>\n",
       "      <td>0.0</td>\n",
       "      <td>0.0</td>\n",
       "      <td>1.0</td>\n",
       "      <td>0.0</td>\n",
       "      <td>0.0</td>\n",
       "      <td>2015</td>\n",
       "      <td>1</td>\n",
       "      <td>3</td>\n",
       "    </tr>\n",
       "    <tr>\n",
       "      <th>5</th>\n",
       "      <td>1.252340e+12</td>\n",
       "      <td>0.0</td>\n",
       "      <td>0.0</td>\n",
       "      <td>0.0</td>\n",
       "      <td>128.0</td>\n",
       "      <td>52.458683</td>\n",
       "      <td>4.581250</td>\n",
       "      <td>0.0</td>\n",
       "      <td>0.0</td>\n",
       "      <td>0.0</td>\n",
       "      <td>0.0</td>\n",
       "      <td>1.0</td>\n",
       "      <td>0.0</td>\n",
       "      <td>0.0</td>\n",
       "      <td>2015</td>\n",
       "      <td>1</td>\n",
       "      <td>3</td>\n",
       "    </tr>\n",
       "    <tr>\n",
       "      <th>6</th>\n",
       "      <td>1.252340e+12</td>\n",
       "      <td>0.0</td>\n",
       "      <td>0.0</td>\n",
       "      <td>0.0</td>\n",
       "      <td>128.0</td>\n",
       "      <td>52.458698</td>\n",
       "      <td>4.581200</td>\n",
       "      <td>0.0</td>\n",
       "      <td>0.0</td>\n",
       "      <td>0.0</td>\n",
       "      <td>0.0</td>\n",
       "      <td>1.0</td>\n",
       "      <td>0.0</td>\n",
       "      <td>0.0</td>\n",
       "      <td>2015</td>\n",
       "      <td>1</td>\n",
       "      <td>3</td>\n",
       "    </tr>\n",
       "    <tr>\n",
       "      <th>7</th>\n",
       "      <td>1.252340e+12</td>\n",
       "      <td>0.0</td>\n",
       "      <td>0.0</td>\n",
       "      <td>0.0</td>\n",
       "      <td>128.0</td>\n",
       "      <td>52.458698</td>\n",
       "      <td>4.581200</td>\n",
       "      <td>0.0</td>\n",
       "      <td>0.0</td>\n",
       "      <td>0.0</td>\n",
       "      <td>0.0</td>\n",
       "      <td>1.0</td>\n",
       "      <td>0.0</td>\n",
       "      <td>0.0</td>\n",
       "      <td>2015</td>\n",
       "      <td>1</td>\n",
       "      <td>3</td>\n",
       "    </tr>\n",
       "    <tr>\n",
       "      <th>8</th>\n",
       "      <td>1.252340e+12</td>\n",
       "      <td>0.0</td>\n",
       "      <td>0.0</td>\n",
       "      <td>0.0</td>\n",
       "      <td>128.0</td>\n",
       "      <td>52.458668</td>\n",
       "      <td>4.581267</td>\n",
       "      <td>0.0</td>\n",
       "      <td>0.0</td>\n",
       "      <td>0.0</td>\n",
       "      <td>0.0</td>\n",
       "      <td>1.0</td>\n",
       "      <td>0.0</td>\n",
       "      <td>0.0</td>\n",
       "      <td>2015</td>\n",
       "      <td>1</td>\n",
       "      <td>3</td>\n",
       "    </tr>\n",
       "    <tr>\n",
       "      <th>9</th>\n",
       "      <td>1.252340e+12</td>\n",
       "      <td>0.0</td>\n",
       "      <td>0.0</td>\n",
       "      <td>0.0</td>\n",
       "      <td>128.0</td>\n",
       "      <td>52.458618</td>\n",
       "      <td>4.581234</td>\n",
       "      <td>0.0</td>\n",
       "      <td>0.0</td>\n",
       "      <td>0.0</td>\n",
       "      <td>0.0</td>\n",
       "      <td>1.0</td>\n",
       "      <td>0.0</td>\n",
       "      <td>0.0</td>\n",
       "      <td>2015</td>\n",
       "      <td>1</td>\n",
       "      <td>3</td>\n",
       "    </tr>\n",
       "  </tbody>\n",
       "</table>\n",
       "</div>"
      ],
      "text/plain": [
       "           mmsi  distance_from_shore  distance_from_port  speed  course  \\\n",
       "0  1.252340e+12                  0.0                 0.0    0.0   128.0   \n",
       "1  1.252340e+12                  0.0                 0.0    0.0   128.0   \n",
       "2  1.252340e+12                  0.0                 0.0    0.0   128.0   \n",
       "3  1.252340e+12                  0.0                 0.0    0.0   128.0   \n",
       "4  1.252340e+12                  0.0                 0.0    0.0   128.0   \n",
       "5  1.252340e+12                  0.0                 0.0    0.0   128.0   \n",
       "6  1.252340e+12                  0.0                 0.0    0.0   128.0   \n",
       "7  1.252340e+12                  0.0                 0.0    0.0   128.0   \n",
       "8  1.252340e+12                  0.0                 0.0    0.0   128.0   \n",
       "9  1.252340e+12                  0.0                 0.0    0.0   128.0   \n",
       "\n",
       "         lat       lon  type_drifting_longlines  type_fixed_gear  \\\n",
       "0  52.458717  4.581316                      0.0              0.0   \n",
       "1  52.458733  4.581316                      0.0              0.0   \n",
       "2  52.458698  4.581267                      0.0              0.0   \n",
       "3  52.458698  4.581234                      0.0              0.0   \n",
       "4  52.458683  4.581183                      0.0              0.0   \n",
       "5  52.458683  4.581250                      0.0              0.0   \n",
       "6  52.458698  4.581200                      0.0              0.0   \n",
       "7  52.458698  4.581200                      0.0              0.0   \n",
       "8  52.458668  4.581267                      0.0              0.0   \n",
       "9  52.458618  4.581234                      0.0              0.0   \n",
       "\n",
       "   type_pole_and_line  type_purse_seines  type_trawlers  type_trollers  \\\n",
       "0                 0.0                0.0            1.0            0.0   \n",
       "1                 0.0                0.0            1.0            0.0   \n",
       "2                 0.0                0.0            1.0            0.0   \n",
       "3                 0.0                0.0            1.0            0.0   \n",
       "4                 0.0                0.0            1.0            0.0   \n",
       "5                 0.0                0.0            1.0            0.0   \n",
       "6                 0.0                0.0            1.0            0.0   \n",
       "7                 0.0                0.0            1.0            0.0   \n",
       "8                 0.0                0.0            1.0            0.0   \n",
       "9                 0.0                0.0            1.0            0.0   \n",
       "\n",
       "   type_unknown  year  month  day_of_week  \n",
       "0           0.0  2015      1            3  \n",
       "1           0.0  2015      1            3  \n",
       "2           0.0  2015      1            3  \n",
       "3           0.0  2015      1            3  \n",
       "4           0.0  2015      1            3  \n",
       "5           0.0  2015      1            3  \n",
       "6           0.0  2015      1            3  \n",
       "7           0.0  2015      1            3  \n",
       "8           0.0  2015      1            3  \n",
       "9           0.0  2015      1            3  "
      ]
     },
     "execution_count": 7,
     "metadata": {},
     "output_type": "execute_result"
    }
   ],
   "source": [
    "X = data.drop('is_fishing', axis=1)\n",
    "X = X.drop('date', axis=1)\n",
    "X = X.drop('utc_offset', axis=1)\n",
    "y = data['is_fishing']\n",
    "\n",
    "X_train, X_test, y_train, y_test = train_test_split(X, y, test_size=0.3, shuffle=False)\n",
    "\n",
    "X_train.head(10)"
   ]
  },
  {
   "cell_type": "code",
   "execution_count": 8,
   "metadata": {},
   "outputs": [
    {
     "data": {
      "text/plain": [
       "(52500, 17)"
      ]
     },
     "execution_count": 8,
     "metadata": {},
     "output_type": "execute_result"
    }
   ],
   "source": [
    "X_train.shape"
   ]
  },
  {
   "cell_type": "markdown",
   "metadata": {},
   "source": [
    "## Model  => Look a precision"
   ]
  },
  {
   "cell_type": "code",
   "execution_count": 9,
   "metadata": {},
   "outputs": [],
   "source": [
    "from sklearn.pipeline import Pipeline\n",
    "from sklearn.preprocessing import StandardScaler\n",
    "from sklearn.neighbors import KNeighborsClassifier\n",
    "from sklearn.metrics import accuracy_score, precision_score"
   ]
  },
  {
   "cell_type": "code",
   "execution_count": 10,
   "metadata": {},
   "outputs": [
    {
     "name": "stdout",
     "output_type": "stream",
     "text": [
      "Accuracy: 0.67\n",
      "Precision: 0.45\n"
     ]
    }
   ],
   "source": [
    "# Create a pipeline\n",
    "pipeline = Pipeline([\n",
    "    ('scaler', StandardScaler()),         # Step 1: Standardize features\n",
    "    ('knn', KNeighborsClassifier(n_neighbors=3))  # Step 2: K-Nearest Neighbors model\n",
    "])\n",
    "\n",
    "# Fit the pipeline on the training data\n",
    "pipeline.fit(X_train, y_train)\n",
    "\n",
    "# Predict on the test data\n",
    "y_pred = pipeline.predict(X_test)\n",
    "\n",
    "# Calculate accuracy\n",
    "accuracy = accuracy_score(y_test, y_pred)\n",
    "print(f\"Accuracy: {accuracy:.2f}\")\n",
    "\n",
    "# Calculate precision\n",
    "precision = precision_score(y_test, y_pred)\n",
    "print(f\"Precision: {precision:.2f}\")"
   ]
  },
  {
   "cell_type": "markdown",
   "metadata": {},
   "source": [
    "# Recurrent Neutal Network setup"
   ]
  },
  {
   "cell_type": "markdown",
   "metadata": {},
   "source": [
    "## Data prep"
   ]
  },
  {
   "cell_type": "code",
   "execution_count": 11,
   "metadata": {},
   "outputs": [
    {
     "name": "stdout",
     "output_type": "stream",
     "text": [
      "Total number of vessels in our small dataset:  27\n"
     ]
    }
   ],
   "source": [
    "number_vessel=data['mmsi'].value_counts().count()\n",
    "print('Total number of vessels in our small dataset: ', number_vessel)"
   ]
  },
  {
   "cell_type": "markdown",
   "metadata": {},
   "source": [
    "### Split data by vessels"
   ]
  },
  {
   "cell_type": "code",
   "execution_count": 12,
   "metadata": {},
   "outputs": [],
   "source": [
    "X = data.drop('date', axis=1)\n",
    "X = X.drop('utc_offset', axis=1)"
   ]
  },
  {
   "cell_type": "code",
   "execution_count": 13,
   "metadata": {},
   "outputs": [],
   "source": [
    "grouped = X.groupby('mmsi')\n",
    "\n",
    "# List to store the NumPy arrays for each group\n",
    "X_group_arrays = []\n",
    "y_group_arrays = []\n",
    "\n",
    "# Iterate through each group and store the data as a NumPy array\n",
    "for mmsi_value, group_df in grouped:\n",
    "    # 'group_df' contains the subset of data for the current 'mmsi' group\n",
    "    # Convert the relevant columns to a NumPy array and append it to the list\n",
    "    X_group_array = group_df.drop('is_fishing', axis=1).values\n",
    "    X_group_array = group_df.drop('mmsi', axis=1).values\n",
    "    X_group_arrays.append(X_group_array)\n",
    "    \n",
    "    y_group_array = group_df['is_fishing'].values\n",
    "    y_group_arrays.append(y_group_array)\n",
    "    \n",
    "assert(len(X_group_arrays) == number_vessel)\n",
    "assert(len(y_group_arrays) == number_vessel)\n"
   ]
  },
  {
   "cell_type": "markdown",
   "metadata": {},
   "source": [
    "### Padding"
   ]
  },
  {
   "cell_type": "code",
   "execution_count": 14,
   "metadata": {},
   "outputs": [
    {
     "name": "stdout",
     "output_type": "stream",
     "text": [
      "X_train_pad shape:  (27, 10592, 17)\n"
     ]
    }
   ],
   "source": [
    "from tensorflow.keras.preprocessing.sequence import pad_sequences\n",
    "\n",
    "X_pad = pad_sequences(X_group_arrays, dtype='float32', padding='post', value=-1000)\n",
    "print('X_train_pad shape: ',X_pad.shape)\n",
    "\n"
   ]
  },
  {
   "cell_type": "code",
   "execution_count": 15,
   "metadata": {},
   "outputs": [
    {
     "data": {
      "text/html": [
       "<div>\n",
       "<style scoped>\n",
       "    .dataframe tbody tr th:only-of-type {\n",
       "        vertical-align: middle;\n",
       "    }\n",
       "\n",
       "    .dataframe tbody tr th {\n",
       "        vertical-align: top;\n",
       "    }\n",
       "\n",
       "    .dataframe thead th {\n",
       "        text-align: right;\n",
       "    }\n",
       "</style>\n",
       "<table border=\"1\" class=\"dataframe\">\n",
       "  <thead>\n",
       "    <tr style=\"text-align: right;\">\n",
       "      <th></th>\n",
       "      <th>0</th>\n",
       "      <th>1</th>\n",
       "      <th>2</th>\n",
       "      <th>3</th>\n",
       "      <th>4</th>\n",
       "      <th>5</th>\n",
       "      <th>6</th>\n",
       "      <th>7</th>\n",
       "      <th>8</th>\n",
       "      <th>9</th>\n",
       "      <th>10</th>\n",
       "      <th>11</th>\n",
       "      <th>12</th>\n",
       "      <th>13</th>\n",
       "      <th>14</th>\n",
       "      <th>15</th>\n",
       "      <th>16</th>\n",
       "    </tr>\n",
       "  </thead>\n",
       "  <tbody>\n",
       "    <tr>\n",
       "      <th>0</th>\n",
       "      <td>0.0</td>\n",
       "      <td>0.0</td>\n",
       "      <td>0.0</td>\n",
       "      <td>128.0</td>\n",
       "      <td>52.458717</td>\n",
       "      <td>4.581316</td>\n",
       "      <td>0.0</td>\n",
       "      <td>0.0</td>\n",
       "      <td>0.0</td>\n",
       "      <td>0.0</td>\n",
       "      <td>0.0</td>\n",
       "      <td>1.0</td>\n",
       "      <td>0.0</td>\n",
       "      <td>0.0</td>\n",
       "      <td>2015.0</td>\n",
       "      <td>1.0</td>\n",
       "      <td>3.0</td>\n",
       "    </tr>\n",
       "    <tr>\n",
       "      <th>1</th>\n",
       "      <td>0.0</td>\n",
       "      <td>0.0</td>\n",
       "      <td>0.0</td>\n",
       "      <td>128.0</td>\n",
       "      <td>52.458733</td>\n",
       "      <td>4.581316</td>\n",
       "      <td>0.0</td>\n",
       "      <td>0.0</td>\n",
       "      <td>0.0</td>\n",
       "      <td>0.0</td>\n",
       "      <td>0.0</td>\n",
       "      <td>1.0</td>\n",
       "      <td>0.0</td>\n",
       "      <td>0.0</td>\n",
       "      <td>2015.0</td>\n",
       "      <td>1.0</td>\n",
       "      <td>3.0</td>\n",
       "    </tr>\n",
       "    <tr>\n",
       "      <th>2</th>\n",
       "      <td>0.0</td>\n",
       "      <td>0.0</td>\n",
       "      <td>0.0</td>\n",
       "      <td>128.0</td>\n",
       "      <td>52.458698</td>\n",
       "      <td>4.581267</td>\n",
       "      <td>0.0</td>\n",
       "      <td>0.0</td>\n",
       "      <td>0.0</td>\n",
       "      <td>0.0</td>\n",
       "      <td>0.0</td>\n",
       "      <td>1.0</td>\n",
       "      <td>0.0</td>\n",
       "      <td>0.0</td>\n",
       "      <td>2015.0</td>\n",
       "      <td>1.0</td>\n",
       "      <td>3.0</td>\n",
       "    </tr>\n",
       "    <tr>\n",
       "      <th>3</th>\n",
       "      <td>0.0</td>\n",
       "      <td>0.0</td>\n",
       "      <td>0.0</td>\n",
       "      <td>128.0</td>\n",
       "      <td>52.458698</td>\n",
       "      <td>4.581234</td>\n",
       "      <td>0.0</td>\n",
       "      <td>0.0</td>\n",
       "      <td>0.0</td>\n",
       "      <td>0.0</td>\n",
       "      <td>0.0</td>\n",
       "      <td>1.0</td>\n",
       "      <td>0.0</td>\n",
       "      <td>0.0</td>\n",
       "      <td>2015.0</td>\n",
       "      <td>1.0</td>\n",
       "      <td>3.0</td>\n",
       "    </tr>\n",
       "    <tr>\n",
       "      <th>4</th>\n",
       "      <td>0.0</td>\n",
       "      <td>0.0</td>\n",
       "      <td>0.0</td>\n",
       "      <td>128.0</td>\n",
       "      <td>52.458683</td>\n",
       "      <td>4.581183</td>\n",
       "      <td>0.0</td>\n",
       "      <td>0.0</td>\n",
       "      <td>0.0</td>\n",
       "      <td>0.0</td>\n",
       "      <td>0.0</td>\n",
       "      <td>1.0</td>\n",
       "      <td>0.0</td>\n",
       "      <td>0.0</td>\n",
       "      <td>2015.0</td>\n",
       "      <td>1.0</td>\n",
       "      <td>3.0</td>\n",
       "    </tr>\n",
       "    <tr>\n",
       "      <th>...</th>\n",
       "      <td>...</td>\n",
       "      <td>...</td>\n",
       "      <td>...</td>\n",
       "      <td>...</td>\n",
       "      <td>...</td>\n",
       "      <td>...</td>\n",
       "      <td>...</td>\n",
       "      <td>...</td>\n",
       "      <td>...</td>\n",
       "      <td>...</td>\n",
       "      <td>...</td>\n",
       "      <td>...</td>\n",
       "      <td>...</td>\n",
       "      <td>...</td>\n",
       "      <td>...</td>\n",
       "      <td>...</td>\n",
       "      <td>...</td>\n",
       "    </tr>\n",
       "    <tr>\n",
       "      <th>10587</th>\n",
       "      <td>-1000.0</td>\n",
       "      <td>-1000.0</td>\n",
       "      <td>-1000.0</td>\n",
       "      <td>-1000.0</td>\n",
       "      <td>-1000.000000</td>\n",
       "      <td>-1000.000000</td>\n",
       "      <td>-1000.0</td>\n",
       "      <td>-1000.0</td>\n",
       "      <td>-1000.0</td>\n",
       "      <td>-1000.0</td>\n",
       "      <td>-1000.0</td>\n",
       "      <td>-1000.0</td>\n",
       "      <td>-1000.0</td>\n",
       "      <td>-1000.0</td>\n",
       "      <td>-1000.0</td>\n",
       "      <td>-1000.0</td>\n",
       "      <td>-1000.0</td>\n",
       "    </tr>\n",
       "    <tr>\n",
       "      <th>10588</th>\n",
       "      <td>-1000.0</td>\n",
       "      <td>-1000.0</td>\n",
       "      <td>-1000.0</td>\n",
       "      <td>-1000.0</td>\n",
       "      <td>-1000.000000</td>\n",
       "      <td>-1000.000000</td>\n",
       "      <td>-1000.0</td>\n",
       "      <td>-1000.0</td>\n",
       "      <td>-1000.0</td>\n",
       "      <td>-1000.0</td>\n",
       "      <td>-1000.0</td>\n",
       "      <td>-1000.0</td>\n",
       "      <td>-1000.0</td>\n",
       "      <td>-1000.0</td>\n",
       "      <td>-1000.0</td>\n",
       "      <td>-1000.0</td>\n",
       "      <td>-1000.0</td>\n",
       "    </tr>\n",
       "    <tr>\n",
       "      <th>10589</th>\n",
       "      <td>-1000.0</td>\n",
       "      <td>-1000.0</td>\n",
       "      <td>-1000.0</td>\n",
       "      <td>-1000.0</td>\n",
       "      <td>-1000.000000</td>\n",
       "      <td>-1000.000000</td>\n",
       "      <td>-1000.0</td>\n",
       "      <td>-1000.0</td>\n",
       "      <td>-1000.0</td>\n",
       "      <td>-1000.0</td>\n",
       "      <td>-1000.0</td>\n",
       "      <td>-1000.0</td>\n",
       "      <td>-1000.0</td>\n",
       "      <td>-1000.0</td>\n",
       "      <td>-1000.0</td>\n",
       "      <td>-1000.0</td>\n",
       "      <td>-1000.0</td>\n",
       "    </tr>\n",
       "    <tr>\n",
       "      <th>10590</th>\n",
       "      <td>-1000.0</td>\n",
       "      <td>-1000.0</td>\n",
       "      <td>-1000.0</td>\n",
       "      <td>-1000.0</td>\n",
       "      <td>-1000.000000</td>\n",
       "      <td>-1000.000000</td>\n",
       "      <td>-1000.0</td>\n",
       "      <td>-1000.0</td>\n",
       "      <td>-1000.0</td>\n",
       "      <td>-1000.0</td>\n",
       "      <td>-1000.0</td>\n",
       "      <td>-1000.0</td>\n",
       "      <td>-1000.0</td>\n",
       "      <td>-1000.0</td>\n",
       "      <td>-1000.0</td>\n",
       "      <td>-1000.0</td>\n",
       "      <td>-1000.0</td>\n",
       "    </tr>\n",
       "    <tr>\n",
       "      <th>10591</th>\n",
       "      <td>-1000.0</td>\n",
       "      <td>-1000.0</td>\n",
       "      <td>-1000.0</td>\n",
       "      <td>-1000.0</td>\n",
       "      <td>-1000.000000</td>\n",
       "      <td>-1000.000000</td>\n",
       "      <td>-1000.0</td>\n",
       "      <td>-1000.0</td>\n",
       "      <td>-1000.0</td>\n",
       "      <td>-1000.0</td>\n",
       "      <td>-1000.0</td>\n",
       "      <td>-1000.0</td>\n",
       "      <td>-1000.0</td>\n",
       "      <td>-1000.0</td>\n",
       "      <td>-1000.0</td>\n",
       "      <td>-1000.0</td>\n",
       "      <td>-1000.0</td>\n",
       "    </tr>\n",
       "  </tbody>\n",
       "</table>\n",
       "<p>10592 rows × 17 columns</p>\n",
       "</div>"
      ],
      "text/plain": [
       "           0       1       2       3            4            5       6   \\\n",
       "0         0.0     0.0     0.0   128.0    52.458717     4.581316     0.0   \n",
       "1         0.0     0.0     0.0   128.0    52.458733     4.581316     0.0   \n",
       "2         0.0     0.0     0.0   128.0    52.458698     4.581267     0.0   \n",
       "3         0.0     0.0     0.0   128.0    52.458698     4.581234     0.0   \n",
       "4         0.0     0.0     0.0   128.0    52.458683     4.581183     0.0   \n",
       "...       ...     ...     ...     ...          ...          ...     ...   \n",
       "10587 -1000.0 -1000.0 -1000.0 -1000.0 -1000.000000 -1000.000000 -1000.0   \n",
       "10588 -1000.0 -1000.0 -1000.0 -1000.0 -1000.000000 -1000.000000 -1000.0   \n",
       "10589 -1000.0 -1000.0 -1000.0 -1000.0 -1000.000000 -1000.000000 -1000.0   \n",
       "10590 -1000.0 -1000.0 -1000.0 -1000.0 -1000.000000 -1000.000000 -1000.0   \n",
       "10591 -1000.0 -1000.0 -1000.0 -1000.0 -1000.000000 -1000.000000 -1000.0   \n",
       "\n",
       "           7       8       9       10      11      12      13      14      15  \\\n",
       "0         0.0     0.0     0.0     0.0     1.0     0.0     0.0  2015.0     1.0   \n",
       "1         0.0     0.0     0.0     0.0     1.0     0.0     0.0  2015.0     1.0   \n",
       "2         0.0     0.0     0.0     0.0     1.0     0.0     0.0  2015.0     1.0   \n",
       "3         0.0     0.0     0.0     0.0     1.0     0.0     0.0  2015.0     1.0   \n",
       "4         0.0     0.0     0.0     0.0     1.0     0.0     0.0  2015.0     1.0   \n",
       "...       ...     ...     ...     ...     ...     ...     ...     ...     ...   \n",
       "10587 -1000.0 -1000.0 -1000.0 -1000.0 -1000.0 -1000.0 -1000.0 -1000.0 -1000.0   \n",
       "10588 -1000.0 -1000.0 -1000.0 -1000.0 -1000.0 -1000.0 -1000.0 -1000.0 -1000.0   \n",
       "10589 -1000.0 -1000.0 -1000.0 -1000.0 -1000.0 -1000.0 -1000.0 -1000.0 -1000.0   \n",
       "10590 -1000.0 -1000.0 -1000.0 -1000.0 -1000.0 -1000.0 -1000.0 -1000.0 -1000.0   \n",
       "10591 -1000.0 -1000.0 -1000.0 -1000.0 -1000.0 -1000.0 -1000.0 -1000.0 -1000.0   \n",
       "\n",
       "           16  \n",
       "0         3.0  \n",
       "1         3.0  \n",
       "2         3.0  \n",
       "3         3.0  \n",
       "4         3.0  \n",
       "...       ...  \n",
       "10587 -1000.0  \n",
       "10588 -1000.0  \n",
       "10589 -1000.0  \n",
       "10590 -1000.0  \n",
       "10591 -1000.0  \n",
       "\n",
       "[10592 rows x 17 columns]"
      ]
     },
     "execution_count": 15,
     "metadata": {},
     "output_type": "execute_result"
    }
   ],
   "source": [
    "pd.DataFrame(X_pad[0])"
   ]
  },
  {
   "cell_type": "markdown",
   "metadata": {},
   "source": [
    "### Split train / test"
   ]
  },
  {
   "cell_type": "code",
   "execution_count": 16,
   "metadata": {},
   "outputs": [
    {
     "name": "stdout",
     "output_type": "stream",
     "text": [
      "(18, 10592, 17)\n",
      "(9, 10592, 17)\n",
      "\n",
      "18\n",
      "9\n"
     ]
    }
   ],
   "source": [
    "X_train, X_test, y_train, y_test = train_test_split(X_pad, y_group_arrays, test_size=0.3, shuffle=False)\n",
    "\n",
    "print(X_train.shape)\n",
    "print(X_test.shape)\n",
    "\n",
    "print()\n",
    "print(len(y_train))\n",
    "print(len(y_test))"
   ]
  },
  {
   "cell_type": "markdown",
   "metadata": {},
   "source": [
    "### Convert y_train into 2D array  (None, 1)  -> None = number of total data point"
   ]
  },
  {
   "cell_type": "code",
   "execution_count": 17,
   "metadata": {},
   "outputs": [
    {
     "name": "stdout",
     "output_type": "stream",
     "text": [
      "(48793, 1)\n",
      "(26207, 1)\n",
      "total data points:  75000\n"
     ]
    }
   ],
   "source": [
    "concatenated_array = np.concatenate(y_train, axis=0)\n",
    "y_train_array = np.expand_dims(concatenated_array, axis=-1)\n",
    "\n",
    "concatenated_array = np.concatenate(y_test, axis=0)\n",
    "y_test_array = np.expand_dims(concatenated_array, axis=-1)\n",
    "\n",
    "print(y_train_array.shape)\n",
    "print(y_test_array.shape)\n",
    "\n",
    "total_data = y_train_array.shape[0] + y_test_array.shape[0]\n",
    "\n",
    "print('total data points: ', total_data)\n"
   ]
  },
  {
   "cell_type": "markdown",
   "metadata": {},
   "source": [
    "### Length distribution of data points per vessels"
   ]
  },
  {
   "cell_type": "code",
   "execution_count": 18,
   "metadata": {},
   "outputs": [
    {
     "data": {
      "text/plain": [
       "(array([7., 5., 4., 8., 1., 1., 0., 0., 0., 1.]),\n",
       " array([  171. ,  1213.1,  2255.2,  3297.3,  4339.4,  5381.5,  6423.6,\n",
       "         7465.7,  8507.8,  9549.9, 10592. ]),\n",
       " <BarContainer object of 10 artists>)"
      ]
     },
     "execution_count": 18,
     "metadata": {},
     "output_type": "execute_result"
    },
    {
     "data": {
      "image/png": "[encoded data removed]",
      "text/plain": [
       "<Figure size 640x480 with 1 Axes>"
      ]
     },
     "metadata": {},
     "output_type": "display_data"
    }
   ],
   "source": [
    "lengths = [len(group_array) for group_array in X_group_arrays]\n",
    "plt.hist(lengths)"
   ]
  },
  {
   "cell_type": "markdown",
   "metadata": {},
   "source": [
    "## init_model"
   ]
  },
  {
   "cell_type": "code",
   "execution_count": 19,
   "metadata": {},
   "outputs": [],
   "source": [
    "# def init_model(input_shape):\n",
    "    \n",
    "\n",
    "    # 1 - RNN architecture\n",
    "    # ======================    \n",
    "    # model = models.Sequential()    \n",
    "    # # Normalizing Inputs\n",
    "    # # model.add(normalizer)\n",
    "    \n",
    "    # # Recurrent Layer\n",
    "    # model.add(layers.LSTM(units=64, activation='tanh', return_sequences=False, \n",
    "    #                       recurrent_dropout=0.5, dropout=0.5, input_shape=input_shape))\n",
    "    \n",
    "    # # Hidden Dense Layer that we are regularizing\n",
    "    # # reg_l2 = regularizers.L2(0.5)\n",
    "    # # model.add(layers.Dense(32, activation=\"relu\", kernel_regularizer = reg_l2))\n",
    "    \n",
    "    # model.add(layers.Dense(32, activation=\"relu\"))\n",
    "    # model.add(layers.Dropout(rate=0.5))\n",
    "    \n",
    "    # # Predictive Dense Layer\n",
    "    # ### model.add(layers.Dense(1, activation='linear'))  \n",
    "    \n",
    "    # model.add(layers.Dense(1, activation='sigmoid'))\n",
    "    \n",
    "    # # model.build(input_shape=(None, input_shape)) \n",
    " \n",
    "\n",
    "    # model.compile(loss='binary_crossentropy', optimizer='adam', metrics=[\"accuracy\"])\n",
    "\n",
    "    # return model"
   ]
  },
  {
   "cell_type": "code",
   "execution_count": 20,
   "metadata": {},
   "outputs": [],
   "source": [
    "def init_model(X_train):\n",
    "    model = models.Sequential() \n",
    "    \n",
    "    model.add(\n",
    "        layers.Masking(\n",
    "            mask_value=-1000, \n",
    "            input_shape=(X_train.shape[1], X_train.shape[2])\n",
    "                       )\n",
    "        )\n",
    "    \n",
    "    model.add(BatchNormalization()) \n",
    "    \n",
    "    model.add(layers.LSTM(64, activation='tanh'))\n",
    "    \n",
    "    model.add(layers.Dense(1, activation='sigmoid'))\n",
    "    \n",
    "    initial_learning_rate = 0.1\n",
    "    optimizer = optimizers.Adam(learning_rate=initial_learning_rate)\n",
    "    \n",
    "    model.compile(loss='binary_crossentropy', optimizer=optimizer, metrics=[metrics.Precision(), metrics.Accuracy()])\n",
    "    \n",
    "    return model"
   ]
  },
  {
   "cell_type": "markdown",
   "metadata": {},
   "source": [
    "# Model test and tuning"
   ]
  },
  {
   "cell_type": "code",
   "execution_count": 21,
   "metadata": {},
   "outputs": [
    {
     "data": {
      "text/plain": [
       "(10592, 17)"
      ]
     },
     "execution_count": 21,
     "metadata": {},
     "output_type": "execute_result"
    }
   ],
   "source": [
    "input_shape = (X_train.shape[1], X_train.shape[2])\n",
    "input_shape"
   ]
  },
  {
   "cell_type": "code",
   "execution_count": 22,
   "metadata": {},
   "outputs": [
    {
     "name": "stderr",
     "output_type": "stream",
     "text": [
      "2023-08-24 14:08:39.192255: W tensorflow/stream_executor/platform/default/dso_loader.cc:64] Could not load dynamic library 'libcuda.so.1'; dlerror: libcuda.so.1: cannot open shared object file: No such file or directory\n",
      "2023-08-24 14:08:39.192396: W tensorflow/stream_executor/cuda/cuda_driver.cc:263] failed call to cuInit: UNKNOWN ERROR (303)\n",
      "2023-08-24 14:08:39.192467: I tensorflow/stream_executor/cuda/cuda_diagnostics.cc:156] kernel driver does not appear to be running on this host (Philippe-Flex): /proc/driver/nvidia/version does not exist\n",
      "2023-08-24 14:08:39.193294: I tensorflow/core/platform/cpu_feature_guard.cc:193] This TensorFlow binary is optimized with oneAPI Deep Neural Network Library (oneDNN) to use the following CPU instructions in performance-critical operations:  AVX2 FMA\n",
      "To enable them in other operations, rebuild TensorFlow with the appropriate compiler flags.\n"
     ]
    },
    {
     "name": "stdout",
     "output_type": "stream",
     "text": [
      "Model: \"sequential\"\n",
      "_________________________________________________________________\n",
      " Layer (type)                Output Shape              Param #   \n",
      "=================================================================\n",
      " masking (Masking)           (None, 10592, 17)         0         \n",
      "                                                                 \n",
      " batch_normalization (BatchN  (None, 10592, 17)        68        \n",
      " ormalization)                                                   \n",
      "                                                                 \n",
      " lstm (LSTM)                 (None, 64)                20992     \n",
      "                                                                 \n",
      " dense (Dense)               (None, 1)                 65        \n",
      "                                                                 \n",
      "=================================================================\n",
      "Total params: 21,125\n",
      "Trainable params: 21,091\n",
      "Non-trainable params: 34\n",
      "_________________________________________________________________\n"
     ]
    }
   ],
   "source": [
    "model = init_model(X_train)\n",
    "model.summary()"
   ]
  },
  {
   "cell_type": "code",
   "execution_count": 23,
   "metadata": {},
   "outputs": [
    {
     "data": {
      "text/plain": [
       "array([0., 1.])"
      ]
     },
     "execution_count": 23,
     "metadata": {},
     "output_type": "execute_result"
    }
   ],
   "source": [
    "np.unique(y_train_array)"
   ]
  },
  {
   "cell_type": "code",
   "execution_count": 26,
   "metadata": {},
   "outputs": [
    {
     "name": "stdout",
     "output_type": "stream",
     "text": [
      "Epoch 1/20\n",
      "1/1 [==============================] - 21s 21s/step - loss: 5.2821e-07 - precision: 0.0000e+00 - accuracy: 0.0000e+00 - val_loss: 2.4814e-06 - val_precision: 0.0000e+00 - val_accuracy: 0.0000e+00\n",
      "Epoch 2/20\n",
      "1/1 [==============================] - 22s 22s/step - loss: 5.2821e-07 - precision: 0.0000e+00 - accuracy: 0.0000e+00 - val_loss: 2.4663e-06 - val_precision: 0.0000e+00 - val_accuracy: 0.0000e+00\n",
      "Epoch 3/20\n",
      "1/1 [==============================] - 23s 23s/step - loss: 5.2821e-07 - precision: 0.0000e+00 - accuracy: 0.0000e+00 - val_loss: 2.4519e-06 - val_precision: 0.0000e+00 - val_accuracy: 0.0000e+00\n",
      "Epoch 4/20\n",
      "1/1 [==============================] - 25s 25s/step - loss: 5.2821e-07 - precision: 0.0000e+00 - accuracy: 0.0000e+00 - val_loss: 2.4382e-06 - val_precision: 0.0000e+00 - val_accuracy: 0.0000e+00\n",
      "Epoch 5/20\n",
      "1/1 [==============================] - 23s 23s/step - loss: 5.2821e-07 - precision: 0.0000e+00 - accuracy: 0.0000e+00 - val_loss: 2.4251e-06 - val_precision: 0.0000e+00 - val_accuracy: 0.0000e+00\n",
      "Epoch 6/20\n",
      "1/1 [==============================] - 23s 23s/step - loss: 5.2821e-07 - precision: 0.0000e+00 - accuracy: 0.0000e+00 - val_loss: 2.4125e-06 - val_precision: 0.0000e+00 - val_accuracy: 0.0000e+00\n",
      "Epoch 7/20\n",
      "1/1 [==============================] - 22s 22s/step - loss: 5.2821e-07 - precision: 0.0000e+00 - accuracy: 0.0000e+00 - val_loss: 2.4003e-06 - val_precision: 0.0000e+00 - val_accuracy: 0.0000e+00\n",
      "Epoch 8/20\n",
      "1/1 [==============================] - 20s 20s/step - loss: 5.2821e-07 - precision: 0.0000e+00 - accuracy: 0.0000e+00 - val_loss: 2.3886e-06 - val_precision: 0.0000e+00 - val_accuracy: 0.0000e+00\n",
      "Epoch 9/20\n",
      "1/1 [==============================] - 21s 21s/step - loss: 5.2821e-07 - precision: 0.0000e+00 - accuracy: 0.0000e+00 - val_loss: 2.3772e-06 - val_precision: 0.0000e+00 - val_accuracy: 0.0000e+00\n",
      "Epoch 10/20\n",
      "1/1 [==============================] - 23s 23s/step - loss: 5.2821e-07 - precision: 0.0000e+00 - accuracy: 0.0000e+00 - val_loss: 2.3661e-06 - val_precision: 0.0000e+00 - val_accuracy: 0.0000e+00\n",
      "Epoch 11/20\n",
      "1/1 [==============================] - 20s 20s/step - loss: 5.2821e-07 - precision: 0.0000e+00 - accuracy: 0.0000e+00 - val_loss: 2.3553e-06 - val_precision: 0.0000e+00 - val_accuracy: 0.0000e+00\n",
      "Epoch 12/20\n",
      "1/1 [==============================] - 20s 20s/step - loss: 5.2821e-07 - precision: 0.0000e+00 - accuracy: 0.0000e+00 - val_loss: 2.3447e-06 - val_precision: 0.0000e+00 - val_accuracy: 0.0000e+00\n",
      "Epoch 13/20\n",
      "1/1 [==============================] - 20s 20s/step - loss: 5.2821e-07 - precision: 0.0000e+00 - accuracy: 0.0000e+00 - val_loss: 2.3344e-06 - val_precision: 0.0000e+00 - val_accuracy: 0.0000e+00\n",
      "Epoch 14/20\n",
      "1/1 [==============================] - 22s 22s/step - loss: 5.2821e-07 - precision: 0.0000e+00 - accuracy: 0.0000e+00 - val_loss: 2.3243e-06 - val_precision: 0.0000e+00 - val_accuracy: 0.0000e+00\n",
      "Epoch 15/20\n",
      "1/1 [==============================] - 27s 27s/step - loss: 5.2821e-07 - precision: 0.0000e+00 - accuracy: 0.0000e+00 - val_loss: 2.3144e-06 - val_precision: 0.0000e+00 - val_accuracy: 0.0000e+00\n",
      "Epoch 16/20\n",
      "1/1 [==============================] - 28s 28s/step - loss: 5.2821e-07 - precision: 0.0000e+00 - accuracy: 0.0000e+00 - val_loss: 2.3047e-06 - val_precision: 0.0000e+00 - val_accuracy: 0.0000e+00\n",
      "Epoch 17/20\n",
      "1/1 [==============================] - 23s 23s/step - loss: 5.2821e-07 - precision: 0.0000e+00 - accuracy: 0.0000e+00 - val_loss: 2.2951e-06 - val_precision: 0.0000e+00 - val_accuracy: 0.0000e+00\n",
      "Epoch 18/20\n",
      "1/1 [==============================] - 21s 21s/step - loss: 5.2821e-07 - precision: 0.0000e+00 - accuracy: 0.0000e+00 - val_loss: 2.2857e-06 - val_precision: 0.0000e+00 - val_accuracy: 0.0000e+00\n",
      "Epoch 19/20\n",
      "1/1 [==============================] - 28s 28s/step - loss: 5.2821e-07 - precision: 0.0000e+00 - accuracy: 0.0000e+00 - val_loss: 2.2764e-06 - val_precision: 0.0000e+00 - val_accuracy: 0.0000e+00\n",
      "Epoch 20/20\n",
      "1/1 [==============================] - 27s 27s/step - loss: 5.2821e-07 - precision: 0.0000e+00 - accuracy: 0.0000e+00 - val_loss: 2.2673e-06 - val_precision: 0.0000e+00 - val_accuracy: 0.0000e+00\n"
     ]
    }
   ],
   "source": [
    "from tensorflow.keras.callbacks import EarlyStopping, ReduceLROnPlateau\n",
    "\n",
    "\n",
    "es = EarlyStopping(monitor=\"val_loss\",\n",
    "                    patience=4,\n",
    "                    mode=\"min\",\n",
    "                    restore_best_weights=True)\n",
    "\n",
    "# Create ReduceLROnPlateau callback\n",
    "reduce_lr = ReduceLROnPlateau(\n",
    "    monitor=\"val_loss\",   # Monitor validation loss\n",
    "    factor=0.5,            # Factor by which the learning rate will be reduced (new_lr = lr * factor)\n",
    "    patience=2,            # Number of epochs with no improvement after which learning rate will be reduced\n",
    "    min_lr=1e-6,           # Lower bound on the learning rate\n",
    "    verbose=1\n",
    ")\n",
    "\n",
    "history = model.fit(\n",
    "    X_train,\n",
    "    y_train_array,\n",
    "    validation_split=0.3,\n",
    "    shuffle=False,\n",
    "    batch_size=24,\n",
    "    epochs=20,\n",
    "    callbacks=[es], #, reduce_lr],   # Add both callbacks to the list\n",
    "    verbose=1\n",
    ")"
   ]
  },
  {
   "cell_type": "markdown",
   "metadata": {},
   "source": [
    "## Plot history"
   ]
  },
  {
   "cell_type": "code",
   "execution_count": 27,
   "metadata": {},
   "outputs": [],
   "source": [
    "def plot_history(history, metric):\n",
    "    \n",
    "    fig, ax = plt.subplots(1,2, figsize=(20,7))\n",
    "    # --- LOSS: binary_crossentropy --- \n",
    "    ax[0].plot(history.history['loss'])\n",
    "    ax[0].plot(history.history['val_loss'])\n",
    "    ax[0].set_title('binary_crossentropy')\n",
    "    ax[0].set_ylabel('Loss')\n",
    "    ax[0].set_xlabel('Epoch')\n",
    "    ax[0].legend(['Train', 'Validation'], loc='best')\n",
    "    ax[0].grid(axis=\"x\",linewidth=0.5)\n",
    "    ax[0].grid(axis=\"y\",linewidth=0.5)\n",
    "    \n",
    "    # --- METRICS:accuracy ---\n",
    "    \n",
    "    ax[1].plot(history.history[metric])\n",
    "    ax[1].plot(history.history['val_'+metric])\n",
    "    ax[1].set_title(metric)\n",
    "    ax[1].set_ylabel(metric)\n",
    "    ax[1].set_xlabel('Epoch')\n",
    "    ax[1].legend(['Train', 'Validation'], loc='best')\n",
    "    ax[1].grid(axis=\"x\",linewidth=0.5)\n",
    "    ax[1].grid(axis=\"y\",linewidth=0.5)\n",
    "                        \n",
    "    return ax"
   ]
  },
  {
   "cell_type": "code",
   "execution_count": 28,
   "metadata": {},
   "outputs": [
    {
     "data": {
      "text/plain": [
       "dict_keys(['loss', 'precision', 'accuracy', 'val_loss', 'val_precision', 'val_accuracy'])"
      ]
     },
     "execution_count": 28,
     "metadata": {},
     "output_type": "execute_result"
    }
   ],
   "source": [
    "history.history.keys()"
   ]
  },
  {
   "cell_type": "code",
   "execution_count": 30,
   "metadata": {},
   "outputs": [
    {
     "data": {
      "text/plain": [
       "array([<Axes: title={'center': 'binary_crossentropy'}, xlabel='Epoch', ylabel='Loss'>,\n",
       "       <Axes: title={'center': 'precision'}, xlabel='Epoch', ylabel='precision'>],\n",
       "      dtype=object)"
      ]
     },
     "execution_count": 30,
     "metadata": {},
     "output_type": "execute_result"
    },
    {
     "data": {
      "image/png": "[encoded data removed]",
      "text/plain": [
       "<Figure size 2000x700 with 2 Axes>"
      ]
     },
     "metadata": {},
     "output_type": "display_data"
    }
   ],
   "source": [
    "plot_history(history, 'precision')"
   ]
  },
  {
   "cell_type": "code",
   "execution_count": null,
   "metadata": {},
   "outputs": [],
   "source": []
  }
 ],
 "metadata": {
  "kernelspec": {
   "display_name": "fishing_classification",
   "language": "python",
   "name": "python3"
  },
  "language_info": {
   "codemirror_mode": {
    "name": "ipython",
    "version": 3
   },
   "file_extension": ".py",
   "mimetype": "text/x-python",
   "name": "python",
   "nbconvert_exporter": "python",
   "pygments_lexer": "ipython3",
   "version": "3.10.6"
  },
  "orig_nbformat": 4
 },
 "nbformat": 4,
 "nbformat_minor": 2
}
