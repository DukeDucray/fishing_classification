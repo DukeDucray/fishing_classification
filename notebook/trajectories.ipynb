{
 "cells": [
  {
   "cell_type": "code",
   "execution_count": 1,
   "metadata": {},
   "outputs": [],
   "source": [
    "import pandas as pd\n",
    "import numpy as np\n",
    "import geopandas as gpd\n",
    "import matplotlib.pyplot as plt\n",
    "\n",
    "from sklearn.model_selection import train_test_split\n",
    "from tensorflow.keras.callbacks import EarlyStopping\n",
    "from shapely.geometry import Point\n",
    "from tensorflow.keras import models\n",
    "from tensorflow.keras import layers\n",
    "from tensorflow.keras import optimizers, metrics\n",
    "from tensorflow.keras import regularizers\n",
    "from tensorflow.keras.layers.experimental.preprocessing import Normalization\n",
    "from tensorflow.keras.layers import BatchNormalization\n",
    "from tensorflow.keras.preprocessing.sequence import pad_sequences\n",
    "import tensorflow as tf\n",
    "\n",
    "import warnings\n",
    "warnings.filterwarnings('ignore')\n",
    "\n",
    "%matplotlib inline"
   ]
  },
  {
   "cell_type": "code",
   "execution_count": 2,
   "metadata": {},
   "outputs": [
    {
     "data": {
      "text/html": [
       "<div>\n",
       "<style scoped>\n",
       "    .dataframe tbody tr th:only-of-type {\n",
       "        vertical-align: middle;\n",
       "    }\n",
       "\n",
       "    .dataframe tbody tr th {\n",
       "        vertical-align: top;\n",
       "    }\n",
       "\n",
       "    .dataframe thead th {\n",
       "        text-align: right;\n",
       "    }\n",
       "</style>\n",
       "<table border=\"1\" class=\"dataframe\">\n",
       "  <thead>\n",
       "    <tr style=\"text-align: right;\">\n",
       "      <th></th>\n",
       "      <th>mmsi</th>\n",
       "      <th>timestamp</th>\n",
       "      <th>distance_from_shore</th>\n",
       "      <th>distance_from_port</th>\n",
       "      <th>speed</th>\n",
       "      <th>course</th>\n",
       "      <th>lat</th>\n",
       "      <th>lon</th>\n",
       "    </tr>\n",
       "  </thead>\n",
       "  <tbody>\n",
       "    <tr>\n",
       "      <th>0</th>\n",
       "      <td>1.252340e+12</td>\n",
       "      <td>1.325376e+09</td>\n",
       "      <td>0.0</td>\n",
       "      <td>0.0</td>\n",
       "      <td>0.0</td>\n",
       "      <td>153.0</td>\n",
       "      <td>52.458649</td>\n",
       "      <td>4.581200</td>\n",
       "    </tr>\n",
       "    <tr>\n",
       "      <th>1</th>\n",
       "      <td>1.252340e+12</td>\n",
       "      <td>1.325378e+09</td>\n",
       "      <td>0.0</td>\n",
       "      <td>0.0</td>\n",
       "      <td>0.0</td>\n",
       "      <td>153.0</td>\n",
       "      <td>52.458668</td>\n",
       "      <td>4.581167</td>\n",
       "    </tr>\n",
       "    <tr>\n",
       "      <th>2</th>\n",
       "      <td>1.252340e+12</td>\n",
       "      <td>1.325379e+09</td>\n",
       "      <td>0.0</td>\n",
       "      <td>0.0</td>\n",
       "      <td>0.0</td>\n",
       "      <td>153.0</td>\n",
       "      <td>52.458633</td>\n",
       "      <td>4.581183</td>\n",
       "    </tr>\n",
       "  </tbody>\n",
       "</table>\n",
       "</div>"
      ],
      "text/plain": [
       "           mmsi     timestamp  distance_from_shore  distance_from_port  speed  \\\n",
       "0  1.252340e+12  1.325376e+09                  0.0                 0.0    0.0   \n",
       "1  1.252340e+12  1.325378e+09                  0.0                 0.0    0.0   \n",
       "2  1.252340e+12  1.325379e+09                  0.0                 0.0    0.0   \n",
       "\n",
       "   course        lat       lon  \n",
       "0   153.0  52.458649  4.581200  \n",
       "1   153.0  52.458668  4.581167  \n",
       "2   153.0  52.458633  4.581183  "
      ]
     },
     "execution_count": 2,
     "metadata": {},
     "output_type": "execute_result"
    }
   ],
   "source": [
    "path = 'data/preprocessed'\n",
    "file_name = 'combined_only'\n",
    "df = pd.read_csv(f'../{path}/{file_name}.csv')\n",
    "df.head(3)"
   ]
  },
  {
   "cell_type": "code",
   "execution_count": 3,
   "metadata": {},
   "outputs": [
    {
     "data": {
      "text/plain": [
       "(354, (28581398, 8))"
      ]
     },
     "execution_count": 3,
     "metadata": {},
     "output_type": "execute_result"
    }
   ],
   "source": [
    "df['mmsi'].value_counts().count(), df.shape"
   ]
  },
  {
   "cell_type": "markdown",
   "metadata": {},
   "source": [
    "## Keep small sample"
   ]
  },
  {
   "cell_type": "code",
   "execution_count": 4,
   "metadata": {},
   "outputs": [
    {
     "data": {
      "text/plain": [
       "(1000000, 8)"
      ]
     },
     "execution_count": 4,
     "metadata": {},
     "output_type": "execute_result"
    }
   ],
   "source": [
    "sample_size = 1000000 \n",
    "\n",
    "start_index = 0  \n",
    "\n",
    "# Create a smaller sequential subset\n",
    "data = df.iloc[-sample_size:]\n",
    "\n",
    "data.shape"
   ]
  },
  {
   "cell_type": "markdown",
   "metadata": {},
   "source": [
    "### Export small dataset"
   ]
  },
  {
   "cell_type": "code",
   "execution_count": 5,
   "metadata": {},
   "outputs": [],
   "source": [
    "output_folder = '../data/preprocessed'\n",
    "output_file = f'preproc_{int(sample_size/1000)}k.csv'\n",
    "\n",
    "# Construct the full path\n",
    "output_path = f'{output_folder}/{output_file}'\n",
    "\n",
    "# Save the DataFrame to the specified path\n",
    "data.to_csv(output_path, index=False)"
   ]
  },
  {
   "cell_type": "markdown",
   "metadata": {},
   "source": [
    "# Recurrent Neural Network setup"
   ]
  },
  {
   "cell_type": "markdown",
   "metadata": {},
   "source": [
    "## Data prep"
   ]
  },
  {
   "cell_type": "code",
   "execution_count": 6,
   "metadata": {},
   "outputs": [
    {
     "name": "stdout",
     "output_type": "stream",
     "text": [
      "Total number of vessels in our small dataset:  21\n"
     ]
    }
   ],
   "source": [
    "number_vessel=data['mmsi'].value_counts().count()\n",
    "print('Total number of vessels in our small dataset: ', number_vessel)"
   ]
  },
  {
   "cell_type": "markdown",
   "metadata": {},
   "source": [
    "### Split data by vessels"
   ]
  },
  {
   "cell_type": "code",
   "execution_count": 7,
   "metadata": {},
   "outputs": [
    {
     "data": {
      "text/html": [
       "<div>\n",
       "<style scoped>\n",
       "    .dataframe tbody tr th:only-of-type {\n",
       "        vertical-align: middle;\n",
       "    }\n",
       "\n",
       "    .dataframe tbody tr th {\n",
       "        vertical-align: top;\n",
       "    }\n",
       "\n",
       "    .dataframe thead th {\n",
       "        text-align: right;\n",
       "    }\n",
       "</style>\n",
       "<table border=\"1\" class=\"dataframe\">\n",
       "  <thead>\n",
       "    <tr style=\"text-align: right;\">\n",
       "      <th></th>\n",
       "      <th>mmsi</th>\n",
       "      <th>timestamp</th>\n",
       "      <th>distance_from_shore</th>\n",
       "      <th>distance_from_port</th>\n",
       "      <th>speed</th>\n",
       "      <th>course</th>\n",
       "      <th>lat</th>\n",
       "      <th>lon</th>\n",
       "    </tr>\n",
       "  </thead>\n",
       "  <tbody>\n",
       "    <tr>\n",
       "      <th>27581398</th>\n",
       "      <td>1.337471e+14</td>\n",
       "      <td>1.457563e+09</td>\n",
       "      <td>11661.617188</td>\n",
       "      <td>38469.824219</td>\n",
       "      <td>8.0</td>\n",
       "      <td>333.200012</td>\n",
       "      <td>43.281300</td>\n",
       "      <td>16.269434</td>\n",
       "    </tr>\n",
       "    <tr>\n",
       "      <th>27581399</th>\n",
       "      <td>1.337471e+14</td>\n",
       "      <td>1.457564e+09</td>\n",
       "      <td>11401.474609</td>\n",
       "      <td>38274.378906</td>\n",
       "      <td>8.6</td>\n",
       "      <td>285.500000</td>\n",
       "      <td>43.293980</td>\n",
       "      <td>16.247747</td>\n",
       "    </tr>\n",
       "    <tr>\n",
       "      <th>27581400</th>\n",
       "      <td>1.337471e+14</td>\n",
       "      <td>1.457564e+09</td>\n",
       "      <td>12648.800781</td>\n",
       "      <td>39407.152344</td>\n",
       "      <td>8.5</td>\n",
       "      <td>314.200012</td>\n",
       "      <td>43.295353</td>\n",
       "      <td>16.228584</td>\n",
       "    </tr>\n",
       "    <tr>\n",
       "      <th>27581401</th>\n",
       "      <td>1.337471e+14</td>\n",
       "      <td>1.457565e+09</td>\n",
       "      <td>9486.599609</td>\n",
       "      <td>37535.726562</td>\n",
       "      <td>8.4</td>\n",
       "      <td>321.500000</td>\n",
       "      <td>43.317936</td>\n",
       "      <td>16.205826</td>\n",
       "    </tr>\n",
       "    <tr>\n",
       "      <th>27581402</th>\n",
       "      <td>1.337471e+14</td>\n",
       "      <td>1.457565e+09</td>\n",
       "      <td>8944.052734</td>\n",
       "      <td>37482.410156</td>\n",
       "      <td>8.4</td>\n",
       "      <td>320.700012</td>\n",
       "      <td>43.323536</td>\n",
       "      <td>16.198494</td>\n",
       "    </tr>\n",
       "  </tbody>\n",
       "</table>\n",
       "</div>"
      ],
      "text/plain": [
       "                  mmsi     timestamp  distance_from_shore  distance_from_port  \\\n",
       "27581398  1.337471e+14  1.457563e+09         11661.617188        38469.824219   \n",
       "27581399  1.337471e+14  1.457564e+09         11401.474609        38274.378906   \n",
       "27581400  1.337471e+14  1.457564e+09         12648.800781        39407.152344   \n",
       "27581401  1.337471e+14  1.457565e+09          9486.599609        37535.726562   \n",
       "27581402  1.337471e+14  1.457565e+09          8944.052734        37482.410156   \n",
       "\n",
       "          speed      course        lat        lon  \n",
       "27581398    8.0  333.200012  43.281300  16.269434  \n",
       "27581399    8.6  285.500000  43.293980  16.247747  \n",
       "27581400    8.5  314.200012  43.295353  16.228584  \n",
       "27581401    8.4  321.500000  43.317936  16.205826  \n",
       "27581402    8.4  320.700012  43.323536  16.198494  "
      ]
     },
     "execution_count": 7,
     "metadata": {},
     "output_type": "execute_result"
    }
   ],
   "source": [
    "data.head()"
   ]
  },
  {
   "cell_type": "code",
   "execution_count": 8,
   "metadata": {},
   "outputs": [
    {
     "data": {
      "text/html": [
       "<div>\n",
       "<style scoped>\n",
       "    .dataframe tbody tr th:only-of-type {\n",
       "        vertical-align: middle;\n",
       "    }\n",
       "\n",
       "    .dataframe tbody tr th {\n",
       "        vertical-align: top;\n",
       "    }\n",
       "\n",
       "    .dataframe thead th {\n",
       "        text-align: right;\n",
       "    }\n",
       "</style>\n",
       "<table border=\"1\" class=\"dataframe\">\n",
       "  <thead>\n",
       "    <tr style=\"text-align: right;\">\n",
       "      <th></th>\n",
       "      <th>mmsi</th>\n",
       "      <th>timestamp</th>\n",
       "      <th>distance_from_shore</th>\n",
       "      <th>distance_from_port</th>\n",
       "      <th>speed</th>\n",
       "      <th>course</th>\n",
       "      <th>lat</th>\n",
       "      <th>lon</th>\n",
       "      <th>geometry</th>\n",
       "    </tr>\n",
       "  </thead>\n",
       "  <tbody>\n",
       "    <tr>\n",
       "      <th>27581398</th>\n",
       "      <td>1.337471e+14</td>\n",
       "      <td>1.457563e+09</td>\n",
       "      <td>11661.617188</td>\n",
       "      <td>38469.824219</td>\n",
       "      <td>8.0</td>\n",
       "      <td>333.200012</td>\n",
       "      <td>43.281300</td>\n",
       "      <td>16.269434</td>\n",
       "      <td>POINT (16.26943 43.28130)</td>\n",
       "    </tr>\n",
       "    <tr>\n",
       "      <th>27581399</th>\n",
       "      <td>1.337471e+14</td>\n",
       "      <td>1.457564e+09</td>\n",
       "      <td>11401.474609</td>\n",
       "      <td>38274.378906</td>\n",
       "      <td>8.6</td>\n",
       "      <td>285.500000</td>\n",
       "      <td>43.293980</td>\n",
       "      <td>16.247747</td>\n",
       "      <td>POINT (16.24775 43.29398)</td>\n",
       "    </tr>\n",
       "    <tr>\n",
       "      <th>27581400</th>\n",
       "      <td>1.337471e+14</td>\n",
       "      <td>1.457564e+09</td>\n",
       "      <td>12648.800781</td>\n",
       "      <td>39407.152344</td>\n",
       "      <td>8.5</td>\n",
       "      <td>314.200012</td>\n",
       "      <td>43.295353</td>\n",
       "      <td>16.228584</td>\n",
       "      <td>POINT (16.22858 43.29535)</td>\n",
       "    </tr>\n",
       "    <tr>\n",
       "      <th>27581401</th>\n",
       "      <td>1.337471e+14</td>\n",
       "      <td>1.457565e+09</td>\n",
       "      <td>9486.599609</td>\n",
       "      <td>37535.726562</td>\n",
       "      <td>8.4</td>\n",
       "      <td>321.500000</td>\n",
       "      <td>43.317936</td>\n",
       "      <td>16.205826</td>\n",
       "      <td>POINT (16.20583 43.31794)</td>\n",
       "    </tr>\n",
       "    <tr>\n",
       "      <th>27581402</th>\n",
       "      <td>1.337471e+14</td>\n",
       "      <td>1.457565e+09</td>\n",
       "      <td>8944.052734</td>\n",
       "      <td>37482.410156</td>\n",
       "      <td>8.4</td>\n",
       "      <td>320.700012</td>\n",
       "      <td>43.323536</td>\n",
       "      <td>16.198494</td>\n",
       "      <td>POINT (16.19849 43.32354)</td>\n",
       "    </tr>\n",
       "  </tbody>\n",
       "</table>\n",
       "</div>"
      ],
      "text/plain": [
       "                  mmsi     timestamp  distance_from_shore  distance_from_port  \\\n",
       "27581398  1.337471e+14  1.457563e+09         11661.617188        38469.824219   \n",
       "27581399  1.337471e+14  1.457564e+09         11401.474609        38274.378906   \n",
       "27581400  1.337471e+14  1.457564e+09         12648.800781        39407.152344   \n",
       "27581401  1.337471e+14  1.457565e+09          9486.599609        37535.726562   \n",
       "27581402  1.337471e+14  1.457565e+09          8944.052734        37482.410156   \n",
       "\n",
       "          speed      course        lat        lon                   geometry  \n",
       "27581398    8.0  333.200012  43.281300  16.269434  POINT (16.26943 43.28130)  \n",
       "27581399    8.6  285.500000  43.293980  16.247747  POINT (16.24775 43.29398)  \n",
       "27581400    8.5  314.200012  43.295353  16.228584  POINT (16.22858 43.29535)  \n",
       "27581401    8.4  321.500000  43.317936  16.205826  POINT (16.20583 43.31794)  \n",
       "27581402    8.4  320.700012  43.323536  16.198494  POINT (16.19849 43.32354)  "
      ]
     },
     "execution_count": 8,
     "metadata": {},
     "output_type": "execute_result"
    }
   ],
   "source": [
    "geometry = [Point(xy) for xy in zip(data['lon'], data['lat'])]\n",
    "crs = {'init':'epsg:4326'}\n",
    "geo = gpd.GeoDataFrame(data, #specify our data\n",
    "                          crs=crs, #specify our coordinate reference system\n",
    "                          geometry=geometry) #specify the geometry list we created\n",
    "geo.head()"
   ]
  },
  {
   "cell_type": "code",
   "execution_count": 9,
   "metadata": {},
   "outputs": [
    {
     "data": {
      "text/html": [
       "<div>\n",
       "<style scoped>\n",
       "    .dataframe tbody tr th:only-of-type {\n",
       "        vertical-align: middle;\n",
       "    }\n",
       "\n",
       "    .dataframe tbody tr th {\n",
       "        vertical-align: top;\n",
       "    }\n",
       "\n",
       "    .dataframe thead th {\n",
       "        text-align: right;\n",
       "    }\n",
       "</style>\n",
       "<table border=\"1\" class=\"dataframe\">\n",
       "  <thead>\n",
       "    <tr style=\"text-align: right;\">\n",
       "      <th></th>\n",
       "      <th>mmsi</th>\n",
       "      <th>distance_from_shore</th>\n",
       "      <th>distance_from_port</th>\n",
       "      <th>speed</th>\n",
       "      <th>course</th>\n",
       "      <th>geometry</th>\n",
       "    </tr>\n",
       "  </thead>\n",
       "  <tbody>\n",
       "    <tr>\n",
       "      <th>27581398</th>\n",
       "      <td>1.337471e+14</td>\n",
       "      <td>11661.617188</td>\n",
       "      <td>38469.824219</td>\n",
       "      <td>8.0</td>\n",
       "      <td>333.200012</td>\n",
       "      <td>POINT (16.26943 43.28130)</td>\n",
       "    </tr>\n",
       "    <tr>\n",
       "      <th>27581399</th>\n",
       "      <td>1.337471e+14</td>\n",
       "      <td>11401.474609</td>\n",
       "      <td>38274.378906</td>\n",
       "      <td>8.6</td>\n",
       "      <td>285.500000</td>\n",
       "      <td>POINT (16.24775 43.29398)</td>\n",
       "    </tr>\n",
       "    <tr>\n",
       "      <th>27581400</th>\n",
       "      <td>1.337471e+14</td>\n",
       "      <td>12648.800781</td>\n",
       "      <td>39407.152344</td>\n",
       "      <td>8.5</td>\n",
       "      <td>314.200012</td>\n",
       "      <td>POINT (16.22858 43.29535)</td>\n",
       "    </tr>\n",
       "  </tbody>\n",
       "</table>\n",
       "</div>"
      ],
      "text/plain": [
       "                  mmsi  distance_from_shore  distance_from_port  speed  \\\n",
       "27581398  1.337471e+14         11661.617188        38469.824219    8.0   \n",
       "27581399  1.337471e+14         11401.474609        38274.378906    8.6   \n",
       "27581400  1.337471e+14         12648.800781        39407.152344    8.5   \n",
       "\n",
       "              course                   geometry  \n",
       "27581398  333.200012  POINT (16.26943 43.28130)  \n",
       "27581399  285.500000  POINT (16.24775 43.29398)  \n",
       "27581400  314.200012  POINT (16.22858 43.29535)  "
      ]
     },
     "execution_count": 9,
     "metadata": {},
     "output_type": "execute_result"
    }
   ],
   "source": [
    "X = geo.drop(columns = ['timestamp', 'lat', 'lon'], axis=1)\n",
    "X.head(3)"
   ]
  },
  {
   "cell_type": "code",
   "execution_count": 10,
   "metadata": {},
   "outputs": [
    {
     "name": "stdout",
     "output_type": "stream",
     "text": [
      "tf.Tensor(\n",
      "[[16.269434 43.2813  ]\n",
      " [16.247747 43.29398 ]\n",
      " [16.228584 43.295353]\n",
      " ...\n",
      " [13.845977 43.44256 ]\n",
      " [13.807993 43.493008]\n",
      " [13.815951 43.414944]], shape=(1000000, 2), dtype=float32)\n"
     ]
    }
   ],
   "source": [
    "# Extract coordinates from \"Point\" objects and convert to numeric data\n",
    "coordinates = [(point.x, point.y) for point in geo['geometry']]\n",
    "numeric_data = np.array(coordinates, dtype=np.float32)\n",
    "\n",
    "# Convert numeric data to TensorFlow tensor\n",
    "tensor = tf.convert_to_tensor(numeric_data)\n",
    "\n",
    "print(tensor)"
   ]
  },
  {
   "cell_type": "code",
   "execution_count": 11,
   "metadata": {},
   "outputs": [],
   "source": [
    "grouped = X.groupby('mmsi')\n",
    "\n",
    "# List to store the NumPy arrays for each group\n",
    "X_group_arrays = []\n",
    "#y_group_arrays = []\n",
    "\n",
    "# Iterate through each group and store the data as a NumPy array\n",
    "for mmsi_value, group_df in grouped:\n",
    "    # 'group_df' contains the subset of data for the current 'mmsi' group\n",
    "    # Convert the relevant columns to a NumPy array and append it to the list\n",
    "    X_group_array = group_df.drop(columns = ['mmsi', 'geometry'], axis=1).values\n",
    "    X_group_arrays.append(X_group_array)\n",
    "    \n",
    "#    y_group_array = tensor\n",
    "#    y_group_arrays.append(y_group_array)\n",
    "    \n",
    "assert(len(X_group_arrays) == number_vessel)\n",
    "#assert(len(y_group_arrays) == number_vessel)\n"
   ]
  },
  {
   "cell_type": "markdown",
   "metadata": {},
   "source": [
    "### Padding"
   ]
  },
  {
   "cell_type": "code",
   "execution_count": 12,
   "metadata": {},
   "outputs": [
    {
     "name": "stdout",
     "output_type": "stream",
     "text": [
      "X_train_pad shape:  (21, 227003, 4)\n"
     ]
    }
   ],
   "source": [
    "X_pad = pad_sequences(X_group_arrays, dtype='float32', padding='post', value=-1000)\n",
    "print('X_train_pad shape: ',X_pad.shape)"
   ]
  },
  {
   "cell_type": "code",
   "execution_count": 13,
   "metadata": {},
   "outputs": [
    {
     "data": {
      "text/html": [
       "<div>\n",
       "<style scoped>\n",
       "    .dataframe tbody tr th:only-of-type {\n",
       "        vertical-align: middle;\n",
       "    }\n",
       "\n",
       "    .dataframe tbody tr th {\n",
       "        vertical-align: top;\n",
       "    }\n",
       "\n",
       "    .dataframe thead th {\n",
       "        text-align: right;\n",
       "    }\n",
       "</style>\n",
       "<table border=\"1\" class=\"dataframe\">\n",
       "  <thead>\n",
       "    <tr style=\"text-align: right;\">\n",
       "      <th></th>\n",
       "      <th>0</th>\n",
       "      <th>1</th>\n",
       "      <th>2</th>\n",
       "      <th>3</th>\n",
       "    </tr>\n",
       "  </thead>\n",
       "  <tbody>\n",
       "    <tr>\n",
       "      <th>0</th>\n",
       "      <td>11661.617188</td>\n",
       "      <td>38469.824219</td>\n",
       "      <td>8.0</td>\n",
       "      <td>333.200012</td>\n",
       "    </tr>\n",
       "    <tr>\n",
       "      <th>1</th>\n",
       "      <td>11401.474609</td>\n",
       "      <td>38274.378906</td>\n",
       "      <td>8.6</td>\n",
       "      <td>285.500000</td>\n",
       "    </tr>\n",
       "    <tr>\n",
       "      <th>2</th>\n",
       "      <td>12648.800781</td>\n",
       "      <td>39407.152344</td>\n",
       "      <td>8.5</td>\n",
       "      <td>314.200012</td>\n",
       "    </tr>\n",
       "    <tr>\n",
       "      <th>3</th>\n",
       "      <td>9486.599609</td>\n",
       "      <td>37535.726562</td>\n",
       "      <td>8.4</td>\n",
       "      <td>321.500000</td>\n",
       "    </tr>\n",
       "    <tr>\n",
       "      <th>4</th>\n",
       "      <td>8944.052734</td>\n",
       "      <td>37482.410156</td>\n",
       "      <td>8.4</td>\n",
       "      <td>320.700012</td>\n",
       "    </tr>\n",
       "    <tr>\n",
       "      <th>...</th>\n",
       "      <td>...</td>\n",
       "      <td>...</td>\n",
       "      <td>...</td>\n",
       "      <td>...</td>\n",
       "    </tr>\n",
       "    <tr>\n",
       "      <th>226998</th>\n",
       "      <td>-1000.000000</td>\n",
       "      <td>-1000.000000</td>\n",
       "      <td>-1000.0</td>\n",
       "      <td>-1000.000000</td>\n",
       "    </tr>\n",
       "    <tr>\n",
       "      <th>226999</th>\n",
       "      <td>-1000.000000</td>\n",
       "      <td>-1000.000000</td>\n",
       "      <td>-1000.0</td>\n",
       "      <td>-1000.000000</td>\n",
       "    </tr>\n",
       "    <tr>\n",
       "      <th>227000</th>\n",
       "      <td>-1000.000000</td>\n",
       "      <td>-1000.000000</td>\n",
       "      <td>-1000.0</td>\n",
       "      <td>-1000.000000</td>\n",
       "    </tr>\n",
       "    <tr>\n",
       "      <th>227001</th>\n",
       "      <td>-1000.000000</td>\n",
       "      <td>-1000.000000</td>\n",
       "      <td>-1000.0</td>\n",
       "      <td>-1000.000000</td>\n",
       "    </tr>\n",
       "    <tr>\n",
       "      <th>227002</th>\n",
       "      <td>-1000.000000</td>\n",
       "      <td>-1000.000000</td>\n",
       "      <td>-1000.0</td>\n",
       "      <td>-1000.000000</td>\n",
       "    </tr>\n",
       "  </tbody>\n",
       "</table>\n",
       "<p>227003 rows × 4 columns</p>\n",
       "</div>"
      ],
      "text/plain": [
       "                   0             1       2            3\n",
       "0       11661.617188  38469.824219     8.0   333.200012\n",
       "1       11401.474609  38274.378906     8.6   285.500000\n",
       "2       12648.800781  39407.152344     8.5   314.200012\n",
       "3        9486.599609  37535.726562     8.4   321.500000\n",
       "4        8944.052734  37482.410156     8.4   320.700012\n",
       "...              ...           ...     ...          ...\n",
       "226998  -1000.000000  -1000.000000 -1000.0 -1000.000000\n",
       "226999  -1000.000000  -1000.000000 -1000.0 -1000.000000\n",
       "227000  -1000.000000  -1000.000000 -1000.0 -1000.000000\n",
       "227001  -1000.000000  -1000.000000 -1000.0 -1000.000000\n",
       "227002  -1000.000000  -1000.000000 -1000.0 -1000.000000\n",
       "\n",
       "[227003 rows x 4 columns]"
      ]
     },
     "execution_count": 13,
     "metadata": {},
     "output_type": "execute_result"
    }
   ],
   "source": [
    "pd.DataFrame(X_pad[0])"
   ]
  },
  {
   "cell_type": "markdown",
   "metadata": {},
   "source": [
    "### Split train / test"
   ]
  },
  {
   "cell_type": "code",
   "execution_count": 14,
   "metadata": {},
   "outputs": [
    {
     "ename": "ValueError",
     "evalue": "Found input variables with inconsistent numbers of samples: [21, 1000000]",
     "output_type": "error",
     "traceback": [
      "\u001b[0;31m---------------------------------------------------------------------------\u001b[0m",
      "\u001b[0;31mValueError\u001b[0m                                Traceback (most recent call last)",
      "Cell \u001b[0;32mIn[14], line 1\u001b[0m\n\u001b[0;32m----> 1\u001b[0m X_train, X_test, y_train, y_test \u001b[39m=\u001b[39m train_test_split(X_pad, tensor, test_size\u001b[39m=\u001b[39;49m\u001b[39m0.3\u001b[39;49m, shuffle\u001b[39m=\u001b[39;49m\u001b[39mFalse\u001b[39;49;00m)\n\u001b[1;32m      2\u001b[0m \u001b[39mprint\u001b[39m(X_train\u001b[39m.\u001b[39mshape)\n\u001b[1;32m      3\u001b[0m \u001b[39mprint\u001b[39m(X_test\u001b[39m.\u001b[39mshape)\n",
      "File \u001b[0;32m~/.pyenv/versions/3.10.6/envs/fishing_classification/lib/python3.10/site-packages/sklearn/utils/_param_validation.py:211\u001b[0m, in \u001b[0;36mvalidate_params.<locals>.decorator.<locals>.wrapper\u001b[0;34m(*args, **kwargs)\u001b[0m\n\u001b[1;32m    205\u001b[0m \u001b[39mtry\u001b[39;00m:\n\u001b[1;32m    206\u001b[0m     \u001b[39mwith\u001b[39;00m config_context(\n\u001b[1;32m    207\u001b[0m         skip_parameter_validation\u001b[39m=\u001b[39m(\n\u001b[1;32m    208\u001b[0m             prefer_skip_nested_validation \u001b[39mor\u001b[39;00m global_skip_validation\n\u001b[1;32m    209\u001b[0m         )\n\u001b[1;32m    210\u001b[0m     ):\n\u001b[0;32m--> 211\u001b[0m         \u001b[39mreturn\u001b[39;00m func(\u001b[39m*\u001b[39;49margs, \u001b[39m*\u001b[39;49m\u001b[39m*\u001b[39;49mkwargs)\n\u001b[1;32m    212\u001b[0m \u001b[39mexcept\u001b[39;00m InvalidParameterError \u001b[39mas\u001b[39;00m e:\n\u001b[1;32m    213\u001b[0m     \u001b[39m# When the function is just a wrapper around an estimator, we allow\u001b[39;00m\n\u001b[1;32m    214\u001b[0m     \u001b[39m# the function to delegate validation to the estimator, but we replace\u001b[39;00m\n\u001b[1;32m    215\u001b[0m     \u001b[39m# the name of the estimator by the name of the function in the error\u001b[39;00m\n\u001b[1;32m    216\u001b[0m     \u001b[39m# message to avoid confusion.\u001b[39;00m\n\u001b[1;32m    217\u001b[0m     msg \u001b[39m=\u001b[39m re\u001b[39m.\u001b[39msub(\n\u001b[1;32m    218\u001b[0m         \u001b[39mr\u001b[39m\u001b[39m\"\u001b[39m\u001b[39mparameter of \u001b[39m\u001b[39m\\\u001b[39m\u001b[39mw+ must be\u001b[39m\u001b[39m\"\u001b[39m,\n\u001b[1;32m    219\u001b[0m         \u001b[39mf\u001b[39m\u001b[39m\"\u001b[39m\u001b[39mparameter of \u001b[39m\u001b[39m{\u001b[39;00mfunc\u001b[39m.\u001b[39m\u001b[39m__qualname__\u001b[39m\u001b[39m}\u001b[39;00m\u001b[39m must be\u001b[39m\u001b[39m\"\u001b[39m,\n\u001b[1;32m    220\u001b[0m         \u001b[39mstr\u001b[39m(e),\n\u001b[1;32m    221\u001b[0m     )\n",
      "File \u001b[0;32m~/.pyenv/versions/3.10.6/envs/fishing_classification/lib/python3.10/site-packages/sklearn/model_selection/_split.py:2614\u001b[0m, in \u001b[0;36mtrain_test_split\u001b[0;34m(test_size, train_size, random_state, shuffle, stratify, *arrays)\u001b[0m\n\u001b[1;32m   2611\u001b[0m \u001b[39mif\u001b[39;00m n_arrays \u001b[39m==\u001b[39m \u001b[39m0\u001b[39m:\n\u001b[1;32m   2612\u001b[0m     \u001b[39mraise\u001b[39;00m \u001b[39mValueError\u001b[39;00m(\u001b[39m\"\u001b[39m\u001b[39mAt least one array required as input\u001b[39m\u001b[39m\"\u001b[39m)\n\u001b[0;32m-> 2614\u001b[0m arrays \u001b[39m=\u001b[39m indexable(\u001b[39m*\u001b[39;49marrays)\n\u001b[1;32m   2616\u001b[0m n_samples \u001b[39m=\u001b[39m _num_samples(arrays[\u001b[39m0\u001b[39m])\n\u001b[1;32m   2617\u001b[0m n_train, n_test \u001b[39m=\u001b[39m _validate_shuffle_split(\n\u001b[1;32m   2618\u001b[0m     n_samples, test_size, train_size, default_test_size\u001b[39m=\u001b[39m\u001b[39m0.25\u001b[39m\n\u001b[1;32m   2619\u001b[0m )\n",
      "File \u001b[0;32m~/.pyenv/versions/3.10.6/envs/fishing_classification/lib/python3.10/site-packages/sklearn/utils/validation.py:455\u001b[0m, in \u001b[0;36mindexable\u001b[0;34m(*iterables)\u001b[0m\n\u001b[1;32m    436\u001b[0m \u001b[39m\u001b[39m\u001b[39m\"\"\"Make arrays indexable for cross-validation.\u001b[39;00m\n\u001b[1;32m    437\u001b[0m \n\u001b[1;32m    438\u001b[0m \u001b[39mChecks consistent length, passes through None, and ensures that everything\u001b[39;00m\n\u001b[0;32m   (...)\u001b[0m\n\u001b[1;32m    451\u001b[0m \u001b[39m    sparse matrix, or dataframe) or `None`.\u001b[39;00m\n\u001b[1;32m    452\u001b[0m \u001b[39m\"\"\"\u001b[39;00m\n\u001b[1;32m    454\u001b[0m result \u001b[39m=\u001b[39m [_make_indexable(X) \u001b[39mfor\u001b[39;00m X \u001b[39min\u001b[39;00m iterables]\n\u001b[0;32m--> 455\u001b[0m check_consistent_length(\u001b[39m*\u001b[39;49mresult)\n\u001b[1;32m    456\u001b[0m \u001b[39mreturn\u001b[39;00m result\n",
      "File \u001b[0;32m~/.pyenv/versions/3.10.6/envs/fishing_classification/lib/python3.10/site-packages/sklearn/utils/validation.py:409\u001b[0m, in \u001b[0;36mcheck_consistent_length\u001b[0;34m(*arrays)\u001b[0m\n\u001b[1;32m    407\u001b[0m uniques \u001b[39m=\u001b[39m np\u001b[39m.\u001b[39munique(lengths)\n\u001b[1;32m    408\u001b[0m \u001b[39mif\u001b[39;00m \u001b[39mlen\u001b[39m(uniques) \u001b[39m>\u001b[39m \u001b[39m1\u001b[39m:\n\u001b[0;32m--> 409\u001b[0m     \u001b[39mraise\u001b[39;00m \u001b[39mValueError\u001b[39;00m(\n\u001b[1;32m    410\u001b[0m         \u001b[39m\"\u001b[39m\u001b[39mFound input variables with inconsistent numbers of samples: \u001b[39m\u001b[39m%r\u001b[39;00m\u001b[39m\"\u001b[39m\n\u001b[1;32m    411\u001b[0m         \u001b[39m%\u001b[39m [\u001b[39mint\u001b[39m(l) \u001b[39mfor\u001b[39;00m l \u001b[39min\u001b[39;00m lengths]\n\u001b[1;32m    412\u001b[0m     )\n",
      "\u001b[0;31mValueError\u001b[0m: Found input variables with inconsistent numbers of samples: [21, 1000000]"
     ]
    }
   ],
   "source": [
    "X_train, X_test, y_train, y_test = train_test_split(X_pad, tensor, test_size=0.3, shuffle=False)\n",
    "print(X_train.shape)\n",
    "print(X_test.shape)"
   ]
  },
  {
   "cell_type": "code",
   "execution_count": null,
   "metadata": {},
   "outputs": [],
   "source": [
    "from tensorflow.keras.layers import Normalization\n",
    "from tensorflow.keras.models import Sequential\n",
    "from tensorflow.keras.layers import Dense, SimpleRNN, Flatten\n",
    "from tensorflow.keras import layers\n",
    "\n",
    "layer = Normalization()\n",
    "layer.adapt(X_train)\n",
    "\n",
    "model = Sequential()\n",
    "model.add(layer)\n",
    "model.add(layers.SimpleRNN(20, activation='tanh', input_shape=(227003, 4)))\n",
    "model.add(layers.Dense(10, activation='relu'))\n",
    "model.add(layers.Dense(1, activation='linear'))\n",
    "model.summary()"
   ]
  },
  {
   "cell_type": "code",
   "execution_count": null,
   "metadata": {},
   "outputs": [],
   "source": []
  },
  {
   "cell_type": "code",
   "execution_count": null,
   "metadata": {},
   "outputs": [],
   "source": []
  },
  {
   "cell_type": "code",
   "execution_count": null,
   "metadata": {},
   "outputs": [],
   "source": []
  },
  {
   "cell_type": "markdown",
   "metadata": {},
   "source": [
    "## init_model"
   ]
  },
  {
   "cell_type": "code",
   "execution_count": null,
   "metadata": {},
   "outputs": [],
   "source": [
    "# def init_model(input_shape):\n",
    "    \n",
    "\n",
    "    # 1 - RNN architecture\n",
    "    # ======================    \n",
    "    # model = models.Sequential()    \n",
    "    # # Normalizing Inputs\n",
    "    # # model.add(normalizer)\n",
    "    \n",
    "    # # Recurrent Layer\n",
    "    # model.add(layers.LSTM(units=64, activation='tanh', return_sequences=False, \n",
    "    #                       recurrent_dropout=0.5, dropout=0.5, input_shape=input_shape))\n",
    "    \n",
    "    # # Hidden Dense Layer that we are regularizing\n",
    "    # # reg_l2 = regularizers.L2(0.5)\n",
    "    # # model.add(layers.Dense(32, activation=\"relu\", kernel_regularizer = reg_l2))\n",
    "    \n",
    "    # model.add(layers.Dense(32, activation=\"relu\"))\n",
    "    # model.add(layers.Dropout(rate=0.5))\n",
    "    \n",
    "    # # Predictive Dense Layer\n",
    "    # ### model.add(layers.Dense(1, activation='linear'))  \n",
    "    \n",
    "    # model.add(layers.Dense(1, activation='sigmoid'))\n",
    "    \n",
    "    # # model.build(input_shape=(None, input_shape)) \n",
    " \n",
    "\n",
    "    # model.compile(loss='binary_crossentropy', optimizer='adam', metrics=[\"accuracy\"])\n",
    "\n",
    "    # return model"
   ]
  },
  {
   "cell_type": "code",
   "execution_count": null,
   "metadata": {},
   "outputs": [],
   "source": [
    "def init_model(X_train):\n",
    "    model = models.Sequential() \n",
    "    \n",
    "    model.add(\n",
    "        layers.Masking(\n",
    "            mask_value=-1000, \n",
    "            input_shape=(X_train.shape[1], X_train.shape[2])\n",
    "                       )\n",
    "        )\n",
    "    \n",
    "    model.add(BatchNormalization()) \n",
    "    \n",
    "    model.add(layers.LSTM(64, activation='tanh'))\n",
    "    \n",
    "    model.add(layers.Dense(2, activation='sigmoid'))\n",
    "    \n",
    "    initial_learning_rate = 0.1\n",
    "    optimizer = optimizers.Adam(learning_rate=initial_learning_rate)\n",
    "    \n",
    "    model.compile(loss='mse', optimizer=optimizer, metrics=[metrics.Precision(), metrics.Accuracy()])\n",
    "    \n",
    "    return model"
   ]
  },
  {
   "cell_type": "markdown",
   "metadata": {},
   "source": [
    "# Model test and tuning"
   ]
  },
  {
   "cell_type": "code",
   "execution_count": null,
   "metadata": {},
   "outputs": [],
   "source": [
    "input_shape = (X_train.shape[1], X_train.shape[2])\n",
    "input_shape"
   ]
  },
  {
   "cell_type": "code",
   "execution_count": null,
   "metadata": {},
   "outputs": [],
   "source": [
    "model = init_model(X_train)\n",
    "model.summary()"
   ]
  },
  {
   "cell_type": "code",
   "execution_count": null,
   "metadata": {},
   "outputs": [],
   "source": [
    "from tensorflow.keras.callbacks import EarlyStopping, ReduceLROnPlateau\n",
    "\n",
    "\n",
    "es = EarlyStopping(monitor=\"val_loss\",\n",
    "                    patience=4,\n",
    "                    mode=\"min\",\n",
    "                    restore_best_weights=True)\n",
    "\n",
    "# Create ReduceLROnPlateau callback\n",
    "reduce_lr = ReduceLROnPlateau(\n",
    "    monitor=\"val_loss\",   # Monitor validation loss\n",
    "    factor=0.5,            # Factor by which the learning rate will be reduced (new_lr = lr * factor)\n",
    "    patience=2,            # Number of epochs with no improvement after which learning rate will be reduced\n",
    "    min_lr=1e-6,           # Lower bound on the learning rate\n",
    "    verbose=1\n",
    ")\n",
    "\n",
    "history = model.fit(\n",
    "    X_train,\n",
    "    y_train_array,\n",
    "    validation_split=0.3,\n",
    "    shuffle=False,\n",
    "    batch_size=24,\n",
    "    epochs=20,\n",
    "    callbacks=[es], #, reduce_lr],   # Add both callbacks to the list\n",
    "    verbose=1\n",
    ")"
   ]
  },
  {
   "cell_type": "markdown",
   "metadata": {},
   "source": [
    "## Plot history"
   ]
  },
  {
   "cell_type": "code",
   "execution_count": null,
   "metadata": {},
   "outputs": [],
   "source": [
    "def plot_history(history, metric):\n",
    "    \n",
    "    fig, ax = plt.subplots(1,2, figsize=(20,7))\n",
    "    # --- LOSS: binary_crossentropy --- \n",
    "    ax[0].plot(history.history['loss'])\n",
    "    ax[0].plot(history.history['val_loss'])\n",
    "    ax[0].set_title('binary_crossentropy')\n",
    "    ax[0].set_ylabel('Loss')\n",
    "    ax[0].set_xlabel('Epoch')\n",
    "    ax[0].legend(['Train', 'Validation'], loc='best')\n",
    "    ax[0].grid(axis=\"x\",linewidth=0.5)\n",
    "    ax[0].grid(axis=\"y\",linewidth=0.5)\n",
    "    \n",
    "    # --- METRICS:accuracy ---\n",
    "    \n",
    "    ax[1].plot(history.history[metric])\n",
    "    ax[1].plot(history.history['val_'+metric])\n",
    "    ax[1].set_title(metric)\n",
    "    ax[1].set_ylabel(metric)\n",
    "    ax[1].set_xlabel('Epoch')\n",
    "    ax[1].legend(['Train', 'Validation'], loc='best')\n",
    "    ax[1].grid(axis=\"x\",linewidth=0.5)\n",
    "    ax[1].grid(axis=\"y\",linewidth=0.5)\n",
    "                        \n",
    "    return ax"
   ]
  },
  {
   "cell_type": "code",
   "execution_count": null,
   "metadata": {},
   "outputs": [],
   "source": [
    "history.history.keys()"
   ]
  },
  {
   "cell_type": "code",
   "execution_count": null,
   "metadata": {},
   "outputs": [],
   "source": [
    "plot_history(history, 'precision')"
   ]
  },
  {
   "cell_type": "code",
   "execution_count": null,
   "metadata": {},
   "outputs": [],
   "source": []
  }
 ],
 "metadata": {
  "kernelspec": {
   "display_name": "fishing_classification",
   "language": "python",
   "name": "python3"
  },
  "language_info": {
   "codemirror_mode": {
    "name": "ipython",
    "version": 3
   },
   "file_extension": ".py",
   "mimetype": "text/x-python",
   "name": "python",
   "nbconvert_exporter": "python",
   "pygments_lexer": "ipython3",
   "version": "3.10.6"
  },
  "orig_nbformat": 4
 },
 "nbformat": 4,
 "nbformat_minor": 2
}
