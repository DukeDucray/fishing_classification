{
 "cells": [
  {
   "cell_type": "code",
   "execution_count": 1,
   "metadata": {},
   "outputs": [],
   "source": [
    "import pandas as pd\n",
    "import numpy as np\n",
    "import geopandas as gpd\n",
    "import matplotlib.pyplot as plt\n",
    "import tensorflow as tf\n",
    "\n",
    "from sklearn.model_selection import train_test_split\n",
    "from tensorflow.keras.callbacks import EarlyStopping\n",
    "from shapely.geometry import Point\n",
    "from tensorflow.keras import models\n",
    "from tensorflow.keras import layers\n",
    "from tensorflow.keras import optimizers, metrics\n",
    "from tensorflow.keras import regularizers\n",
    "from tensorflow.keras.layers.experimental.preprocessing import Normalization\n",
    "from tensorflow.keras.layers import BatchNormalization\n",
    "from tensorflow.keras.preprocessing.sequence import pad_sequences\n",
    "from tensorflow.keras.layers import Normalization\n",
    "from tensorflow.keras.models import Sequential\n",
    "from tensorflow.keras.layers import Dense, SimpleRNN, Flatten\n",
    "from tensorflow.keras import layers\n",
    "\n",
    "import warnings\n",
    "warnings.filterwarnings('ignore')\n",
    "\n",
    "%matplotlib inline"
   ]
  },
  {
   "cell_type": "code",
   "execution_count": 2,
   "metadata": {},
   "outputs": [
    {
     "data": {
      "text/html": [
       "<div>\n",
       "<style scoped>\n",
       "    .dataframe tbody tr th:only-of-type {\n",
       "        vertical-align: middle;\n",
       "    }\n",
       "\n",
       "    .dataframe tbody tr th {\n",
       "        vertical-align: top;\n",
       "    }\n",
       "\n",
       "    .dataframe thead th {\n",
       "        text-align: right;\n",
       "    }\n",
       "</style>\n",
       "<table border=\"1\" class=\"dataframe\">\n",
       "  <thead>\n",
       "    <tr style=\"text-align: right;\">\n",
       "      <th></th>\n",
       "      <th>mmsi</th>\n",
       "      <th>timestamp</th>\n",
       "      <th>distance_from_shore</th>\n",
       "      <th>distance_from_port</th>\n",
       "      <th>speed</th>\n",
       "      <th>course</th>\n",
       "      <th>lat</th>\n",
       "      <th>lon</th>\n",
       "    </tr>\n",
       "  </thead>\n",
       "  <tbody>\n",
       "    <tr>\n",
       "      <th>0</th>\n",
       "      <td>1.252340e+12</td>\n",
       "      <td>1.325376e+09</td>\n",
       "      <td>0.0</td>\n",
       "      <td>0.0</td>\n",
       "      <td>0.0</td>\n",
       "      <td>153.0</td>\n",
       "      <td>52.458649</td>\n",
       "      <td>4.581200</td>\n",
       "    </tr>\n",
       "    <tr>\n",
       "      <th>1</th>\n",
       "      <td>1.252340e+12</td>\n",
       "      <td>1.325378e+09</td>\n",
       "      <td>0.0</td>\n",
       "      <td>0.0</td>\n",
       "      <td>0.0</td>\n",
       "      <td>153.0</td>\n",
       "      <td>52.458668</td>\n",
       "      <td>4.581167</td>\n",
       "    </tr>\n",
       "    <tr>\n",
       "      <th>2</th>\n",
       "      <td>1.252340e+12</td>\n",
       "      <td>1.325379e+09</td>\n",
       "      <td>0.0</td>\n",
       "      <td>0.0</td>\n",
       "      <td>0.0</td>\n",
       "      <td>153.0</td>\n",
       "      <td>52.458633</td>\n",
       "      <td>4.581183</td>\n",
       "    </tr>\n",
       "  </tbody>\n",
       "</table>\n",
       "</div>"
      ],
      "text/plain": [
       "           mmsi     timestamp  distance_from_shore  distance_from_port  speed  \\\n",
       "0  1.252340e+12  1.325376e+09                  0.0                 0.0    0.0   \n",
       "1  1.252340e+12  1.325378e+09                  0.0                 0.0    0.0   \n",
       "2  1.252340e+12  1.325379e+09                  0.0                 0.0    0.0   \n",
       "\n",
       "   course        lat       lon  \n",
       "0   153.0  52.458649  4.581200  \n",
       "1   153.0  52.458668  4.581167  \n",
       "2   153.0  52.458633  4.581183  "
      ]
     },
     "execution_count": 2,
     "metadata": {},
     "output_type": "execute_result"
    }
   ],
   "source": [
    "path = 'data/preprocessed'\n",
    "file_name = 'combined_only'\n",
    "df = pd.read_csv(f'../{path}/{file_name}.csv')\n",
    "df.head(3)"
   ]
  },
  {
   "cell_type": "code",
   "execution_count": 3,
   "metadata": {},
   "outputs": [
    {
     "data": {
      "text/plain": [
       "(354, (28581398, 8))"
      ]
     },
     "execution_count": 3,
     "metadata": {},
     "output_type": "execute_result"
    }
   ],
   "source": [
    "df['mmsi'].value_counts().count(), df.shape"
   ]
  },
  {
   "cell_type": "markdown",
   "metadata": {},
   "source": [
    "## Keep small sample"
   ]
  },
  {
   "cell_type": "code",
   "execution_count": 4,
   "metadata": {},
   "outputs": [
    {
     "data": {
      "text/plain": [
       "(1000000, 8)"
      ]
     },
     "execution_count": 4,
     "metadata": {},
     "output_type": "execute_result"
    }
   ],
   "source": [
    "sample_size = 1000000 \n",
    "\n",
    "start_index = 0  \n",
    "\n",
    "# Create a smaller sequential subset\n",
    "data = df.iloc[-sample_size:]\n",
    "\n",
    "data.shape"
   ]
  },
  {
   "cell_type": "markdown",
   "metadata": {},
   "source": [
    "# Recurrent Neural Network setup"
   ]
  },
  {
   "cell_type": "markdown",
   "metadata": {},
   "source": [
    "## Data prep"
   ]
  },
  {
   "cell_type": "code",
   "execution_count": 5,
   "metadata": {},
   "outputs": [
    {
     "name": "stdout",
     "output_type": "stream",
     "text": [
      "Total number of vessels in our small dataset:  21\n"
     ]
    }
   ],
   "source": [
    "number_vessel=data['mmsi'].value_counts().count()\n",
    "print('Total number of vessels in our small dataset: ', number_vessel)"
   ]
  },
  {
   "cell_type": "markdown",
   "metadata": {},
   "source": [
    "### Split data by vessels"
   ]
  },
  {
   "cell_type": "code",
   "execution_count": 6,
   "metadata": {},
   "outputs": [
    {
     "data": {
      "text/html": [
       "<div>\n",
       "<style scoped>\n",
       "    .dataframe tbody tr th:only-of-type {\n",
       "        vertical-align: middle;\n",
       "    }\n",
       "\n",
       "    .dataframe tbody tr th {\n",
       "        vertical-align: top;\n",
       "    }\n",
       "\n",
       "    .dataframe thead th {\n",
       "        text-align: right;\n",
       "    }\n",
       "</style>\n",
       "<table border=\"1\" class=\"dataframe\">\n",
       "  <thead>\n",
       "    <tr style=\"text-align: right;\">\n",
       "      <th></th>\n",
       "      <th>mmsi</th>\n",
       "      <th>timestamp</th>\n",
       "      <th>distance_from_shore</th>\n",
       "      <th>distance_from_port</th>\n",
       "      <th>speed</th>\n",
       "      <th>course</th>\n",
       "      <th>lat</th>\n",
       "      <th>lon</th>\n",
       "    </tr>\n",
       "  </thead>\n",
       "  <tbody>\n",
       "    <tr>\n",
       "      <th>27581398</th>\n",
       "      <td>1.337471e+14</td>\n",
       "      <td>1.457563e+09</td>\n",
       "      <td>11661.617188</td>\n",
       "      <td>38469.824219</td>\n",
       "      <td>8.0</td>\n",
       "      <td>333.200012</td>\n",
       "      <td>43.281300</td>\n",
       "      <td>16.269434</td>\n",
       "    </tr>\n",
       "    <tr>\n",
       "      <th>27581399</th>\n",
       "      <td>1.337471e+14</td>\n",
       "      <td>1.457564e+09</td>\n",
       "      <td>11401.474609</td>\n",
       "      <td>38274.378906</td>\n",
       "      <td>8.6</td>\n",
       "      <td>285.500000</td>\n",
       "      <td>43.293980</td>\n",
       "      <td>16.247747</td>\n",
       "    </tr>\n",
       "    <tr>\n",
       "      <th>27581400</th>\n",
       "      <td>1.337471e+14</td>\n",
       "      <td>1.457564e+09</td>\n",
       "      <td>12648.800781</td>\n",
       "      <td>39407.152344</td>\n",
       "      <td>8.5</td>\n",
       "      <td>314.200012</td>\n",
       "      <td>43.295353</td>\n",
       "      <td>16.228584</td>\n",
       "    </tr>\n",
       "    <tr>\n",
       "      <th>27581401</th>\n",
       "      <td>1.337471e+14</td>\n",
       "      <td>1.457565e+09</td>\n",
       "      <td>9486.599609</td>\n",
       "      <td>37535.726562</td>\n",
       "      <td>8.4</td>\n",
       "      <td>321.500000</td>\n",
       "      <td>43.317936</td>\n",
       "      <td>16.205826</td>\n",
       "    </tr>\n",
       "    <tr>\n",
       "      <th>27581402</th>\n",
       "      <td>1.337471e+14</td>\n",
       "      <td>1.457565e+09</td>\n",
       "      <td>8944.052734</td>\n",
       "      <td>37482.410156</td>\n",
       "      <td>8.4</td>\n",
       "      <td>320.700012</td>\n",
       "      <td>43.323536</td>\n",
       "      <td>16.198494</td>\n",
       "    </tr>\n",
       "  </tbody>\n",
       "</table>\n",
       "</div>"
      ],
      "text/plain": [
       "                  mmsi     timestamp  distance_from_shore  distance_from_port  \\\n",
       "27581398  1.337471e+14  1.457563e+09         11661.617188        38469.824219   \n",
       "27581399  1.337471e+14  1.457564e+09         11401.474609        38274.378906   \n",
       "27581400  1.337471e+14  1.457564e+09         12648.800781        39407.152344   \n",
       "27581401  1.337471e+14  1.457565e+09          9486.599609        37535.726562   \n",
       "27581402  1.337471e+14  1.457565e+09          8944.052734        37482.410156   \n",
       "\n",
       "          speed      course        lat        lon  \n",
       "27581398    8.0  333.200012  43.281300  16.269434  \n",
       "27581399    8.6  285.500000  43.293980  16.247747  \n",
       "27581400    8.5  314.200012  43.295353  16.228584  \n",
       "27581401    8.4  321.500000  43.317936  16.205826  \n",
       "27581402    8.4  320.700012  43.323536  16.198494  "
      ]
     },
     "execution_count": 6,
     "metadata": {},
     "output_type": "execute_result"
    }
   ],
   "source": [
    "data.head()"
   ]
  },
  {
   "cell_type": "code",
   "execution_count": 7,
   "metadata": {},
   "outputs": [],
   "source": [
    "X = data.drop(columns=['timestamp', 'lat', 'lon'])\n",
    "y = data[['mmsi', 'lat', 'lon']]"
   ]
  },
  {
   "cell_type": "code",
   "execution_count": 8,
   "metadata": {},
   "outputs": [
    {
     "data": {
      "text/html": [
       "<div>\n",
       "<style scoped>\n",
       "    .dataframe tbody tr th:only-of-type {\n",
       "        vertical-align: middle;\n",
       "    }\n",
       "\n",
       "    .dataframe tbody tr th {\n",
       "        vertical-align: top;\n",
       "    }\n",
       "\n",
       "    .dataframe thead th {\n",
       "        text-align: right;\n",
       "    }\n",
       "</style>\n",
       "<table border=\"1\" class=\"dataframe\">\n",
       "  <thead>\n",
       "    <tr style=\"text-align: right;\">\n",
       "      <th></th>\n",
       "      <th>mmsi</th>\n",
       "      <th>lat</th>\n",
       "      <th>lon</th>\n",
       "    </tr>\n",
       "  </thead>\n",
       "  <tbody>\n",
       "    <tr>\n",
       "      <th>27581398</th>\n",
       "      <td>1.337471e+14</td>\n",
       "      <td>43.28130</td>\n",
       "      <td>16.269434</td>\n",
       "    </tr>\n",
       "    <tr>\n",
       "      <th>27581399</th>\n",
       "      <td>1.337471e+14</td>\n",
       "      <td>43.29398</td>\n",
       "      <td>16.247747</td>\n",
       "    </tr>\n",
       "  </tbody>\n",
       "</table>\n",
       "</div>"
      ],
      "text/plain": [
       "                  mmsi       lat        lon\n",
       "27581398  1.337471e+14  43.28130  16.269434\n",
       "27581399  1.337471e+14  43.29398  16.247747"
      ]
     },
     "execution_count": 8,
     "metadata": {},
     "output_type": "execute_result"
    }
   ],
   "source": [
    "y.head(2)"
   ]
  },
  {
   "cell_type": "code",
   "execution_count": 9,
   "metadata": {},
   "outputs": [],
   "source": [
    "grouped_X = X.groupby('mmsi')\n",
    "\n",
    "# List to store the NumPy arrays for each group\n",
    "X_group_arrays = []\n",
    "\n",
    "# Iterate through each group and store the data as a NumPy array\n",
    "for mmsi_value, group_df in grouped_X:\n",
    "    # 'group_df' contains the subset of data for the current 'mmsi' group\n",
    "    # Convert the relevant columns to a NumPy array and append it to the list\n",
    "    X_group_array = group_df.values\n",
    "    X_group_arrays.append(X_group_array)\n",
    "    \n",
    "assert(len(X_group_arrays) == number_vessel)"
   ]
  },
  {
   "cell_type": "code",
   "execution_count": 10,
   "metadata": {},
   "outputs": [],
   "source": [
    "grouped_y = y.groupby('mmsi')\n",
    "\n",
    "# List to store the NumPy arrays for each group\n",
    "y_group_arrays = []\n",
    "\n",
    "# Iterate through each group and store the data as a NumPy array\n",
    "for mmsi_value, group_df in grouped_y:\n",
    "    # 'group_df' contains the subset of data for the current 'mmsi' group\n",
    "    # Convert the relevant columns to a NumPy array and append it to the list\n",
    "    y_group_array = group_df.drop('mmsi', axis=1).values\n",
    "    y_group_arrays.append(y_group_arrays)\n",
    "\n",
    "assert(len(y_group_arrays) == number_vessel)"
   ]
  },
  {
   "cell_type": "markdown",
   "metadata": {},
   "source": [
    "### Padding"
   ]
  },
  {
   "cell_type": "code",
   "execution_count": 12,
   "metadata": {},
   "outputs": [
    {
     "name": "stdout",
     "output_type": "stream",
     "text": [
      "X_train_pad shape:  (21, 227003, 5)\n"
     ]
    }
   ],
   "source": [
    "X_pad = pad_sequences(X_group_arrays, dtype='float32', padding='post', value=-1000)\n",
    "print('X_train_pad shape: ',X_pad.shape)"
   ]
  },
  {
   "cell_type": "code",
   "execution_count": 13,
   "metadata": {},
   "outputs": [
    {
     "data": {
      "text/html": [
       "<div>\n",
       "<style scoped>\n",
       "    .dataframe tbody tr th:only-of-type {\n",
       "        vertical-align: middle;\n",
       "    }\n",
       "\n",
       "    .dataframe tbody tr th {\n",
       "        vertical-align: top;\n",
       "    }\n",
       "\n",
       "    .dataframe thead th {\n",
       "        text-align: right;\n",
       "    }\n",
       "</style>\n",
       "<table border=\"1\" class=\"dataframe\">\n",
       "  <thead>\n",
       "    <tr style=\"text-align: right;\">\n",
       "      <th></th>\n",
       "      <th>0</th>\n",
       "      <th>1</th>\n",
       "      <th>2</th>\n",
       "      <th>3</th>\n",
       "      <th>4</th>\n",
       "    </tr>\n",
       "  </thead>\n",
       "  <tbody>\n",
       "    <tr>\n",
       "      <th>0</th>\n",
       "      <td>1.337472e+14</td>\n",
       "      <td>11661.617188</td>\n",
       "      <td>38469.824219</td>\n",
       "      <td>8.0</td>\n",
       "      <td>333.200012</td>\n",
       "    </tr>\n",
       "    <tr>\n",
       "      <th>1</th>\n",
       "      <td>1.337472e+14</td>\n",
       "      <td>11401.474609</td>\n",
       "      <td>38274.378906</td>\n",
       "      <td>8.6</td>\n",
       "      <td>285.500000</td>\n",
       "    </tr>\n",
       "    <tr>\n",
       "      <th>2</th>\n",
       "      <td>1.337472e+14</td>\n",
       "      <td>12648.800781</td>\n",
       "      <td>39407.152344</td>\n",
       "      <td>8.5</td>\n",
       "      <td>314.200012</td>\n",
       "    </tr>\n",
       "    <tr>\n",
       "      <th>3</th>\n",
       "      <td>1.337472e+14</td>\n",
       "      <td>9486.599609</td>\n",
       "      <td>37535.726562</td>\n",
       "      <td>8.4</td>\n",
       "      <td>321.500000</td>\n",
       "    </tr>\n",
       "    <tr>\n",
       "      <th>4</th>\n",
       "      <td>1.337472e+14</td>\n",
       "      <td>8944.052734</td>\n",
       "      <td>37482.410156</td>\n",
       "      <td>8.4</td>\n",
       "      <td>320.700012</td>\n",
       "    </tr>\n",
       "    <tr>\n",
       "      <th>...</th>\n",
       "      <td>...</td>\n",
       "      <td>...</td>\n",
       "      <td>...</td>\n",
       "      <td>...</td>\n",
       "      <td>...</td>\n",
       "    </tr>\n",
       "    <tr>\n",
       "      <th>226998</th>\n",
       "      <td>-1.000000e+03</td>\n",
       "      <td>-1000.000000</td>\n",
       "      <td>-1000.000000</td>\n",
       "      <td>-1000.0</td>\n",
       "      <td>-1000.000000</td>\n",
       "    </tr>\n",
       "    <tr>\n",
       "      <th>226999</th>\n",
       "      <td>-1.000000e+03</td>\n",
       "      <td>-1000.000000</td>\n",
       "      <td>-1000.000000</td>\n",
       "      <td>-1000.0</td>\n",
       "      <td>-1000.000000</td>\n",
       "    </tr>\n",
       "    <tr>\n",
       "      <th>227000</th>\n",
       "      <td>-1.000000e+03</td>\n",
       "      <td>-1000.000000</td>\n",
       "      <td>-1000.000000</td>\n",
       "      <td>-1000.0</td>\n",
       "      <td>-1000.000000</td>\n",
       "    </tr>\n",
       "    <tr>\n",
       "      <th>227001</th>\n",
       "      <td>-1.000000e+03</td>\n",
       "      <td>-1000.000000</td>\n",
       "      <td>-1000.000000</td>\n",
       "      <td>-1000.0</td>\n",
       "      <td>-1000.000000</td>\n",
       "    </tr>\n",
       "    <tr>\n",
       "      <th>227002</th>\n",
       "      <td>-1.000000e+03</td>\n",
       "      <td>-1000.000000</td>\n",
       "      <td>-1000.000000</td>\n",
       "      <td>-1000.0</td>\n",
       "      <td>-1000.000000</td>\n",
       "    </tr>\n",
       "  </tbody>\n",
       "</table>\n",
       "<p>227003 rows × 5 columns</p>\n",
       "</div>"
      ],
      "text/plain": [
       "                   0             1             2       3            4\n",
       "0       1.337472e+14  11661.617188  38469.824219     8.0   333.200012\n",
       "1       1.337472e+14  11401.474609  38274.378906     8.6   285.500000\n",
       "2       1.337472e+14  12648.800781  39407.152344     8.5   314.200012\n",
       "3       1.337472e+14   9486.599609  37535.726562     8.4   321.500000\n",
       "4       1.337472e+14   8944.052734  37482.410156     8.4   320.700012\n",
       "...              ...           ...           ...     ...          ...\n",
       "226998 -1.000000e+03  -1000.000000  -1000.000000 -1000.0 -1000.000000\n",
       "226999 -1.000000e+03  -1000.000000  -1000.000000 -1000.0 -1000.000000\n",
       "227000 -1.000000e+03  -1000.000000  -1000.000000 -1000.0 -1000.000000\n",
       "227001 -1.000000e+03  -1000.000000  -1000.000000 -1000.0 -1000.000000\n",
       "227002 -1.000000e+03  -1000.000000  -1000.000000 -1000.0 -1000.000000\n",
       "\n",
       "[227003 rows x 5 columns]"
      ]
     },
     "execution_count": 13,
     "metadata": {},
     "output_type": "execute_result"
    }
   ],
   "source": [
    "pd.DataFrame(X_pad[0])"
   ]
  },
  {
   "cell_type": "markdown",
   "metadata": {},
   "source": [
    "### Split train / test"
   ]
  },
  {
   "cell_type": "code",
   "execution_count": 14,
   "metadata": {},
   "outputs": [
    {
     "name": "stdout",
     "output_type": "stream",
     "text": [
      "(14, 227003, 5)\n",
      "(7, 227003, 5)\n"
     ]
    }
   ],
   "source": [
    "X_train, X_test, y_train, y_test = train_test_split(X_pad, y_group_arrays, test_size=0.3, shuffle=False)\n",
    "print(X_train.shape)\n",
    "print(X_test.shape)"
   ]
  },
  {
   "cell_type": "code",
   "execution_count": 25,
   "metadata": {},
   "outputs": [],
   "source": [
    "# Create an RNN model\n",
    "model = Sequential()\n",
    "model.add(layers.Masking(mask_value=-1000, input_shape=(X_train.shape[1], X_train.shape[2])))\n",
    "model.add(layers.LSTM(64, activation='relu'))\n",
    "model.add(layers.Dense(2))  # Two outputs: latitude and longitude"
   ]
  },
  {
   "cell_type": "code",
   "execution_count": 26,
   "metadata": {},
   "outputs": [
    {
     "name": "stdout",
     "output_type": "stream",
     "text": [
      "Model: \"sequential_4\"\n",
      "_________________________________________________________________\n",
      " Layer (type)                Output Shape              Param #   \n",
      "=================================================================\n",
      " masking (Masking)           (None, 227003, 5)         0         \n",
      "                                                                 \n",
      " lstm_3 (LSTM)               (None, 64)                17920     \n",
      "                                                                 \n",
      " dense_5 (Dense)             (None, 2)                 130       \n",
      "                                                                 \n",
      "=================================================================\n",
      "Total params: 18,050\n",
      "Trainable params: 18,050\n",
      "Non-trainable params: 0\n",
      "_________________________________________________________________\n"
     ]
    }
   ],
   "source": [
    "model.summary()"
   ]
  },
  {
   "cell_type": "code",
   "execution_count": 28,
   "metadata": {},
   "outputs": [
    {
     "ename": "RecursionError",
     "evalue": "maximum recursion depth exceeded in __instancecheck__",
     "output_type": "error",
     "traceback": [
      "\u001b[0;31m---------------------------------------------------------------------------\u001b[0m",
      "\u001b[0;31mRecursionError\u001b[0m                            Traceback (most recent call last)",
      "Cell \u001b[0;32mIn[28], line 5\u001b[0m\n\u001b[1;32m      2\u001b[0m model\u001b[39m.\u001b[39mcompile(optimizer\u001b[39m=\u001b[39m\u001b[39m'\u001b[39m\u001b[39madam\u001b[39m\u001b[39m'\u001b[39m, loss\u001b[39m=\u001b[39m\u001b[39m'\u001b[39m\u001b[39mmean_squared_error\u001b[39m\u001b[39m'\u001b[39m)\n\u001b[1;32m      4\u001b[0m \u001b[39m# Train the model\u001b[39;00m\n\u001b[0;32m----> 5\u001b[0m model\u001b[39m.\u001b[39;49mfit(X_train, y_train, epochs\u001b[39m=\u001b[39;49m\u001b[39m3\u001b[39;49m)\n\u001b[1;32m      7\u001b[0m \u001b[39m# Evaluate the model\u001b[39;00m\n\u001b[1;32m      8\u001b[0m loss \u001b[39m=\u001b[39m model\u001b[39m.\u001b[39mevaluate(X_test, y_test)\n",
      "File \u001b[0;32m~/.pyenv/versions/3.10.6/envs/fishing_classification/lib/python3.10/site-packages/keras/utils/traceback_utils.py:70\u001b[0m, in \u001b[0;36mfilter_traceback.<locals>.error_handler\u001b[0;34m(*args, **kwargs)\u001b[0m\n\u001b[1;32m     67\u001b[0m     filtered_tb \u001b[39m=\u001b[39m _process_traceback_frames(e\u001b[39m.\u001b[39m__traceback__)\n\u001b[1;32m     68\u001b[0m     \u001b[39m# To get the full stack trace, call:\u001b[39;00m\n\u001b[1;32m     69\u001b[0m     \u001b[39m# `tf.debugging.disable_traceback_filtering()`\u001b[39;00m\n\u001b[0;32m---> 70\u001b[0m     \u001b[39mraise\u001b[39;00m e\u001b[39m.\u001b[39mwith_traceback(filtered_tb) \u001b[39mfrom\u001b[39;00m \u001b[39mNone\u001b[39;00m\n\u001b[1;32m     71\u001b[0m \u001b[39mfinally\u001b[39;00m:\n\u001b[1;32m     72\u001b[0m     \u001b[39mdel\u001b[39;00m filtered_tb\n",
      "File \u001b[0;32m~/.pyenv/versions/3.10.6/envs/fishing_classification/lib/python3.10/site-packages/keras/engine/data_adapter.py:690\u001b[0m, in \u001b[0;36mListsOfScalarsDataAdapter._is_list_of_scalars\u001b[0;34m(inp)\u001b[0m\n\u001b[1;32m    688\u001b[0m \u001b[39m@staticmethod\u001b[39m\n\u001b[1;32m    689\u001b[0m \u001b[39mdef\u001b[39;00m \u001b[39m_is_list_of_scalars\u001b[39m(inp):\n\u001b[0;32m--> 690\u001b[0m     \u001b[39mif\u001b[39;00m \u001b[39misinstance\u001b[39;49m(inp, (\u001b[39mfloat\u001b[39;49m, \u001b[39mint\u001b[39;49m, \u001b[39mstr\u001b[39;49m, \u001b[39mbytes\u001b[39;49m, \u001b[39mbytearray\u001b[39;49m)):\n\u001b[1;32m    691\u001b[0m         \u001b[39mreturn\u001b[39;00m \u001b[39mTrue\u001b[39;00m\n\u001b[1;32m    692\u001b[0m     \u001b[39mif\u001b[39;00m \u001b[39misinstance\u001b[39m(inp, (\u001b[39mlist\u001b[39m, \u001b[39mtuple\u001b[39m)) \u001b[39mand\u001b[39;00m inp:\n",
      "\u001b[0;31mRecursionError\u001b[0m: maximum recursion depth exceeded in __instancecheck__"
     ]
    }
   ],
   "source": [
    "# Compile the model\n",
    "model.compile(optimizer='adam', loss='mean_squared_error')\n",
    "\n",
    "# Train the model\n",
    "model.fit(X_train, y_train, epochs=3)\n",
    "\n",
    "# Evaluate the model\n",
    "loss = model.evaluate(X_test, y_test)\n",
    "\n",
    "# Make predictions\n",
    "predictions = model.predict(X_test)"
   ]
  },
  {
   "cell_type": "code",
   "execution_count": null,
   "metadata": {},
   "outputs": [],
   "source": []
  }
 ],
 "metadata": {
  "kernelspec": {
   "display_name": "fishing_classification",
   "language": "python",
   "name": "python3"
  },
  "language_info": {
   "codemirror_mode": {
    "name": "ipython",
    "version": 3
   },
   "file_extension": ".py",
   "mimetype": "text/x-python",
   "name": "python",
   "nbconvert_exporter": "python",
   "pygments_lexer": "ipython3",
   "version": "3.10.6"
  },
  "orig_nbformat": 4
 },
 "nbformat": 4,
 "nbformat_minor": 2
}
