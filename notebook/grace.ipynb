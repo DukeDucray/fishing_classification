{
 "cells": [
  {
   "cell_type": "code",
   "execution_count": 4,
   "metadata": {},
   "outputs": [],
   "source": [
    "import os\n",
    "import requests\n",
    "import pandas as pd"
   ]
  },
  {
   "cell_type": "code",
   "execution_count": 5,
   "metadata": {},
   "outputs": [
    {
     "data": {
      "text/plain": [
       "(4369101, 10)"
      ]
     },
     "execution_count": 5,
     "metadata": {},
     "output_type": "execute_result"
    }
   ],
   "source": [
    "trawlers = pd.read_csv('../raw_data/trawlers.csv')\n",
    "trawlers.shape"
   ]
  },
  {
   "cell_type": "code",
   "execution_count": 6,
   "metadata": {},
   "outputs": [
    {
     "data": {
      "text/html": [
       "<div>\n",
       "<style scoped>\n",
       "    .dataframe tbody tr th:only-of-type {\n",
       "        vertical-align: middle;\n",
       "    }\n",
       "\n",
       "    .dataframe tbody tr th {\n",
       "        vertical-align: top;\n",
       "    }\n",
       "\n",
       "    .dataframe thead th {\n",
       "        text-align: right;\n",
       "    }\n",
       "</style>\n",
       "<table border=\"1\" class=\"dataframe\">\n",
       "  <thead>\n",
       "    <tr style=\"text-align: right;\">\n",
       "      <th></th>\n",
       "      <th>mmsi</th>\n",
       "      <th>timestamp</th>\n",
       "      <th>distance_from_shore</th>\n",
       "      <th>distance_from_port</th>\n",
       "      <th>speed</th>\n",
       "      <th>course</th>\n",
       "      <th>lat</th>\n",
       "      <th>lon</th>\n",
       "      <th>is_fishing</th>\n",
       "      <th>source</th>\n",
       "    </tr>\n",
       "  </thead>\n",
       "  <tbody>\n",
       "    <tr>\n",
       "      <th>0</th>\n",
       "      <td>1.252340e+12</td>\n",
       "      <td>1.325376e+09</td>\n",
       "      <td>0.0</td>\n",
       "      <td>0.0</td>\n",
       "      <td>0.0</td>\n",
       "      <td>153.0</td>\n",
       "      <td>52.458649</td>\n",
       "      <td>4.581200</td>\n",
       "      <td>-1.0</td>\n",
       "      <td>gfw</td>\n",
       "    </tr>\n",
       "    <tr>\n",
       "      <th>1</th>\n",
       "      <td>1.252340e+12</td>\n",
       "      <td>1.325378e+09</td>\n",
       "      <td>0.0</td>\n",
       "      <td>0.0</td>\n",
       "      <td>0.0</td>\n",
       "      <td>153.0</td>\n",
       "      <td>52.458668</td>\n",
       "      <td>4.581167</td>\n",
       "      <td>-1.0</td>\n",
       "      <td>gfw</td>\n",
       "    </tr>\n",
       "    <tr>\n",
       "      <th>2</th>\n",
       "      <td>1.252340e+12</td>\n",
       "      <td>1.325379e+09</td>\n",
       "      <td>0.0</td>\n",
       "      <td>0.0</td>\n",
       "      <td>0.0</td>\n",
       "      <td>153.0</td>\n",
       "      <td>52.458633</td>\n",
       "      <td>4.581183</td>\n",
       "      <td>-1.0</td>\n",
       "      <td>gfw</td>\n",
       "    </tr>\n",
       "  </tbody>\n",
       "</table>\n",
       "</div>"
      ],
      "text/plain": [
       "           mmsi     timestamp  distance_from_shore  distance_from_port  speed  \\\n",
       "0  1.252340e+12  1.325376e+09                  0.0                 0.0    0.0   \n",
       "1  1.252340e+12  1.325378e+09                  0.0                 0.0    0.0   \n",
       "2  1.252340e+12  1.325379e+09                  0.0                 0.0    0.0   \n",
       "\n",
       "   course        lat       lon  is_fishing source  \n",
       "0   153.0  52.458649  4.581200        -1.0    gfw  \n",
       "1   153.0  52.458668  4.581167        -1.0    gfw  \n",
       "2   153.0  52.458633  4.581183        -1.0    gfw  "
      ]
     },
     "execution_count": 6,
     "metadata": {},
     "output_type": "execute_result"
    }
   ],
   "source": [
    "trawlers.head(3)"
   ]
  },
  {
   "cell_type": "code",
   "execution_count": 7,
   "metadata": {},
   "outputs": [],
   "source": [
    "trawlers['type']='trawlers'"
   ]
  },
  {
   "cell_type": "code",
   "execution_count": 8,
   "metadata": {},
   "outputs": [
    {
     "data": {
      "text/plain": [
       "(13968727, 10)"
      ]
     },
     "execution_count": 8,
     "metadata": {},
     "output_type": "execute_result"
    }
   ],
   "source": [
    "longlines = pd.read_csv('../raw_data/drifting_longlines.csv')\n",
    "longlines.shape"
   ]
  },
  {
   "cell_type": "code",
   "execution_count": 9,
   "metadata": {},
   "outputs": [
    {
     "data": {
      "text/html": [
       "<div>\n",
       "<style scoped>\n",
       "    .dataframe tbody tr th:only-of-type {\n",
       "        vertical-align: middle;\n",
       "    }\n",
       "\n",
       "    .dataframe tbody tr th {\n",
       "        vertical-align: top;\n",
       "    }\n",
       "\n",
       "    .dataframe thead th {\n",
       "        text-align: right;\n",
       "    }\n",
       "</style>\n",
       "<table border=\"1\" class=\"dataframe\">\n",
       "  <thead>\n",
       "    <tr style=\"text-align: right;\">\n",
       "      <th></th>\n",
       "      <th>mmsi</th>\n",
       "      <th>timestamp</th>\n",
       "      <th>distance_from_shore</th>\n",
       "      <th>distance_from_port</th>\n",
       "      <th>speed</th>\n",
       "      <th>course</th>\n",
       "      <th>lat</th>\n",
       "      <th>lon</th>\n",
       "      <th>is_fishing</th>\n",
       "      <th>source</th>\n",
       "    </tr>\n",
       "  </thead>\n",
       "  <tbody>\n",
       "    <tr>\n",
       "      <th>0</th>\n",
       "      <td>1.263956e+13</td>\n",
       "      <td>1.327137e+09</td>\n",
       "      <td>232994.281250</td>\n",
       "      <td>311748.65625</td>\n",
       "      <td>8.2</td>\n",
       "      <td>230.500000</td>\n",
       "      <td>14.865583</td>\n",
       "      <td>-26.853662</td>\n",
       "      <td>-1.0</td>\n",
       "      <td>dalhousie_longliner</td>\n",
       "    </tr>\n",
       "    <tr>\n",
       "      <th>1</th>\n",
       "      <td>1.263956e+13</td>\n",
       "      <td>1.327137e+09</td>\n",
       "      <td>233994.265625</td>\n",
       "      <td>312410.34375</td>\n",
       "      <td>7.3</td>\n",
       "      <td>238.399994</td>\n",
       "      <td>14.863870</td>\n",
       "      <td>-26.856800</td>\n",
       "      <td>-1.0</td>\n",
       "      <td>dalhousie_longliner</td>\n",
       "    </tr>\n",
       "    <tr>\n",
       "      <th>2</th>\n",
       "      <td>1.263956e+13</td>\n",
       "      <td>1.327137e+09</td>\n",
       "      <td>233994.265625</td>\n",
       "      <td>312410.34375</td>\n",
       "      <td>6.8</td>\n",
       "      <td>238.899994</td>\n",
       "      <td>14.861551</td>\n",
       "      <td>-26.860649</td>\n",
       "      <td>-1.0</td>\n",
       "      <td>dalhousie_longliner</td>\n",
       "    </tr>\n",
       "  </tbody>\n",
       "</table>\n",
       "</div>"
      ],
      "text/plain": [
       "           mmsi     timestamp  distance_from_shore  distance_from_port  speed  \\\n",
       "0  1.263956e+13  1.327137e+09        232994.281250        311748.65625    8.2   \n",
       "1  1.263956e+13  1.327137e+09        233994.265625        312410.34375    7.3   \n",
       "2  1.263956e+13  1.327137e+09        233994.265625        312410.34375    6.8   \n",
       "\n",
       "       course        lat        lon  is_fishing               source  \n",
       "0  230.500000  14.865583 -26.853662        -1.0  dalhousie_longliner  \n",
       "1  238.399994  14.863870 -26.856800        -1.0  dalhousie_longliner  \n",
       "2  238.899994  14.861551 -26.860649        -1.0  dalhousie_longliner  "
      ]
     },
     "execution_count": 9,
     "metadata": {},
     "output_type": "execute_result"
    }
   ],
   "source": [
    "longlines.head(3)"
   ]
  },
  {
   "cell_type": "code",
   "execution_count": 10,
   "metadata": {},
   "outputs": [
    {
     "data": {
      "text/plain": [
       "110"
      ]
     },
     "execution_count": 10,
     "metadata": {},
     "output_type": "execute_result"
    }
   ],
   "source": [
    "longlines['mmsi'].nunique()"
   ]
  },
  {
   "cell_type": "code",
   "execution_count": 11,
   "metadata": {},
   "outputs": [],
   "source": [
    "longlines['type']='longlines'"
   ]
  },
  {
   "cell_type": "code",
   "execution_count": 12,
   "metadata": {},
   "outputs": [
    {
     "data": {
      "text/plain": [
       "(1559137, 10)"
      ]
     },
     "execution_count": 12,
     "metadata": {},
     "output_type": "execute_result"
    }
   ],
   "source": [
    "gear = pd.read_csv('../raw_data/fixed_gear.csv')\n",
    "gear.shape"
   ]
  },
  {
   "cell_type": "code",
   "execution_count": 13,
   "metadata": {},
   "outputs": [
    {
     "data": {
      "text/html": [
       "<div>\n",
       "<style scoped>\n",
       "    .dataframe tbody tr th:only-of-type {\n",
       "        vertical-align: middle;\n",
       "    }\n",
       "\n",
       "    .dataframe tbody tr th {\n",
       "        vertical-align: top;\n",
       "    }\n",
       "\n",
       "    .dataframe thead th {\n",
       "        text-align: right;\n",
       "    }\n",
       "</style>\n",
       "<table border=\"1\" class=\"dataframe\">\n",
       "  <thead>\n",
       "    <tr style=\"text-align: right;\">\n",
       "      <th></th>\n",
       "      <th>mmsi</th>\n",
       "      <th>timestamp</th>\n",
       "      <th>distance_from_shore</th>\n",
       "      <th>distance_from_port</th>\n",
       "      <th>speed</th>\n",
       "      <th>course</th>\n",
       "      <th>lat</th>\n",
       "      <th>lon</th>\n",
       "      <th>is_fishing</th>\n",
       "      <th>source</th>\n",
       "    </tr>\n",
       "  </thead>\n",
       "  <tbody>\n",
       "    <tr>\n",
       "      <th>0</th>\n",
       "      <td>7.572519e+12</td>\n",
       "      <td>1.347664e+09</td>\n",
       "      <td>0.0</td>\n",
       "      <td>36054.625000</td>\n",
       "      <td>0.0</td>\n",
       "      <td>0.000000</td>\n",
       "      <td>42.798748</td>\n",
       "      <td>-8.944992</td>\n",
       "      <td>-1.0</td>\n",
       "      <td>gfw</td>\n",
       "    </tr>\n",
       "    <tr>\n",
       "      <th>1</th>\n",
       "      <td>7.572519e+12</td>\n",
       "      <td>1.348056e+09</td>\n",
       "      <td>0.0</td>\n",
       "      <td>36054.625000</td>\n",
       "      <td>0.0</td>\n",
       "      <td>0.000000</td>\n",
       "      <td>42.798717</td>\n",
       "      <td>-8.945075</td>\n",
       "      <td>-1.0</td>\n",
       "      <td>gfw</td>\n",
       "    </tr>\n",
       "    <tr>\n",
       "      <th>2</th>\n",
       "      <td>7.572519e+12</td>\n",
       "      <td>1.350409e+09</td>\n",
       "      <td>0.0</td>\n",
       "      <td>90970.296875</td>\n",
       "      <td>0.0</td>\n",
       "      <td>198.199997</td>\n",
       "      <td>43.106419</td>\n",
       "      <td>-9.215466</td>\n",
       "      <td>-1.0</td>\n",
       "      <td>gfw</td>\n",
       "    </tr>\n",
       "  </tbody>\n",
       "</table>\n",
       "</div>"
      ],
      "text/plain": [
       "           mmsi     timestamp  distance_from_shore  distance_from_port  speed  \\\n",
       "0  7.572519e+12  1.347664e+09                  0.0        36054.625000    0.0   \n",
       "1  7.572519e+12  1.348056e+09                  0.0        36054.625000    0.0   \n",
       "2  7.572519e+12  1.350409e+09                  0.0        90970.296875    0.0   \n",
       "\n",
       "       course        lat       lon  is_fishing source  \n",
       "0    0.000000  42.798748 -8.944992        -1.0    gfw  \n",
       "1    0.000000  42.798717 -8.945075        -1.0    gfw  \n",
       "2  198.199997  43.106419 -9.215466        -1.0    gfw  "
      ]
     },
     "execution_count": 13,
     "metadata": {},
     "output_type": "execute_result"
    }
   ],
   "source": [
    "gear.head(3)"
   ]
  },
  {
   "cell_type": "code",
   "execution_count": 14,
   "metadata": {},
   "outputs": [
    {
     "data": {
      "text/plain": [
       "36"
      ]
     },
     "execution_count": 14,
     "metadata": {},
     "output_type": "execute_result"
    }
   ],
   "source": [
    "gear['mmsi'].nunique()"
   ]
  },
  {
   "cell_type": "code",
   "execution_count": 15,
   "metadata": {},
   "outputs": [],
   "source": [
    "gear['type']='gear'"
   ]
  },
  {
   "cell_type": "code",
   "execution_count": 16,
   "metadata": {},
   "outputs": [
    {
     "data": {
      "text/plain": [
       "(161315, 10)"
      ]
     },
     "execution_count": 16,
     "metadata": {},
     "output_type": "execute_result"
    }
   ],
   "source": [
    "pole = pd.read_csv('../raw_data/pole_and_line.csv')\n",
    "pole.shape"
   ]
  },
  {
   "cell_type": "code",
   "execution_count": 17,
   "metadata": {},
   "outputs": [
    {
     "data": {
      "text/html": [
       "<div>\n",
       "<style scoped>\n",
       "    .dataframe tbody tr th:only-of-type {\n",
       "        vertical-align: middle;\n",
       "    }\n",
       "\n",
       "    .dataframe tbody tr th {\n",
       "        vertical-align: top;\n",
       "    }\n",
       "\n",
       "    .dataframe thead th {\n",
       "        text-align: right;\n",
       "    }\n",
       "</style>\n",
       "<table border=\"1\" class=\"dataframe\">\n",
       "  <thead>\n",
       "    <tr style=\"text-align: right;\">\n",
       "      <th></th>\n",
       "      <th>mmsi</th>\n",
       "      <th>timestamp</th>\n",
       "      <th>distance_from_shore</th>\n",
       "      <th>distance_from_port</th>\n",
       "      <th>speed</th>\n",
       "      <th>course</th>\n",
       "      <th>lat</th>\n",
       "      <th>lon</th>\n",
       "      <th>is_fishing</th>\n",
       "      <th>source</th>\n",
       "    </tr>\n",
       "  </thead>\n",
       "  <tbody>\n",
       "    <tr>\n",
       "      <th>0</th>\n",
       "      <td>1.848346e+13</td>\n",
       "      <td>1.340882e+09</td>\n",
       "      <td>0.0</td>\n",
       "      <td>2236.013184</td>\n",
       "      <td>0.0</td>\n",
       "      <td>0.000000</td>\n",
       "      <td>28.967354</td>\n",
       "      <td>-13.537797</td>\n",
       "      <td>-1.0</td>\n",
       "      <td>gfw</td>\n",
       "    </tr>\n",
       "    <tr>\n",
       "      <th>1</th>\n",
       "      <td>1.848346e+13</td>\n",
       "      <td>1.340884e+09</td>\n",
       "      <td>0.0</td>\n",
       "      <td>2236.013184</td>\n",
       "      <td>0.0</td>\n",
       "      <td>125.199997</td>\n",
       "      <td>28.967373</td>\n",
       "      <td>-13.537838</td>\n",
       "      <td>-1.0</td>\n",
       "      <td>gfw</td>\n",
       "    </tr>\n",
       "    <tr>\n",
       "      <th>2</th>\n",
       "      <td>1.848346e+13</td>\n",
       "      <td>1.340885e+09</td>\n",
       "      <td>0.0</td>\n",
       "      <td>2236.013184</td>\n",
       "      <td>0.0</td>\n",
       "      <td>0.000000</td>\n",
       "      <td>28.967354</td>\n",
       "      <td>-13.537838</td>\n",
       "      <td>-1.0</td>\n",
       "      <td>gfw</td>\n",
       "    </tr>\n",
       "  </tbody>\n",
       "</table>\n",
       "</div>"
      ],
      "text/plain": [
       "           mmsi     timestamp  distance_from_shore  distance_from_port  speed  \\\n",
       "0  1.848346e+13  1.340882e+09                  0.0         2236.013184    0.0   \n",
       "1  1.848346e+13  1.340884e+09                  0.0         2236.013184    0.0   \n",
       "2  1.848346e+13  1.340885e+09                  0.0         2236.013184    0.0   \n",
       "\n",
       "       course        lat        lon  is_fishing source  \n",
       "0    0.000000  28.967354 -13.537797        -1.0    gfw  \n",
       "1  125.199997  28.967373 -13.537838        -1.0    gfw  \n",
       "2    0.000000  28.967354 -13.537838        -1.0    gfw  "
      ]
     },
     "execution_count": 17,
     "metadata": {},
     "output_type": "execute_result"
    }
   ],
   "source": [
    "pole.head(3)"
   ]
  },
  {
   "cell_type": "code",
   "execution_count": 18,
   "metadata": {},
   "outputs": [
    {
     "data": {
      "text/plain": [
       "6"
      ]
     },
     "execution_count": 18,
     "metadata": {},
     "output_type": "execute_result"
    }
   ],
   "source": [
    "pole['mmsi'].nunique()"
   ]
  },
  {
   "cell_type": "code",
   "execution_count": 19,
   "metadata": {},
   "outputs": [],
   "source": [
    "pole['type']='pole'"
   ]
  },
  {
   "cell_type": "code",
   "execution_count": 20,
   "metadata": {},
   "outputs": [
    {
     "data": {
      "text/plain": [
       "(1545323, 10)"
      ]
     },
     "execution_count": 20,
     "metadata": {},
     "output_type": "execute_result"
    }
   ],
   "source": [
    "seines = pd.read_csv('../raw_data/purse_seines.csv')\n",
    "seines.shape"
   ]
  },
  {
   "cell_type": "code",
   "execution_count": 21,
   "metadata": {},
   "outputs": [
    {
     "data": {
      "text/html": [
       "<div>\n",
       "<style scoped>\n",
       "    .dataframe tbody tr th:only-of-type {\n",
       "        vertical-align: middle;\n",
       "    }\n",
       "\n",
       "    .dataframe tbody tr th {\n",
       "        vertical-align: top;\n",
       "    }\n",
       "\n",
       "    .dataframe thead th {\n",
       "        text-align: right;\n",
       "    }\n",
       "</style>\n",
       "<table border=\"1\" class=\"dataframe\">\n",
       "  <thead>\n",
       "    <tr style=\"text-align: right;\">\n",
       "      <th></th>\n",
       "      <th>mmsi</th>\n",
       "      <th>timestamp</th>\n",
       "      <th>distance_from_shore</th>\n",
       "      <th>distance_from_port</th>\n",
       "      <th>speed</th>\n",
       "      <th>course</th>\n",
       "      <th>lat</th>\n",
       "      <th>lon</th>\n",
       "      <th>is_fishing</th>\n",
       "      <th>source</th>\n",
       "    </tr>\n",
       "  </thead>\n",
       "  <tbody>\n",
       "    <tr>\n",
       "      <th>0</th>\n",
       "      <td>9.924005e+12</td>\n",
       "      <td>1.379601e+09</td>\n",
       "      <td>0.0</td>\n",
       "      <td>1414.178833</td>\n",
       "      <td>0.0</td>\n",
       "      <td>298.500000</td>\n",
       "      <td>8.861500</td>\n",
       "      <td>-79.668427</td>\n",
       "      <td>-1.0</td>\n",
       "      <td>false_positives</td>\n",
       "    </tr>\n",
       "    <tr>\n",
       "      <th>1</th>\n",
       "      <td>9.924005e+12</td>\n",
       "      <td>1.379602e+09</td>\n",
       "      <td>0.0</td>\n",
       "      <td>1414.178833</td>\n",
       "      <td>0.0</td>\n",
       "      <td>298.500000</td>\n",
       "      <td>8.861506</td>\n",
       "      <td>-79.668442</td>\n",
       "      <td>-1.0</td>\n",
       "      <td>false_positives</td>\n",
       "    </tr>\n",
       "    <tr>\n",
       "      <th>2</th>\n",
       "      <td>9.924005e+12</td>\n",
       "      <td>1.379604e+09</td>\n",
       "      <td>0.0</td>\n",
       "      <td>1414.178833</td>\n",
       "      <td>0.1</td>\n",
       "      <td>128.399994</td>\n",
       "      <td>8.861511</td>\n",
       "      <td>-79.668488</td>\n",
       "      <td>-1.0</td>\n",
       "      <td>false_positives</td>\n",
       "    </tr>\n",
       "  </tbody>\n",
       "</table>\n",
       "</div>"
      ],
      "text/plain": [
       "           mmsi     timestamp  distance_from_shore  distance_from_port  speed  \\\n",
       "0  9.924005e+12  1.379601e+09                  0.0         1414.178833    0.0   \n",
       "1  9.924005e+12  1.379602e+09                  0.0         1414.178833    0.0   \n",
       "2  9.924005e+12  1.379604e+09                  0.0         1414.178833    0.1   \n",
       "\n",
       "       course       lat        lon  is_fishing           source  \n",
       "0  298.500000  8.861500 -79.668427        -1.0  false_positives  \n",
       "1  298.500000  8.861506 -79.668442        -1.0  false_positives  \n",
       "2  128.399994  8.861511 -79.668488        -1.0  false_positives  "
      ]
     },
     "execution_count": 21,
     "metadata": {},
     "output_type": "execute_result"
    }
   ],
   "source": [
    "seines.head(3)"
   ]
  },
  {
   "cell_type": "code",
   "execution_count": 22,
   "metadata": {},
   "outputs": [
    {
     "data": {
      "text/plain": [
       "28"
      ]
     },
     "execution_count": 22,
     "metadata": {},
     "output_type": "execute_result"
    }
   ],
   "source": [
    "seines['mmsi'].nunique()"
   ]
  },
  {
   "cell_type": "code",
   "execution_count": 23,
   "metadata": {},
   "outputs": [],
   "source": [
    "seines['type']='seines'"
   ]
  },
  {
   "cell_type": "code",
   "execution_count": 24,
   "metadata": {},
   "outputs": [
    {
     "data": {
      "text/plain": [
       "(166243, 10)"
      ]
     },
     "execution_count": 24,
     "metadata": {},
     "output_type": "execute_result"
    }
   ],
   "source": [
    "trollers = pd.read_csv('../raw_data/trollers.csv')\n",
    "trollers.shape"
   ]
  },
  {
   "cell_type": "code",
   "execution_count": 25,
   "metadata": {},
   "outputs": [
    {
     "data": {
      "text/html": [
       "<div>\n",
       "<style scoped>\n",
       "    .dataframe tbody tr th:only-of-type {\n",
       "        vertical-align: middle;\n",
       "    }\n",
       "\n",
       "    .dataframe tbody tr th {\n",
       "        vertical-align: top;\n",
       "    }\n",
       "\n",
       "    .dataframe thead th {\n",
       "        text-align: right;\n",
       "    }\n",
       "</style>\n",
       "<table border=\"1\" class=\"dataframe\">\n",
       "  <thead>\n",
       "    <tr style=\"text-align: right;\">\n",
       "      <th></th>\n",
       "      <th>mmsi</th>\n",
       "      <th>timestamp</th>\n",
       "      <th>distance_from_shore</th>\n",
       "      <th>distance_from_port</th>\n",
       "      <th>speed</th>\n",
       "      <th>course</th>\n",
       "      <th>lat</th>\n",
       "      <th>lon</th>\n",
       "      <th>is_fishing</th>\n",
       "      <th>source</th>\n",
       "    </tr>\n",
       "  </thead>\n",
       "  <tbody>\n",
       "    <tr>\n",
       "      <th>0</th>\n",
       "      <td>7.652701e+13</td>\n",
       "      <td>1.337836e+09</td>\n",
       "      <td>0.0</td>\n",
       "      <td>3162.200195</td>\n",
       "      <td>0.0</td>\n",
       "      <td>0.000000</td>\n",
       "      <td>51.887592</td>\n",
       "      <td>4.356583</td>\n",
       "      <td>-1.0</td>\n",
       "      <td>gfw</td>\n",
       "    </tr>\n",
       "    <tr>\n",
       "      <th>1</th>\n",
       "      <td>7.652701e+13</td>\n",
       "      <td>1.338199e+09</td>\n",
       "      <td>0.0</td>\n",
       "      <td>4999.877441</td>\n",
       "      <td>0.0</td>\n",
       "      <td>0.000000</td>\n",
       "      <td>51.242130</td>\n",
       "      <td>4.403008</td>\n",
       "      <td>-1.0</td>\n",
       "      <td>gfw</td>\n",
       "    </tr>\n",
       "    <tr>\n",
       "      <th>2</th>\n",
       "      <td>7.652701e+13</td>\n",
       "      <td>1.343752e+09</td>\n",
       "      <td>0.0</td>\n",
       "      <td>66308.250000</td>\n",
       "      <td>8.6</td>\n",
       "      <td>292.200012</td>\n",
       "      <td>51.960873</td>\n",
       "      <td>5.196125</td>\n",
       "      <td>-1.0</td>\n",
       "      <td>gfw</td>\n",
       "    </tr>\n",
       "  </tbody>\n",
       "</table>\n",
       "</div>"
      ],
      "text/plain": [
       "           mmsi     timestamp  distance_from_shore  distance_from_port  speed  \\\n",
       "0  7.652701e+13  1.337836e+09                  0.0         3162.200195    0.0   \n",
       "1  7.652701e+13  1.338199e+09                  0.0         4999.877441    0.0   \n",
       "2  7.652701e+13  1.343752e+09                  0.0        66308.250000    8.6   \n",
       "\n",
       "       course        lat       lon  is_fishing source  \n",
       "0    0.000000  51.887592  4.356583        -1.0    gfw  \n",
       "1    0.000000  51.242130  4.403008        -1.0    gfw  \n",
       "2  292.200012  51.960873  5.196125        -1.0    gfw  "
      ]
     },
     "execution_count": 25,
     "metadata": {},
     "output_type": "execute_result"
    }
   ],
   "source": [
    "trollers.head(3)"
   ]
  },
  {
   "cell_type": "code",
   "execution_count": 26,
   "metadata": {},
   "outputs": [
    {
     "data": {
      "text/plain": [
       "5"
      ]
     },
     "execution_count": 26,
     "metadata": {},
     "output_type": "execute_result"
    }
   ],
   "source": [
    "trollers['mmsi'].nunique()"
   ]
  },
  {
   "cell_type": "code",
   "execution_count": 27,
   "metadata": {},
   "outputs": [],
   "source": [
    "trollers['type']='trollers'"
   ]
  },
  {
   "cell_type": "code",
   "execution_count": 28,
   "metadata": {},
   "outputs": [
    {
     "data": {
      "text/plain": [
       "(6811552, 10)"
      ]
     },
     "execution_count": 28,
     "metadata": {},
     "output_type": "execute_result"
    }
   ],
   "source": [
    "unknown = pd.read_csv('../raw_data/unknown.csv')\n",
    "unknown.shape"
   ]
  },
  {
   "cell_type": "code",
   "execution_count": 29,
   "metadata": {},
   "outputs": [
    {
     "data": {
      "text/html": [
       "<div>\n",
       "<style scoped>\n",
       "    .dataframe tbody tr th:only-of-type {\n",
       "        vertical-align: middle;\n",
       "    }\n",
       "\n",
       "    .dataframe tbody tr th {\n",
       "        vertical-align: top;\n",
       "    }\n",
       "\n",
       "    .dataframe thead th {\n",
       "        text-align: right;\n",
       "    }\n",
       "</style>\n",
       "<table border=\"1\" class=\"dataframe\">\n",
       "  <thead>\n",
       "    <tr style=\"text-align: right;\">\n",
       "      <th></th>\n",
       "      <th>mmsi</th>\n",
       "      <th>timestamp</th>\n",
       "      <th>distance_from_shore</th>\n",
       "      <th>distance_from_port</th>\n",
       "      <th>speed</th>\n",
       "      <th>course</th>\n",
       "      <th>lat</th>\n",
       "      <th>lon</th>\n",
       "      <th>is_fishing</th>\n",
       "      <th>source</th>\n",
       "    </tr>\n",
       "  </thead>\n",
       "  <tbody>\n",
       "    <tr>\n",
       "      <th>0</th>\n",
       "      <td>1.833071e+14</td>\n",
       "      <td>1.343786e+09</td>\n",
       "      <td>314242.1875</td>\n",
       "      <td>538727.93750</td>\n",
       "      <td>13.1</td>\n",
       "      <td>62.700001</td>\n",
       "      <td>2.230797</td>\n",
       "      <td>157.382812</td>\n",
       "      <td>-1.0</td>\n",
       "      <td>crowd_sourced</td>\n",
       "    </tr>\n",
       "    <tr>\n",
       "      <th>1</th>\n",
       "      <td>1.833071e+14</td>\n",
       "      <td>1.343786e+09</td>\n",
       "      <td>314242.1875</td>\n",
       "      <td>538727.93750</td>\n",
       "      <td>13.8</td>\n",
       "      <td>65.199997</td>\n",
       "      <td>2.232352</td>\n",
       "      <td>157.386047</td>\n",
       "      <td>-1.0</td>\n",
       "      <td>crowd_sourced</td>\n",
       "    </tr>\n",
       "    <tr>\n",
       "      <th>2</th>\n",
       "      <td>1.833071e+14</td>\n",
       "      <td>1.343792e+09</td>\n",
       "      <td>343947.9375</td>\n",
       "      <td>513526.09375</td>\n",
       "      <td>13.0</td>\n",
       "      <td>61.700001</td>\n",
       "      <td>2.410787</td>\n",
       "      <td>157.745605</td>\n",
       "      <td>-1.0</td>\n",
       "      <td>crowd_sourced</td>\n",
       "    </tr>\n",
       "  </tbody>\n",
       "</table>\n",
       "</div>"
      ],
      "text/plain": [
       "           mmsi     timestamp  distance_from_shore  distance_from_port  speed  \\\n",
       "0  1.833071e+14  1.343786e+09          314242.1875        538727.93750   13.1   \n",
       "1  1.833071e+14  1.343786e+09          314242.1875        538727.93750   13.8   \n",
       "2  1.833071e+14  1.343792e+09          343947.9375        513526.09375   13.0   \n",
       "\n",
       "      course       lat         lon  is_fishing         source  \n",
       "0  62.700001  2.230797  157.382812        -1.0  crowd_sourced  \n",
       "1  65.199997  2.232352  157.386047        -1.0  crowd_sourced  \n",
       "2  61.700001  2.410787  157.745605        -1.0  crowd_sourced  "
      ]
     },
     "execution_count": 29,
     "metadata": {},
     "output_type": "execute_result"
    }
   ],
   "source": [
    "unknown.head(3)"
   ]
  },
  {
   "cell_type": "code",
   "execution_count": 30,
   "metadata": {},
   "outputs": [
    {
     "data": {
      "text/plain": [
       "120"
      ]
     },
     "execution_count": 30,
     "metadata": {},
     "output_type": "execute_result"
    }
   ],
   "source": [
    "unknown['mmsi'].nunique()"
   ]
  },
  {
   "cell_type": "code",
   "execution_count": 31,
   "metadata": {},
   "outputs": [],
   "source": [
    "unknown['type']='unknown'"
   ]
  },
  {
   "cell_type": "code",
   "execution_count": 38,
   "metadata": {},
   "outputs": [
    {
     "data": {
      "text/html": [
       "<div>\n",
       "<style scoped>\n",
       "    .dataframe tbody tr th:only-of-type {\n",
       "        vertical-align: middle;\n",
       "    }\n",
       "\n",
       "    .dataframe tbody tr th {\n",
       "        vertical-align: top;\n",
       "    }\n",
       "\n",
       "    .dataframe thead th {\n",
       "        text-align: right;\n",
       "    }\n",
       "</style>\n",
       "<table border=\"1\" class=\"dataframe\">\n",
       "  <thead>\n",
       "    <tr style=\"text-align: right;\">\n",
       "      <th></th>\n",
       "      <th>mmsi</th>\n",
       "      <th>timestamp</th>\n",
       "      <th>distance_from_shore</th>\n",
       "      <th>distance_from_port</th>\n",
       "      <th>speed</th>\n",
       "      <th>course</th>\n",
       "      <th>lat</th>\n",
       "      <th>lon</th>\n",
       "      <th>is_fishing</th>\n",
       "      <th>source</th>\n",
       "      <th>type</th>\n",
       "    </tr>\n",
       "  </thead>\n",
       "  <tbody>\n",
       "    <tr>\n",
       "      <th>0</th>\n",
       "      <td>1.252340e+12</td>\n",
       "      <td>1.325376e+09</td>\n",
       "      <td>0.0</td>\n",
       "      <td>0.0</td>\n",
       "      <td>0.0</td>\n",
       "      <td>153.0</td>\n",
       "      <td>52.458649</td>\n",
       "      <td>4.581200</td>\n",
       "      <td>-1.0</td>\n",
       "      <td>gfw</td>\n",
       "      <td>trawlers</td>\n",
       "    </tr>\n",
       "    <tr>\n",
       "      <th>1</th>\n",
       "      <td>1.252340e+12</td>\n",
       "      <td>1.325378e+09</td>\n",
       "      <td>0.0</td>\n",
       "      <td>0.0</td>\n",
       "      <td>0.0</td>\n",
       "      <td>153.0</td>\n",
       "      <td>52.458668</td>\n",
       "      <td>4.581167</td>\n",
       "      <td>-1.0</td>\n",
       "      <td>gfw</td>\n",
       "      <td>trawlers</td>\n",
       "    </tr>\n",
       "    <tr>\n",
       "      <th>2</th>\n",
       "      <td>1.252340e+12</td>\n",
       "      <td>1.325379e+09</td>\n",
       "      <td>0.0</td>\n",
       "      <td>0.0</td>\n",
       "      <td>0.0</td>\n",
       "      <td>153.0</td>\n",
       "      <td>52.458633</td>\n",
       "      <td>4.581183</td>\n",
       "      <td>-1.0</td>\n",
       "      <td>gfw</td>\n",
       "      <td>trawlers</td>\n",
       "    </tr>\n",
       "  </tbody>\n",
       "</table>\n",
       "</div>"
      ],
      "text/plain": [
       "           mmsi     timestamp  distance_from_shore  distance_from_port  speed  \\\n",
       "0  1.252340e+12  1.325376e+09                  0.0                 0.0    0.0   \n",
       "1  1.252340e+12  1.325378e+09                  0.0                 0.0    0.0   \n",
       "2  1.252340e+12  1.325379e+09                  0.0                 0.0    0.0   \n",
       "\n",
       "   course        lat       lon  is_fishing source      type  \n",
       "0   153.0  52.458649  4.581200        -1.0    gfw  trawlers  \n",
       "1   153.0  52.458668  4.581167        -1.0    gfw  trawlers  \n",
       "2   153.0  52.458633  4.581183        -1.0    gfw  trawlers  "
      ]
     },
     "execution_count": 38,
     "metadata": {},
     "output_type": "execute_result"
    }
   ],
   "source": [
    "list_dfs = [trawlers, longlines, gear, pole, seines, trollers, unknown]\n",
    "df = pd.concat(list_dfs)\n",
    "df.head(3)"
   ]
  },
  {
   "cell_type": "code",
   "execution_count": 39,
   "metadata": {},
   "outputs": [
    {
     "data": {
      "text/plain": [
       "354"
      ]
     },
     "execution_count": 39,
     "metadata": {},
     "output_type": "execute_result"
    }
   ],
   "source": [
    "df['mmsi'].nunique()"
   ]
  },
  {
   "cell_type": "code",
   "execution_count": 40,
   "metadata": {},
   "outputs": [],
   "source": [
    "from sklearn.preprocessing import OneHotEncoder\n",
    "import numpy as np\n",
    "\n",
    "# Instantiate the OneHotEncoder\n",
    "ohe = OneHotEncoder(sparse_output =False)\n",
    "\n",
    "# Fit encoder\n",
    "ohe.fit(df[['type']])\n",
    "\n",
    "# Transform the current \"Alley\" column\n",
    "df[ohe.get_feature_names_out()] = ohe.transform(df[['type']])\n",
    "\n",
    "# Drop the column \"Alley\" which has been encoded\n",
    "df.drop(columns = [\"type\"], inplace = True)"
   ]
  },
  {
   "cell_type": "markdown",
   "metadata": {},
   "source": []
  },
  {
   "cell_type": "code",
   "execution_count": 41,
   "metadata": {},
   "outputs": [
    {
     "data": {
      "text/html": [
       "<div>\n",
       "<style scoped>\n",
       "    .dataframe tbody tr th:only-of-type {\n",
       "        vertical-align: middle;\n",
       "    }\n",
       "\n",
       "    .dataframe tbody tr th {\n",
       "        vertical-align: top;\n",
       "    }\n",
       "\n",
       "    .dataframe thead th {\n",
       "        text-align: right;\n",
       "    }\n",
       "</style>\n",
       "<table border=\"1\" class=\"dataframe\">\n",
       "  <thead>\n",
       "    <tr style=\"text-align: right;\">\n",
       "      <th></th>\n",
       "      <th>mmsi</th>\n",
       "      <th>timestamp</th>\n",
       "      <th>distance_from_shore</th>\n",
       "      <th>distance_from_port</th>\n",
       "      <th>speed</th>\n",
       "      <th>course</th>\n",
       "      <th>lat</th>\n",
       "      <th>lon</th>\n",
       "      <th>is_fishing</th>\n",
       "      <th>source</th>\n",
       "      <th>type_gear</th>\n",
       "      <th>type_longlines</th>\n",
       "      <th>type_pole</th>\n",
       "      <th>type_seines</th>\n",
       "      <th>type_trawlers</th>\n",
       "      <th>type_trollers</th>\n",
       "      <th>type_unknown</th>\n",
       "    </tr>\n",
       "  </thead>\n",
       "  <tbody>\n",
       "    <tr>\n",
       "      <th>0</th>\n",
       "      <td>1.252340e+12</td>\n",
       "      <td>1.325376e+09</td>\n",
       "      <td>0.0</td>\n",
       "      <td>0.0</td>\n",
       "      <td>0.0</td>\n",
       "      <td>153.0</td>\n",
       "      <td>52.458649</td>\n",
       "      <td>4.581200</td>\n",
       "      <td>-1.0</td>\n",
       "      <td>gfw</td>\n",
       "      <td>0.0</td>\n",
       "      <td>0.0</td>\n",
       "      <td>0.0</td>\n",
       "      <td>0.0</td>\n",
       "      <td>1.0</td>\n",
       "      <td>0.0</td>\n",
       "      <td>0.0</td>\n",
       "    </tr>\n",
       "    <tr>\n",
       "      <th>1</th>\n",
       "      <td>1.252340e+12</td>\n",
       "      <td>1.325378e+09</td>\n",
       "      <td>0.0</td>\n",
       "      <td>0.0</td>\n",
       "      <td>0.0</td>\n",
       "      <td>153.0</td>\n",
       "      <td>52.458668</td>\n",
       "      <td>4.581167</td>\n",
       "      <td>-1.0</td>\n",
       "      <td>gfw</td>\n",
       "      <td>0.0</td>\n",
       "      <td>0.0</td>\n",
       "      <td>0.0</td>\n",
       "      <td>0.0</td>\n",
       "      <td>1.0</td>\n",
       "      <td>0.0</td>\n",
       "      <td>0.0</td>\n",
       "    </tr>\n",
       "    <tr>\n",
       "      <th>2</th>\n",
       "      <td>1.252340e+12</td>\n",
       "      <td>1.325379e+09</td>\n",
       "      <td>0.0</td>\n",
       "      <td>0.0</td>\n",
       "      <td>0.0</td>\n",
       "      <td>153.0</td>\n",
       "      <td>52.458633</td>\n",
       "      <td>4.581183</td>\n",
       "      <td>-1.0</td>\n",
       "      <td>gfw</td>\n",
       "      <td>0.0</td>\n",
       "      <td>0.0</td>\n",
       "      <td>0.0</td>\n",
       "      <td>0.0</td>\n",
       "      <td>1.0</td>\n",
       "      <td>0.0</td>\n",
       "      <td>0.0</td>\n",
       "    </tr>\n",
       "  </tbody>\n",
       "</table>\n",
       "</div>"
      ],
      "text/plain": [
       "           mmsi     timestamp  distance_from_shore  distance_from_port  speed  \\\n",
       "0  1.252340e+12  1.325376e+09                  0.0                 0.0    0.0   \n",
       "1  1.252340e+12  1.325378e+09                  0.0                 0.0    0.0   \n",
       "2  1.252340e+12  1.325379e+09                  0.0                 0.0    0.0   \n",
       "\n",
       "   course        lat       lon  is_fishing source  type_gear  type_longlines  \\\n",
       "0   153.0  52.458649  4.581200        -1.0    gfw        0.0             0.0   \n",
       "1   153.0  52.458668  4.581167        -1.0    gfw        0.0             0.0   \n",
       "2   153.0  52.458633  4.581183        -1.0    gfw        0.0             0.0   \n",
       "\n",
       "   type_pole  type_seines  type_trawlers  type_trollers  type_unknown  \n",
       "0        0.0          0.0            1.0            0.0           0.0  \n",
       "1        0.0          0.0            1.0            0.0           0.0  \n",
       "2        0.0          0.0            1.0            0.0           0.0  "
      ]
     },
     "execution_count": 41,
     "metadata": {},
     "output_type": "execute_result"
    }
   ],
   "source": [
    "df.head(3)"
   ]
  },
  {
   "cell_type": "code",
   "execution_count": 42,
   "metadata": {},
   "outputs": [
    {
     "data": {
      "text/html": [
       "<div>\n",
       "<style scoped>\n",
       "    .dataframe tbody tr th:only-of-type {\n",
       "        vertical-align: middle;\n",
       "    }\n",
       "\n",
       "    .dataframe tbody tr th {\n",
       "        vertical-align: top;\n",
       "    }\n",
       "\n",
       "    .dataframe thead th {\n",
       "        text-align: right;\n",
       "    }\n",
       "</style>\n",
       "<table border=\"1\" class=\"dataframe\">\n",
       "  <thead>\n",
       "    <tr style=\"text-align: right;\">\n",
       "      <th></th>\n",
       "      <th>mmsi</th>\n",
       "      <th>timestamp</th>\n",
       "      <th>distance_from_shore</th>\n",
       "      <th>distance_from_port</th>\n",
       "      <th>speed</th>\n",
       "      <th>course</th>\n",
       "      <th>lat</th>\n",
       "      <th>lon</th>\n",
       "      <th>is_fishing</th>\n",
       "      <th>type_gear</th>\n",
       "      <th>type_longlines</th>\n",
       "      <th>type_pole</th>\n",
       "      <th>type_seines</th>\n",
       "      <th>type_trawlers</th>\n",
       "      <th>type_trollers</th>\n",
       "      <th>type_unknown</th>\n",
       "    </tr>\n",
       "  </thead>\n",
       "  <tbody>\n",
       "    <tr>\n",
       "      <th>0</th>\n",
       "      <td>1.252340e+12</td>\n",
       "      <td>1.325376e+09</td>\n",
       "      <td>0.0</td>\n",
       "      <td>0.0</td>\n",
       "      <td>0.0</td>\n",
       "      <td>153.0</td>\n",
       "      <td>52.458649</td>\n",
       "      <td>4.581200</td>\n",
       "      <td>-1.0</td>\n",
       "      <td>0.0</td>\n",
       "      <td>0.0</td>\n",
       "      <td>0.0</td>\n",
       "      <td>0.0</td>\n",
       "      <td>1.0</td>\n",
       "      <td>0.0</td>\n",
       "      <td>0.0</td>\n",
       "    </tr>\n",
       "    <tr>\n",
       "      <th>1</th>\n",
       "      <td>1.252340e+12</td>\n",
       "      <td>1.325378e+09</td>\n",
       "      <td>0.0</td>\n",
       "      <td>0.0</td>\n",
       "      <td>0.0</td>\n",
       "      <td>153.0</td>\n",
       "      <td>52.458668</td>\n",
       "      <td>4.581167</td>\n",
       "      <td>-1.0</td>\n",
       "      <td>0.0</td>\n",
       "      <td>0.0</td>\n",
       "      <td>0.0</td>\n",
       "      <td>0.0</td>\n",
       "      <td>1.0</td>\n",
       "      <td>0.0</td>\n",
       "      <td>0.0</td>\n",
       "    </tr>\n",
       "    <tr>\n",
       "      <th>2</th>\n",
       "      <td>1.252340e+12</td>\n",
       "      <td>1.325379e+09</td>\n",
       "      <td>0.0</td>\n",
       "      <td>0.0</td>\n",
       "      <td>0.0</td>\n",
       "      <td>153.0</td>\n",
       "      <td>52.458633</td>\n",
       "      <td>4.581183</td>\n",
       "      <td>-1.0</td>\n",
       "      <td>0.0</td>\n",
       "      <td>0.0</td>\n",
       "      <td>0.0</td>\n",
       "      <td>0.0</td>\n",
       "      <td>1.0</td>\n",
       "      <td>0.0</td>\n",
       "      <td>0.0</td>\n",
       "    </tr>\n",
       "  </tbody>\n",
       "</table>\n",
       "</div>"
      ],
      "text/plain": [
       "           mmsi     timestamp  distance_from_shore  distance_from_port  speed  \\\n",
       "0  1.252340e+12  1.325376e+09                  0.0                 0.0    0.0   \n",
       "1  1.252340e+12  1.325378e+09                  0.0                 0.0    0.0   \n",
       "2  1.252340e+12  1.325379e+09                  0.0                 0.0    0.0   \n",
       "\n",
       "   course        lat       lon  is_fishing  type_gear  type_longlines  \\\n",
       "0   153.0  52.458649  4.581200        -1.0        0.0             0.0   \n",
       "1   153.0  52.458668  4.581167        -1.0        0.0             0.0   \n",
       "2   153.0  52.458633  4.581183        -1.0        0.0             0.0   \n",
       "\n",
       "   type_pole  type_seines  type_trawlers  type_trollers  type_unknown  \n",
       "0        0.0          0.0            1.0            0.0           0.0  \n",
       "1        0.0          0.0            1.0            0.0           0.0  \n",
       "2        0.0          0.0            1.0            0.0           0.0  "
      ]
     },
     "execution_count": 42,
     "metadata": {},
     "output_type": "execute_result"
    }
   ],
   "source": [
    "df.drop(columns=['source'], inplace=True)\n",
    "df.head(3)"
   ]
  },
  {
   "cell_type": "code",
   "execution_count": 44,
   "metadata": {},
   "outputs": [],
   "source": [
    "df_fishing = df.loc[df['is_fishing'] > -1]"
   ]
  },
  {
   "cell_type": "code",
   "execution_count": 45,
   "metadata": {},
   "outputs": [
    {
     "data": {
      "text/plain": [
       "is_fishing\n",
       "0.000000    295979\n",
       "1.000000    247498\n",
       "0.666667      4806\n",
       "0.333333      4096\n",
       "0.750000       752\n",
       "0.250000       670\n",
       "0.800000        33\n",
       "0.166667        12\n",
       "0.400000         9\n",
       "Name: count, dtype: int64"
      ]
     },
     "execution_count": 45,
     "metadata": {},
     "output_type": "execute_result"
    }
   ],
   "source": [
    "df_fishing['is_fishing'].value_counts()"
   ]
  },
  {
   "cell_type": "code",
   "execution_count": 46,
   "metadata": {},
   "outputs": [
    {
     "name": "stderr",
     "output_type": "stream",
     "text": [
      "/var/folders/jp/3hlxbh4x1mb0k2qwf5fmzyp80000gp/T/ipykernel_78188/3636107561.py:1: SettingWithCopyWarning: \n",
      "A value is trying to be set on a copy of a slice from a DataFrame.\n",
      "Try using .loc[row_indexer,col_indexer] = value instead\n",
      "\n",
      "See the caveats in the documentation: https://pandas.pydata.org/pandas-docs/stable/user_guide/indexing.html#returning-a-view-versus-a-copy\n",
      "  df_fishing['is_fishing'] = round(df_fishing['is_fishing'])\n"
     ]
    }
   ],
   "source": [
    "df_fishing['is_fishing'] = round(df_fishing['is_fishing'])"
   ]
  },
  {
   "cell_type": "code",
   "execution_count": 47,
   "metadata": {},
   "outputs": [
    {
     "data": {
      "text/plain": [
       "is_fishing\n",
       "0.0    300766\n",
       "1.0    253089\n",
       "Name: count, dtype: int64"
      ]
     },
     "execution_count": 47,
     "metadata": {},
     "output_type": "execute_result"
    }
   ],
   "source": [
    "df_fishing['is_fishing'].value_counts()"
   ]
  },
  {
   "cell_type": "code",
   "execution_count": null,
   "metadata": {},
   "outputs": [],
   "source": []
  }
 ],
 "metadata": {
  "kernelspec": {
   "display_name": "fishing_classification",
   "language": "python",
   "name": "python3"
  },
  "language_info": {
   "codemirror_mode": {
    "name": "ipython",
    "version": 3
   },
   "file_extension": ".py",
   "mimetype": "text/x-python",
   "name": "python",
   "nbconvert_exporter": "python",
   "pygments_lexer": "ipython3",
   "version": "3.10.6"
  },
  "orig_nbformat": 4
 },
 "nbformat": 4,
 "nbformat_minor": 2
}
