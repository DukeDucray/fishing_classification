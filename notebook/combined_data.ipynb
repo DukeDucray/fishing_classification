{
 "cells": [
  {
   "cell_type": "code",
   "execution_count": 1,
   "metadata": {},
   "outputs": [],
   "source": [
    "import pandas as pd"
   ]
  },
  {
   "cell_type": "code",
   "execution_count": 5,
   "metadata": {},
   "outputs": [
    {
     "data": {
      "text/html": [
       "<div>\n",
       "<style scoped>\n",
       "    .dataframe tbody tr th:only-of-type {\n",
       "        vertical-align: middle;\n",
       "    }\n",
       "\n",
       "    .dataframe tbody tr th {\n",
       "        vertical-align: top;\n",
       "    }\n",
       "\n",
       "    .dataframe thead th {\n",
       "        text-align: right;\n",
       "    }\n",
       "</style>\n",
       "<table border=\"1\" class=\"dataframe\">\n",
       "  <thead>\n",
       "    <tr style=\"text-align: right;\">\n",
       "      <th></th>\n",
       "      <th>mmsi</th>\n",
       "      <th>timestamp</th>\n",
       "      <th>distance_from_shore</th>\n",
       "      <th>distance_from_port</th>\n",
       "      <th>speed</th>\n",
       "      <th>course</th>\n",
       "      <th>lat</th>\n",
       "      <th>lon</th>\n",
       "      <th>is_fishing</th>\n",
       "      <th>source</th>\n",
       "      <th>type</th>\n",
       "    </tr>\n",
       "  </thead>\n",
       "  <tbody>\n",
       "    <tr>\n",
       "      <th>0</th>\n",
       "      <td>1.252340e+12</td>\n",
       "      <td>1.325376e+09</td>\n",
       "      <td>0.0</td>\n",
       "      <td>0.0</td>\n",
       "      <td>0.0</td>\n",
       "      <td>153.0</td>\n",
       "      <td>52.458649</td>\n",
       "      <td>4.581200</td>\n",
       "      <td>-1.0</td>\n",
       "      <td>gfw</td>\n",
       "      <td>trawlers</td>\n",
       "    </tr>\n",
       "    <tr>\n",
       "      <th>1</th>\n",
       "      <td>1.252340e+12</td>\n",
       "      <td>1.325378e+09</td>\n",
       "      <td>0.0</td>\n",
       "      <td>0.0</td>\n",
       "      <td>0.0</td>\n",
       "      <td>153.0</td>\n",
       "      <td>52.458668</td>\n",
       "      <td>4.581167</td>\n",
       "      <td>-1.0</td>\n",
       "      <td>gfw</td>\n",
       "      <td>trawlers</td>\n",
       "    </tr>\n",
       "    <tr>\n",
       "      <th>2</th>\n",
       "      <td>1.252340e+12</td>\n",
       "      <td>1.325379e+09</td>\n",
       "      <td>0.0</td>\n",
       "      <td>0.0</td>\n",
       "      <td>0.0</td>\n",
       "      <td>153.0</td>\n",
       "      <td>52.458633</td>\n",
       "      <td>4.581183</td>\n",
       "      <td>-1.0</td>\n",
       "      <td>gfw</td>\n",
       "      <td>trawlers</td>\n",
       "    </tr>\n",
       "  </tbody>\n",
       "</table>\n",
       "</div>"
      ],
      "text/plain": [
       "           mmsi     timestamp  distance_from_shore  distance_from_port  speed  \\\n",
       "0  1.252340e+12  1.325376e+09                  0.0                 0.0    0.0   \n",
       "1  1.252340e+12  1.325378e+09                  0.0                 0.0    0.0   \n",
       "2  1.252340e+12  1.325379e+09                  0.0                 0.0    0.0   \n",
       "\n",
       "   course        lat       lon  is_fishing source      type  \n",
       "0   153.0  52.458649  4.581200        -1.0    gfw  trawlers  \n",
       "1   153.0  52.458668  4.581167        -1.0    gfw  trawlers  \n",
       "2   153.0  52.458633  4.581183        -1.0    gfw  trawlers  "
      ]
     },
     "execution_count": 5,
     "metadata": {},
     "output_type": "execute_result"
    }
   ],
   "source": [
    "def get_data(path, file_names):\n",
    "    tables=[]\n",
    "    for file_name in file_names:\n",
    "        table = pd.read_csv(f'../{path}/{file_name}.csv')\n",
    "        table['type']=f'{file_name}'\n",
    "        tables.append(table)\n",
    "    return pd.concat(tables)\n",
    "\n",
    "path='data/raw_data'\n",
    "file_names = ['trawlers', 'drifting_longlines', 'fixed_gear', 'pole_and_line', 'purse_seines', 'trollers', 'unknown']\n",
    "df = get_data(path, file_names)\n",
    "df.head(3)"
   ]
  },
  {
   "cell_type": "code",
   "execution_count": 6,
   "metadata": {},
   "outputs": [],
   "source": [
    "df.drop(columns = ['is_fishing', 'source', 'type'], axis=1, inplace=True)"
   ]
  },
  {
   "cell_type": "code",
   "execution_count": 7,
   "metadata": {},
   "outputs": [
    {
     "data": {
      "text/html": [
       "<div>\n",
       "<style scoped>\n",
       "    .dataframe tbody tr th:only-of-type {\n",
       "        vertical-align: middle;\n",
       "    }\n",
       "\n",
       "    .dataframe tbody tr th {\n",
       "        vertical-align: top;\n",
       "    }\n",
       "\n",
       "    .dataframe thead th {\n",
       "        text-align: right;\n",
       "    }\n",
       "</style>\n",
       "<table border=\"1\" class=\"dataframe\">\n",
       "  <thead>\n",
       "    <tr style=\"text-align: right;\">\n",
       "      <th></th>\n",
       "      <th>mmsi</th>\n",
       "      <th>timestamp</th>\n",
       "      <th>distance_from_shore</th>\n",
       "      <th>distance_from_port</th>\n",
       "      <th>speed</th>\n",
       "      <th>course</th>\n",
       "      <th>lat</th>\n",
       "      <th>lon</th>\n",
       "    </tr>\n",
       "  </thead>\n",
       "  <tbody>\n",
       "    <tr>\n",
       "      <th>0</th>\n",
       "      <td>1.252340e+12</td>\n",
       "      <td>1.325376e+09</td>\n",
       "      <td>0.0</td>\n",
       "      <td>0.0</td>\n",
       "      <td>0.0</td>\n",
       "      <td>153.0</td>\n",
       "      <td>52.458649</td>\n",
       "      <td>4.581200</td>\n",
       "    </tr>\n",
       "    <tr>\n",
       "      <th>1</th>\n",
       "      <td>1.252340e+12</td>\n",
       "      <td>1.325378e+09</td>\n",
       "      <td>0.0</td>\n",
       "      <td>0.0</td>\n",
       "      <td>0.0</td>\n",
       "      <td>153.0</td>\n",
       "      <td>52.458668</td>\n",
       "      <td>4.581167</td>\n",
       "    </tr>\n",
       "  </tbody>\n",
       "</table>\n",
       "</div>"
      ],
      "text/plain": [
       "           mmsi     timestamp  distance_from_shore  distance_from_port  speed  \\\n",
       "0  1.252340e+12  1.325376e+09                  0.0                 0.0    0.0   \n",
       "1  1.252340e+12  1.325378e+09                  0.0                 0.0    0.0   \n",
       "\n",
       "   course        lat       lon  \n",
       "0   153.0  52.458649  4.581200  \n",
       "1   153.0  52.458668  4.581167  "
      ]
     },
     "execution_count": 7,
     "metadata": {},
     "output_type": "execute_result"
    }
   ],
   "source": [
    "df.head(2)"
   ]
  },
  {
   "cell_type": "code",
   "execution_count": 10,
   "metadata": {},
   "outputs": [],
   "source": [
    "# Calculate the value counts of 'mmsi'\n",
    "mmsi_counts = df['mmsi'].value_counts()\n",
    "\n",
    "# Create a boolean mask for filtering mmsi values with counts less than or equal to 10\n",
    "mask = mmsi_counts > 5\n",
    "\n",
    "# Get the mmsi values that meet the condition\n",
    "selected_mmsi = mmsi_counts[mask].index\n",
    "\n",
    "# Use the isin() method to filter the DataFrame based on selected_mmsi\n",
    "filtered = df[df['mmsi'].isin(selected_mmsi)]"
   ]
  },
  {
   "cell_type": "code",
   "execution_count": 11,
   "metadata": {},
   "outputs": [],
   "source": [
    "output_folder = '../data/preprocessed'\n",
    "output_file = 'combined_only.csv'\n",
    "\n",
    "# Construct the full path\n",
    "output_path = f'{output_folder}/{output_file}'\n",
    "\n",
    "# Save the DataFrame to the specified path\n",
    "df.to_csv(output_path, index=False)"
   ]
  },
  {
   "cell_type": "code",
   "execution_count": null,
   "metadata": {},
   "outputs": [],
   "source": []
  }
 ],
 "metadata": {
  "kernelspec": {
   "display_name": "fishing_classification",
   "language": "python",
   "name": "python3"
  },
  "language_info": {
   "codemirror_mode": {
    "name": "ipython",
    "version": 3
   },
   "file_extension": ".py",
   "mimetype": "text/x-python",
   "name": "python",
   "nbconvert_exporter": "python",
   "pygments_lexer": "ipython3",
   "version": "3.10.6"
  },
  "orig_nbformat": 4
 },
 "nbformat": 4,
 "nbformat_minor": 2
}
